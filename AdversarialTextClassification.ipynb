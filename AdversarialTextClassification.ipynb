{
  "nbformat": 4,
  "nbformat_minor": 0,
  "metadata": {
    "colab": {
      "provenance": [],
      "gpuType": "T4"
    },
    "kernelspec": {
      "name": "python3",
      "display_name": "Python 3"
    },
    "language_info": {
      "name": "python"
    },
    "accelerator": "GPU",
    "widgets": {
      "application/vnd.jupyter.widget-state+json": {
        "22bed7c88fb64300bcb5a2498c2b15ff": {
          "model_module": "@jupyter-widgets/controls",
          "model_name": "HBoxModel",
          "model_module_version": "1.5.0",
          "state": {
            "_dom_classes": [],
            "_model_module": "@jupyter-widgets/controls",
            "_model_module_version": "1.5.0",
            "_model_name": "HBoxModel",
            "_view_count": null,
            "_view_module": "@jupyter-widgets/controls",
            "_view_module_version": "1.5.0",
            "_view_name": "HBoxView",
            "box_style": "",
            "children": [
              "IPY_MODEL_ab3c2fb4576a4377a5a6f792a2ef281b",
              "IPY_MODEL_3a04645b888344c79072d9c7d38059a7",
              "IPY_MODEL_78341892e4f641c1ae3d4f62c76b5b55"
            ],
            "layout": "IPY_MODEL_3dc9954a19164450a903466d64e9ae68"
          }
        },
        "ab3c2fb4576a4377a5a6f792a2ef281b": {
          "model_module": "@jupyter-widgets/controls",
          "model_name": "HTMLModel",
          "model_module_version": "1.5.0",
          "state": {
            "_dom_classes": [],
            "_model_module": "@jupyter-widgets/controls",
            "_model_module_version": "1.5.0",
            "_model_name": "HTMLModel",
            "_view_count": null,
            "_view_module": "@jupyter-widgets/controls",
            "_view_module_version": "1.5.0",
            "_view_name": "HTMLView",
            "description": "",
            "description_tooltip": null,
            "layout": "IPY_MODEL_0ee7ef74a2bf4d529730ee4ab4b6934e",
            "placeholder": "​",
            "style": "IPY_MODEL_a969cab1bc354116b1abfc9afaec5fd6",
            "value": "Map: 100%"
          }
        },
        "3a04645b888344c79072d9c7d38059a7": {
          "model_module": "@jupyter-widgets/controls",
          "model_name": "FloatProgressModel",
          "model_module_version": "1.5.0",
          "state": {
            "_dom_classes": [],
            "_model_module": "@jupyter-widgets/controls",
            "_model_module_version": "1.5.0",
            "_model_name": "FloatProgressModel",
            "_view_count": null,
            "_view_module": "@jupyter-widgets/controls",
            "_view_module_version": "1.5.0",
            "_view_name": "ProgressView",
            "bar_style": "success",
            "description": "",
            "description_tooltip": null,
            "layout": "IPY_MODEL_ab00be22992448dc817a1f0d5b774d4b",
            "max": 1201,
            "min": 0,
            "orientation": "horizontal",
            "style": "IPY_MODEL_894685abf9d7429fafc1e60b57fbc303",
            "value": 1201
          }
        },
        "78341892e4f641c1ae3d4f62c76b5b55": {
          "model_module": "@jupyter-widgets/controls",
          "model_name": "HTMLModel",
          "model_module_version": "1.5.0",
          "state": {
            "_dom_classes": [],
            "_model_module": "@jupyter-widgets/controls",
            "_model_module_version": "1.5.0",
            "_model_name": "HTMLModel",
            "_view_count": null,
            "_view_module": "@jupyter-widgets/controls",
            "_view_module_version": "1.5.0",
            "_view_name": "HTMLView",
            "description": "",
            "description_tooltip": null,
            "layout": "IPY_MODEL_a9b807c609ff4749909dcd9c421b6a60",
            "placeholder": "​",
            "style": "IPY_MODEL_7cb2ea45f850441a97622f58a9c85132",
            "value": " 1201/1201 [00:00&lt;00:00, 2012.07 examples/s]"
          }
        },
        "3dc9954a19164450a903466d64e9ae68": {
          "model_module": "@jupyter-widgets/base",
          "model_name": "LayoutModel",
          "model_module_version": "1.2.0",
          "state": {
            "_model_module": "@jupyter-widgets/base",
            "_model_module_version": "1.2.0",
            "_model_name": "LayoutModel",
            "_view_count": null,
            "_view_module": "@jupyter-widgets/base",
            "_view_module_version": "1.2.0",
            "_view_name": "LayoutView",
            "align_content": null,
            "align_items": null,
            "align_self": null,
            "border": null,
            "bottom": null,
            "display": null,
            "flex": null,
            "flex_flow": null,
            "grid_area": null,
            "grid_auto_columns": null,
            "grid_auto_flow": null,
            "grid_auto_rows": null,
            "grid_column": null,
            "grid_gap": null,
            "grid_row": null,
            "grid_template_areas": null,
            "grid_template_columns": null,
            "grid_template_rows": null,
            "height": null,
            "justify_content": null,
            "justify_items": null,
            "left": null,
            "margin": null,
            "max_height": null,
            "max_width": null,
            "min_height": null,
            "min_width": null,
            "object_fit": null,
            "object_position": null,
            "order": null,
            "overflow": null,
            "overflow_x": null,
            "overflow_y": null,
            "padding": null,
            "right": null,
            "top": null,
            "visibility": null,
            "width": null
          }
        },
        "0ee7ef74a2bf4d529730ee4ab4b6934e": {
          "model_module": "@jupyter-widgets/base",
          "model_name": "LayoutModel",
          "model_module_version": "1.2.0",
          "state": {
            "_model_module": "@jupyter-widgets/base",
            "_model_module_version": "1.2.0",
            "_model_name": "LayoutModel",
            "_view_count": null,
            "_view_module": "@jupyter-widgets/base",
            "_view_module_version": "1.2.0",
            "_view_name": "LayoutView",
            "align_content": null,
            "align_items": null,
            "align_self": null,
            "border": null,
            "bottom": null,
            "display": null,
            "flex": null,
            "flex_flow": null,
            "grid_area": null,
            "grid_auto_columns": null,
            "grid_auto_flow": null,
            "grid_auto_rows": null,
            "grid_column": null,
            "grid_gap": null,
            "grid_row": null,
            "grid_template_areas": null,
            "grid_template_columns": null,
            "grid_template_rows": null,
            "height": null,
            "justify_content": null,
            "justify_items": null,
            "left": null,
            "margin": null,
            "max_height": null,
            "max_width": null,
            "min_height": null,
            "min_width": null,
            "object_fit": null,
            "object_position": null,
            "order": null,
            "overflow": null,
            "overflow_x": null,
            "overflow_y": null,
            "padding": null,
            "right": null,
            "top": null,
            "visibility": null,
            "width": null
          }
        },
        "a969cab1bc354116b1abfc9afaec5fd6": {
          "model_module": "@jupyter-widgets/controls",
          "model_name": "DescriptionStyleModel",
          "model_module_version": "1.5.0",
          "state": {
            "_model_module": "@jupyter-widgets/controls",
            "_model_module_version": "1.5.0",
            "_model_name": "DescriptionStyleModel",
            "_view_count": null,
            "_view_module": "@jupyter-widgets/base",
            "_view_module_version": "1.2.0",
            "_view_name": "StyleView",
            "description_width": ""
          }
        },
        "ab00be22992448dc817a1f0d5b774d4b": {
          "model_module": "@jupyter-widgets/base",
          "model_name": "LayoutModel",
          "model_module_version": "1.2.0",
          "state": {
            "_model_module": "@jupyter-widgets/base",
            "_model_module_version": "1.2.0",
            "_model_name": "LayoutModel",
            "_view_count": null,
            "_view_module": "@jupyter-widgets/base",
            "_view_module_version": "1.2.0",
            "_view_name": "LayoutView",
            "align_content": null,
            "align_items": null,
            "align_self": null,
            "border": null,
            "bottom": null,
            "display": null,
            "flex": null,
            "flex_flow": null,
            "grid_area": null,
            "grid_auto_columns": null,
            "grid_auto_flow": null,
            "grid_auto_rows": null,
            "grid_column": null,
            "grid_gap": null,
            "grid_row": null,
            "grid_template_areas": null,
            "grid_template_columns": null,
            "grid_template_rows": null,
            "height": null,
            "justify_content": null,
            "justify_items": null,
            "left": null,
            "margin": null,
            "max_height": null,
            "max_width": null,
            "min_height": null,
            "min_width": null,
            "object_fit": null,
            "object_position": null,
            "order": null,
            "overflow": null,
            "overflow_x": null,
            "overflow_y": null,
            "padding": null,
            "right": null,
            "top": null,
            "visibility": null,
            "width": null
          }
        },
        "894685abf9d7429fafc1e60b57fbc303": {
          "model_module": "@jupyter-widgets/controls",
          "model_name": "ProgressStyleModel",
          "model_module_version": "1.5.0",
          "state": {
            "_model_module": "@jupyter-widgets/controls",
            "_model_module_version": "1.5.0",
            "_model_name": "ProgressStyleModel",
            "_view_count": null,
            "_view_module": "@jupyter-widgets/base",
            "_view_module_version": "1.2.0",
            "_view_name": "StyleView",
            "bar_color": null,
            "description_width": ""
          }
        },
        "a9b807c609ff4749909dcd9c421b6a60": {
          "model_module": "@jupyter-widgets/base",
          "model_name": "LayoutModel",
          "model_module_version": "1.2.0",
          "state": {
            "_model_module": "@jupyter-widgets/base",
            "_model_module_version": "1.2.0",
            "_model_name": "LayoutModel",
            "_view_count": null,
            "_view_module": "@jupyter-widgets/base",
            "_view_module_version": "1.2.0",
            "_view_name": "LayoutView",
            "align_content": null,
            "align_items": null,
            "align_self": null,
            "border": null,
            "bottom": null,
            "display": null,
            "flex": null,
            "flex_flow": null,
            "grid_area": null,
            "grid_auto_columns": null,
            "grid_auto_flow": null,
            "grid_auto_rows": null,
            "grid_column": null,
            "grid_gap": null,
            "grid_row": null,
            "grid_template_areas": null,
            "grid_template_columns": null,
            "grid_template_rows": null,
            "height": null,
            "justify_content": null,
            "justify_items": null,
            "left": null,
            "margin": null,
            "max_height": null,
            "max_width": null,
            "min_height": null,
            "min_width": null,
            "object_fit": null,
            "object_position": null,
            "order": null,
            "overflow": null,
            "overflow_x": null,
            "overflow_y": null,
            "padding": null,
            "right": null,
            "top": null,
            "visibility": null,
            "width": null
          }
        },
        "7cb2ea45f850441a97622f58a9c85132": {
          "model_module": "@jupyter-widgets/controls",
          "model_name": "DescriptionStyleModel",
          "model_module_version": "1.5.0",
          "state": {
            "_model_module": "@jupyter-widgets/controls",
            "_model_module_version": "1.5.0",
            "_model_name": "DescriptionStyleModel",
            "_view_count": null,
            "_view_module": "@jupyter-widgets/base",
            "_view_module_version": "1.2.0",
            "_view_name": "StyleView",
            "description_width": ""
          }
        },
        "996be9acd3724e0a9ed4611a038feac2": {
          "model_module": "@jupyter-widgets/controls",
          "model_name": "HBoxModel",
          "model_module_version": "1.5.0",
          "state": {
            "_dom_classes": [],
            "_model_module": "@jupyter-widgets/controls",
            "_model_module_version": "1.5.0",
            "_model_name": "HBoxModel",
            "_view_count": null,
            "_view_module": "@jupyter-widgets/controls",
            "_view_module_version": "1.5.0",
            "_view_name": "HBoxView",
            "box_style": "",
            "children": [
              "IPY_MODEL_c82fc0c79fbb4a7fb864f49230e4a3e6",
              "IPY_MODEL_62ca33aaf0a8489da94b8f04027823b6",
              "IPY_MODEL_bb7a1472fd7649acbcf96514603b4dcb"
            ],
            "layout": "IPY_MODEL_85c30c8b4b5f4d51824348262f84eef2"
          }
        },
        "c82fc0c79fbb4a7fb864f49230e4a3e6": {
          "model_module": "@jupyter-widgets/controls",
          "model_name": "HTMLModel",
          "model_module_version": "1.5.0",
          "state": {
            "_dom_classes": [],
            "_model_module": "@jupyter-widgets/controls",
            "_model_module_version": "1.5.0",
            "_model_name": "HTMLModel",
            "_view_count": null,
            "_view_module": "@jupyter-widgets/controls",
            "_view_module_version": "1.5.0",
            "_view_name": "HTMLView",
            "description": "",
            "description_tooltip": null,
            "layout": "IPY_MODEL_ed42592bb05e4289a20cc72d7f6e2544",
            "placeholder": "​",
            "style": "IPY_MODEL_5a3e5b70e984444a8ced34655510557f",
            "value": "Map: 100%"
          }
        },
        "62ca33aaf0a8489da94b8f04027823b6": {
          "model_module": "@jupyter-widgets/controls",
          "model_name": "FloatProgressModel",
          "model_module_version": "1.5.0",
          "state": {
            "_dom_classes": [],
            "_model_module": "@jupyter-widgets/controls",
            "_model_module_version": "1.5.0",
            "_model_name": "FloatProgressModel",
            "_view_count": null,
            "_view_module": "@jupyter-widgets/controls",
            "_view_module_version": "1.5.0",
            "_view_name": "ProgressView",
            "bar_style": "success",
            "description": "",
            "description_tooltip": null,
            "layout": "IPY_MODEL_730d79a01fac4c948e31b17652cc6a9e",
            "max": 100,
            "min": 0,
            "orientation": "horizontal",
            "style": "IPY_MODEL_907e107d039344bc89f5288f8ef681a8",
            "value": 100
          }
        },
        "bb7a1472fd7649acbcf96514603b4dcb": {
          "model_module": "@jupyter-widgets/controls",
          "model_name": "HTMLModel",
          "model_module_version": "1.5.0",
          "state": {
            "_dom_classes": [],
            "_model_module": "@jupyter-widgets/controls",
            "_model_module_version": "1.5.0",
            "_model_name": "HTMLModel",
            "_view_count": null,
            "_view_module": "@jupyter-widgets/controls",
            "_view_module_version": "1.5.0",
            "_view_name": "HTMLView",
            "description": "",
            "description_tooltip": null,
            "layout": "IPY_MODEL_85255af2ba154f6e9e90364b483e3118",
            "placeholder": "​",
            "style": "IPY_MODEL_84fb084626854795a20c1fa03e4a3e5f",
            "value": " 100/100 [00:00&lt;00:00, 1096.03 examples/s]"
          }
        },
        "85c30c8b4b5f4d51824348262f84eef2": {
          "model_module": "@jupyter-widgets/base",
          "model_name": "LayoutModel",
          "model_module_version": "1.2.0",
          "state": {
            "_model_module": "@jupyter-widgets/base",
            "_model_module_version": "1.2.0",
            "_model_name": "LayoutModel",
            "_view_count": null,
            "_view_module": "@jupyter-widgets/base",
            "_view_module_version": "1.2.0",
            "_view_name": "LayoutView",
            "align_content": null,
            "align_items": null,
            "align_self": null,
            "border": null,
            "bottom": null,
            "display": null,
            "flex": null,
            "flex_flow": null,
            "grid_area": null,
            "grid_auto_columns": null,
            "grid_auto_flow": null,
            "grid_auto_rows": null,
            "grid_column": null,
            "grid_gap": null,
            "grid_row": null,
            "grid_template_areas": null,
            "grid_template_columns": null,
            "grid_template_rows": null,
            "height": null,
            "justify_content": null,
            "justify_items": null,
            "left": null,
            "margin": null,
            "max_height": null,
            "max_width": null,
            "min_height": null,
            "min_width": null,
            "object_fit": null,
            "object_position": null,
            "order": null,
            "overflow": null,
            "overflow_x": null,
            "overflow_y": null,
            "padding": null,
            "right": null,
            "top": null,
            "visibility": null,
            "width": null
          }
        },
        "ed42592bb05e4289a20cc72d7f6e2544": {
          "model_module": "@jupyter-widgets/base",
          "model_name": "LayoutModel",
          "model_module_version": "1.2.0",
          "state": {
            "_model_module": "@jupyter-widgets/base",
            "_model_module_version": "1.2.0",
            "_model_name": "LayoutModel",
            "_view_count": null,
            "_view_module": "@jupyter-widgets/base",
            "_view_module_version": "1.2.0",
            "_view_name": "LayoutView",
            "align_content": null,
            "align_items": null,
            "align_self": null,
            "border": null,
            "bottom": null,
            "display": null,
            "flex": null,
            "flex_flow": null,
            "grid_area": null,
            "grid_auto_columns": null,
            "grid_auto_flow": null,
            "grid_auto_rows": null,
            "grid_column": null,
            "grid_gap": null,
            "grid_row": null,
            "grid_template_areas": null,
            "grid_template_columns": null,
            "grid_template_rows": null,
            "height": null,
            "justify_content": null,
            "justify_items": null,
            "left": null,
            "margin": null,
            "max_height": null,
            "max_width": null,
            "min_height": null,
            "min_width": null,
            "object_fit": null,
            "object_position": null,
            "order": null,
            "overflow": null,
            "overflow_x": null,
            "overflow_y": null,
            "padding": null,
            "right": null,
            "top": null,
            "visibility": null,
            "width": null
          }
        },
        "5a3e5b70e984444a8ced34655510557f": {
          "model_module": "@jupyter-widgets/controls",
          "model_name": "DescriptionStyleModel",
          "model_module_version": "1.5.0",
          "state": {
            "_model_module": "@jupyter-widgets/controls",
            "_model_module_version": "1.5.0",
            "_model_name": "DescriptionStyleModel",
            "_view_count": null,
            "_view_module": "@jupyter-widgets/base",
            "_view_module_version": "1.2.0",
            "_view_name": "StyleView",
            "description_width": ""
          }
        },
        "730d79a01fac4c948e31b17652cc6a9e": {
          "model_module": "@jupyter-widgets/base",
          "model_name": "LayoutModel",
          "model_module_version": "1.2.0",
          "state": {
            "_model_module": "@jupyter-widgets/base",
            "_model_module_version": "1.2.0",
            "_model_name": "LayoutModel",
            "_view_count": null,
            "_view_module": "@jupyter-widgets/base",
            "_view_module_version": "1.2.0",
            "_view_name": "LayoutView",
            "align_content": null,
            "align_items": null,
            "align_self": null,
            "border": null,
            "bottom": null,
            "display": null,
            "flex": null,
            "flex_flow": null,
            "grid_area": null,
            "grid_auto_columns": null,
            "grid_auto_flow": null,
            "grid_auto_rows": null,
            "grid_column": null,
            "grid_gap": null,
            "grid_row": null,
            "grid_template_areas": null,
            "grid_template_columns": null,
            "grid_template_rows": null,
            "height": null,
            "justify_content": null,
            "justify_items": null,
            "left": null,
            "margin": null,
            "max_height": null,
            "max_width": null,
            "min_height": null,
            "min_width": null,
            "object_fit": null,
            "object_position": null,
            "order": null,
            "overflow": null,
            "overflow_x": null,
            "overflow_y": null,
            "padding": null,
            "right": null,
            "top": null,
            "visibility": null,
            "width": null
          }
        },
        "907e107d039344bc89f5288f8ef681a8": {
          "model_module": "@jupyter-widgets/controls",
          "model_name": "ProgressStyleModel",
          "model_module_version": "1.5.0",
          "state": {
            "_model_module": "@jupyter-widgets/controls",
            "_model_module_version": "1.5.0",
            "_model_name": "ProgressStyleModel",
            "_view_count": null,
            "_view_module": "@jupyter-widgets/base",
            "_view_module_version": "1.2.0",
            "_view_name": "StyleView",
            "bar_color": null,
            "description_width": ""
          }
        },
        "85255af2ba154f6e9e90364b483e3118": {
          "model_module": "@jupyter-widgets/base",
          "model_name": "LayoutModel",
          "model_module_version": "1.2.0",
          "state": {
            "_model_module": "@jupyter-widgets/base",
            "_model_module_version": "1.2.0",
            "_model_name": "LayoutModel",
            "_view_count": null,
            "_view_module": "@jupyter-widgets/base",
            "_view_module_version": "1.2.0",
            "_view_name": "LayoutView",
            "align_content": null,
            "align_items": null,
            "align_self": null,
            "border": null,
            "bottom": null,
            "display": null,
            "flex": null,
            "flex_flow": null,
            "grid_area": null,
            "grid_auto_columns": null,
            "grid_auto_flow": null,
            "grid_auto_rows": null,
            "grid_column": null,
            "grid_gap": null,
            "grid_row": null,
            "grid_template_areas": null,
            "grid_template_columns": null,
            "grid_template_rows": null,
            "height": null,
            "justify_content": null,
            "justify_items": null,
            "left": null,
            "margin": null,
            "max_height": null,
            "max_width": null,
            "min_height": null,
            "min_width": null,
            "object_fit": null,
            "object_position": null,
            "order": null,
            "overflow": null,
            "overflow_x": null,
            "overflow_y": null,
            "padding": null,
            "right": null,
            "top": null,
            "visibility": null,
            "width": null
          }
        },
        "84fb084626854795a20c1fa03e4a3e5f": {
          "model_module": "@jupyter-widgets/controls",
          "model_name": "DescriptionStyleModel",
          "model_module_version": "1.5.0",
          "state": {
            "_model_module": "@jupyter-widgets/controls",
            "_model_module_version": "1.5.0",
            "_model_name": "DescriptionStyleModel",
            "_view_count": null,
            "_view_module": "@jupyter-widgets/base",
            "_view_module_version": "1.2.0",
            "_view_name": "StyleView",
            "description_width": ""
          }
        },
        "45084219585341a18ca23f97e7d2e983": {
          "model_module": "@jupyter-widgets/controls",
          "model_name": "HBoxModel",
          "model_module_version": "1.5.0",
          "state": {
            "_dom_classes": [],
            "_model_module": "@jupyter-widgets/controls",
            "_model_module_version": "1.5.0",
            "_model_name": "HBoxModel",
            "_view_count": null,
            "_view_module": "@jupyter-widgets/controls",
            "_view_module_version": "1.5.0",
            "_view_name": "HBoxView",
            "box_style": "",
            "children": [
              "IPY_MODEL_1c968bbe78fc45e6877d782e295c543e",
              "IPY_MODEL_42b3f7bc34cf4774a3e1e9f23ebb199e",
              "IPY_MODEL_23e2dbf729aa4a6da909555dc9b2729b"
            ],
            "layout": "IPY_MODEL_dfad691a854849dd86af6a7024035913"
          }
        },
        "1c968bbe78fc45e6877d782e295c543e": {
          "model_module": "@jupyter-widgets/controls",
          "model_name": "HTMLModel",
          "model_module_version": "1.5.0",
          "state": {
            "_dom_classes": [],
            "_model_module": "@jupyter-widgets/controls",
            "_model_module_version": "1.5.0",
            "_model_name": "HTMLModel",
            "_view_count": null,
            "_view_module": "@jupyter-widgets/controls",
            "_view_module_version": "1.5.0",
            "_view_name": "HTMLView",
            "description": "",
            "description_tooltip": null,
            "layout": "IPY_MODEL_6362cdcece404b6e9f0a3db2dde496c8",
            "placeholder": "​",
            "style": "IPY_MODEL_1ac86e9b036a4c42b0acc7266019bdf2",
            "value": "Map: 100%"
          }
        },
        "42b3f7bc34cf4774a3e1e9f23ebb199e": {
          "model_module": "@jupyter-widgets/controls",
          "model_name": "FloatProgressModel",
          "model_module_version": "1.5.0",
          "state": {
            "_dom_classes": [],
            "_model_module": "@jupyter-widgets/controls",
            "_model_module_version": "1.5.0",
            "_model_name": "FloatProgressModel",
            "_view_count": null,
            "_view_module": "@jupyter-widgets/controls",
            "_view_module_version": "1.5.0",
            "_view_name": "ProgressView",
            "bar_style": "success",
            "description": "",
            "description_tooltip": null,
            "layout": "IPY_MODEL_e97c0ba0d79f4a0c8bcabaa6045aaa7e",
            "max": 120,
            "min": 0,
            "orientation": "horizontal",
            "style": "IPY_MODEL_19e29be6cb8f4c63ba8ed85016b25fff",
            "value": 120
          }
        },
        "23e2dbf729aa4a6da909555dc9b2729b": {
          "model_module": "@jupyter-widgets/controls",
          "model_name": "HTMLModel",
          "model_module_version": "1.5.0",
          "state": {
            "_dom_classes": [],
            "_model_module": "@jupyter-widgets/controls",
            "_model_module_version": "1.5.0",
            "_model_name": "HTMLModel",
            "_view_count": null,
            "_view_module": "@jupyter-widgets/controls",
            "_view_module_version": "1.5.0",
            "_view_name": "HTMLView",
            "description": "",
            "description_tooltip": null,
            "layout": "IPY_MODEL_e3b9ff8dc66e4ffca10b1abd641c4c7b",
            "placeholder": "​",
            "style": "IPY_MODEL_9d3d71f934a842f2b0eccad551e51424",
            "value": " 120/120 [00:00&lt;00:00, 1252.03 examples/s]"
          }
        },
        "dfad691a854849dd86af6a7024035913": {
          "model_module": "@jupyter-widgets/base",
          "model_name": "LayoutModel",
          "model_module_version": "1.2.0",
          "state": {
            "_model_module": "@jupyter-widgets/base",
            "_model_module_version": "1.2.0",
            "_model_name": "LayoutModel",
            "_view_count": null,
            "_view_module": "@jupyter-widgets/base",
            "_view_module_version": "1.2.0",
            "_view_name": "LayoutView",
            "align_content": null,
            "align_items": null,
            "align_self": null,
            "border": null,
            "bottom": null,
            "display": null,
            "flex": null,
            "flex_flow": null,
            "grid_area": null,
            "grid_auto_columns": null,
            "grid_auto_flow": null,
            "grid_auto_rows": null,
            "grid_column": null,
            "grid_gap": null,
            "grid_row": null,
            "grid_template_areas": null,
            "grid_template_columns": null,
            "grid_template_rows": null,
            "height": null,
            "justify_content": null,
            "justify_items": null,
            "left": null,
            "margin": null,
            "max_height": null,
            "max_width": null,
            "min_height": null,
            "min_width": null,
            "object_fit": null,
            "object_position": null,
            "order": null,
            "overflow": null,
            "overflow_x": null,
            "overflow_y": null,
            "padding": null,
            "right": null,
            "top": null,
            "visibility": null,
            "width": null
          }
        },
        "6362cdcece404b6e9f0a3db2dde496c8": {
          "model_module": "@jupyter-widgets/base",
          "model_name": "LayoutModel",
          "model_module_version": "1.2.0",
          "state": {
            "_model_module": "@jupyter-widgets/base",
            "_model_module_version": "1.2.0",
            "_model_name": "LayoutModel",
            "_view_count": null,
            "_view_module": "@jupyter-widgets/base",
            "_view_module_version": "1.2.0",
            "_view_name": "LayoutView",
            "align_content": null,
            "align_items": null,
            "align_self": null,
            "border": null,
            "bottom": null,
            "display": null,
            "flex": null,
            "flex_flow": null,
            "grid_area": null,
            "grid_auto_columns": null,
            "grid_auto_flow": null,
            "grid_auto_rows": null,
            "grid_column": null,
            "grid_gap": null,
            "grid_row": null,
            "grid_template_areas": null,
            "grid_template_columns": null,
            "grid_template_rows": null,
            "height": null,
            "justify_content": null,
            "justify_items": null,
            "left": null,
            "margin": null,
            "max_height": null,
            "max_width": null,
            "min_height": null,
            "min_width": null,
            "object_fit": null,
            "object_position": null,
            "order": null,
            "overflow": null,
            "overflow_x": null,
            "overflow_y": null,
            "padding": null,
            "right": null,
            "top": null,
            "visibility": null,
            "width": null
          }
        },
        "1ac86e9b036a4c42b0acc7266019bdf2": {
          "model_module": "@jupyter-widgets/controls",
          "model_name": "DescriptionStyleModel",
          "model_module_version": "1.5.0",
          "state": {
            "_model_module": "@jupyter-widgets/controls",
            "_model_module_version": "1.5.0",
            "_model_name": "DescriptionStyleModel",
            "_view_count": null,
            "_view_module": "@jupyter-widgets/base",
            "_view_module_version": "1.2.0",
            "_view_name": "StyleView",
            "description_width": ""
          }
        },
        "e97c0ba0d79f4a0c8bcabaa6045aaa7e": {
          "model_module": "@jupyter-widgets/base",
          "model_name": "LayoutModel",
          "model_module_version": "1.2.0",
          "state": {
            "_model_module": "@jupyter-widgets/base",
            "_model_module_version": "1.2.0",
            "_model_name": "LayoutModel",
            "_view_count": null,
            "_view_module": "@jupyter-widgets/base",
            "_view_module_version": "1.2.0",
            "_view_name": "LayoutView",
            "align_content": null,
            "align_items": null,
            "align_self": null,
            "border": null,
            "bottom": null,
            "display": null,
            "flex": null,
            "flex_flow": null,
            "grid_area": null,
            "grid_auto_columns": null,
            "grid_auto_flow": null,
            "grid_auto_rows": null,
            "grid_column": null,
            "grid_gap": null,
            "grid_row": null,
            "grid_template_areas": null,
            "grid_template_columns": null,
            "grid_template_rows": null,
            "height": null,
            "justify_content": null,
            "justify_items": null,
            "left": null,
            "margin": null,
            "max_height": null,
            "max_width": null,
            "min_height": null,
            "min_width": null,
            "object_fit": null,
            "object_position": null,
            "order": null,
            "overflow": null,
            "overflow_x": null,
            "overflow_y": null,
            "padding": null,
            "right": null,
            "top": null,
            "visibility": null,
            "width": null
          }
        },
        "19e29be6cb8f4c63ba8ed85016b25fff": {
          "model_module": "@jupyter-widgets/controls",
          "model_name": "ProgressStyleModel",
          "model_module_version": "1.5.0",
          "state": {
            "_model_module": "@jupyter-widgets/controls",
            "_model_module_version": "1.5.0",
            "_model_name": "ProgressStyleModel",
            "_view_count": null,
            "_view_module": "@jupyter-widgets/base",
            "_view_module_version": "1.2.0",
            "_view_name": "StyleView",
            "bar_color": null,
            "description_width": ""
          }
        },
        "e3b9ff8dc66e4ffca10b1abd641c4c7b": {
          "model_module": "@jupyter-widgets/base",
          "model_name": "LayoutModel",
          "model_module_version": "1.2.0",
          "state": {
            "_model_module": "@jupyter-widgets/base",
            "_model_module_version": "1.2.0",
            "_model_name": "LayoutModel",
            "_view_count": null,
            "_view_module": "@jupyter-widgets/base",
            "_view_module_version": "1.2.0",
            "_view_name": "LayoutView",
            "align_content": null,
            "align_items": null,
            "align_self": null,
            "border": null,
            "bottom": null,
            "display": null,
            "flex": null,
            "flex_flow": null,
            "grid_area": null,
            "grid_auto_columns": null,
            "grid_auto_flow": null,
            "grid_auto_rows": null,
            "grid_column": null,
            "grid_gap": null,
            "grid_row": null,
            "grid_template_areas": null,
            "grid_template_columns": null,
            "grid_template_rows": null,
            "height": null,
            "justify_content": null,
            "justify_items": null,
            "left": null,
            "margin": null,
            "max_height": null,
            "max_width": null,
            "min_height": null,
            "min_width": null,
            "object_fit": null,
            "object_position": null,
            "order": null,
            "overflow": null,
            "overflow_x": null,
            "overflow_y": null,
            "padding": null,
            "right": null,
            "top": null,
            "visibility": null,
            "width": null
          }
        },
        "9d3d71f934a842f2b0eccad551e51424": {
          "model_module": "@jupyter-widgets/controls",
          "model_name": "DescriptionStyleModel",
          "model_module_version": "1.5.0",
          "state": {
            "_model_module": "@jupyter-widgets/controls",
            "_model_module_version": "1.5.0",
            "_model_name": "DescriptionStyleModel",
            "_view_count": null,
            "_view_module": "@jupyter-widgets/base",
            "_view_module_version": "1.2.0",
            "_view_name": "StyleView",
            "description_width": ""
          }
        },
        "c4e5f8aecc5b420c9dce6957feed466b": {
          "model_module": "@jupyter-widgets/controls",
          "model_name": "HBoxModel",
          "model_module_version": "1.5.0",
          "state": {
            "_dom_classes": [],
            "_model_module": "@jupyter-widgets/controls",
            "_model_module_version": "1.5.0",
            "_model_name": "HBoxModel",
            "_view_count": null,
            "_view_module": "@jupyter-widgets/controls",
            "_view_module_version": "1.5.0",
            "_view_name": "HBoxView",
            "box_style": "",
            "children": [
              "IPY_MODEL_abc41668efbe4bbcb3be6e046969db2c",
              "IPY_MODEL_2f8d520760eb4814bbb2601747decd46",
              "IPY_MODEL_516d24a82ecd4853a4e2b1ff036cdf99"
            ],
            "layout": "IPY_MODEL_1cfc5999a37c43da9c3e9e9aeffc26fa"
          }
        },
        "abc41668efbe4bbcb3be6e046969db2c": {
          "model_module": "@jupyter-widgets/controls",
          "model_name": "HTMLModel",
          "model_module_version": "1.5.0",
          "state": {
            "_dom_classes": [],
            "_model_module": "@jupyter-widgets/controls",
            "_model_module_version": "1.5.0",
            "_model_name": "HTMLModel",
            "_view_count": null,
            "_view_module": "@jupyter-widgets/controls",
            "_view_module_version": "1.5.0",
            "_view_name": "HTMLView",
            "description": "",
            "description_tooltip": null,
            "layout": "IPY_MODEL_85a5c09d649649ea877f22bde36b6367",
            "placeholder": "​",
            "style": "IPY_MODEL_08792ec870cd45d595942eb63593a84a",
            "value": "Map: 100%"
          }
        },
        "2f8d520760eb4814bbb2601747decd46": {
          "model_module": "@jupyter-widgets/controls",
          "model_name": "FloatProgressModel",
          "model_module_version": "1.5.0",
          "state": {
            "_dom_classes": [],
            "_model_module": "@jupyter-widgets/controls",
            "_model_module_version": "1.5.0",
            "_model_name": "FloatProgressModel",
            "_view_count": null,
            "_view_module": "@jupyter-widgets/controls",
            "_view_module_version": "1.5.0",
            "_view_name": "ProgressView",
            "bar_style": "success",
            "description": "",
            "description_tooltip": null,
            "layout": "IPY_MODEL_08a2ff98d7b84a049e0292f0cdefd43a",
            "max": 40,
            "min": 0,
            "orientation": "horizontal",
            "style": "IPY_MODEL_cd748988a91e4367aef93890ba4cdb51",
            "value": 40
          }
        },
        "516d24a82ecd4853a4e2b1ff036cdf99": {
          "model_module": "@jupyter-widgets/controls",
          "model_name": "HTMLModel",
          "model_module_version": "1.5.0",
          "state": {
            "_dom_classes": [],
            "_model_module": "@jupyter-widgets/controls",
            "_model_module_version": "1.5.0",
            "_model_name": "HTMLModel",
            "_view_count": null,
            "_view_module": "@jupyter-widgets/controls",
            "_view_module_version": "1.5.0",
            "_view_name": "HTMLView",
            "description": "",
            "description_tooltip": null,
            "layout": "IPY_MODEL_d556e977f3f34d90af8624ac04df27d6",
            "placeholder": "​",
            "style": "IPY_MODEL_cbe3d7ce1c1d42dc81794fe7b9a7e617",
            "value": " 40/40 [00:00&lt;00:00, 763.33 examples/s]"
          }
        },
        "1cfc5999a37c43da9c3e9e9aeffc26fa": {
          "model_module": "@jupyter-widgets/base",
          "model_name": "LayoutModel",
          "model_module_version": "1.2.0",
          "state": {
            "_model_module": "@jupyter-widgets/base",
            "_model_module_version": "1.2.0",
            "_model_name": "LayoutModel",
            "_view_count": null,
            "_view_module": "@jupyter-widgets/base",
            "_view_module_version": "1.2.0",
            "_view_name": "LayoutView",
            "align_content": null,
            "align_items": null,
            "align_self": null,
            "border": null,
            "bottom": null,
            "display": null,
            "flex": null,
            "flex_flow": null,
            "grid_area": null,
            "grid_auto_columns": null,
            "grid_auto_flow": null,
            "grid_auto_rows": null,
            "grid_column": null,
            "grid_gap": null,
            "grid_row": null,
            "grid_template_areas": null,
            "grid_template_columns": null,
            "grid_template_rows": null,
            "height": null,
            "justify_content": null,
            "justify_items": null,
            "left": null,
            "margin": null,
            "max_height": null,
            "max_width": null,
            "min_height": null,
            "min_width": null,
            "object_fit": null,
            "object_position": null,
            "order": null,
            "overflow": null,
            "overflow_x": null,
            "overflow_y": null,
            "padding": null,
            "right": null,
            "top": null,
            "visibility": null,
            "width": null
          }
        },
        "85a5c09d649649ea877f22bde36b6367": {
          "model_module": "@jupyter-widgets/base",
          "model_name": "LayoutModel",
          "model_module_version": "1.2.0",
          "state": {
            "_model_module": "@jupyter-widgets/base",
            "_model_module_version": "1.2.0",
            "_model_name": "LayoutModel",
            "_view_count": null,
            "_view_module": "@jupyter-widgets/base",
            "_view_module_version": "1.2.0",
            "_view_name": "LayoutView",
            "align_content": null,
            "align_items": null,
            "align_self": null,
            "border": null,
            "bottom": null,
            "display": null,
            "flex": null,
            "flex_flow": null,
            "grid_area": null,
            "grid_auto_columns": null,
            "grid_auto_flow": null,
            "grid_auto_rows": null,
            "grid_column": null,
            "grid_gap": null,
            "grid_row": null,
            "grid_template_areas": null,
            "grid_template_columns": null,
            "grid_template_rows": null,
            "height": null,
            "justify_content": null,
            "justify_items": null,
            "left": null,
            "margin": null,
            "max_height": null,
            "max_width": null,
            "min_height": null,
            "min_width": null,
            "object_fit": null,
            "object_position": null,
            "order": null,
            "overflow": null,
            "overflow_x": null,
            "overflow_y": null,
            "padding": null,
            "right": null,
            "top": null,
            "visibility": null,
            "width": null
          }
        },
        "08792ec870cd45d595942eb63593a84a": {
          "model_module": "@jupyter-widgets/controls",
          "model_name": "DescriptionStyleModel",
          "model_module_version": "1.5.0",
          "state": {
            "_model_module": "@jupyter-widgets/controls",
            "_model_module_version": "1.5.0",
            "_model_name": "DescriptionStyleModel",
            "_view_count": null,
            "_view_module": "@jupyter-widgets/base",
            "_view_module_version": "1.2.0",
            "_view_name": "StyleView",
            "description_width": ""
          }
        },
        "08a2ff98d7b84a049e0292f0cdefd43a": {
          "model_module": "@jupyter-widgets/base",
          "model_name": "LayoutModel",
          "model_module_version": "1.2.0",
          "state": {
            "_model_module": "@jupyter-widgets/base",
            "_model_module_version": "1.2.0",
            "_model_name": "LayoutModel",
            "_view_count": null,
            "_view_module": "@jupyter-widgets/base",
            "_view_module_version": "1.2.0",
            "_view_name": "LayoutView",
            "align_content": null,
            "align_items": null,
            "align_self": null,
            "border": null,
            "bottom": null,
            "display": null,
            "flex": null,
            "flex_flow": null,
            "grid_area": null,
            "grid_auto_columns": null,
            "grid_auto_flow": null,
            "grid_auto_rows": null,
            "grid_column": null,
            "grid_gap": null,
            "grid_row": null,
            "grid_template_areas": null,
            "grid_template_columns": null,
            "grid_template_rows": null,
            "height": null,
            "justify_content": null,
            "justify_items": null,
            "left": null,
            "margin": null,
            "max_height": null,
            "max_width": null,
            "min_height": null,
            "min_width": null,
            "object_fit": null,
            "object_position": null,
            "order": null,
            "overflow": null,
            "overflow_x": null,
            "overflow_y": null,
            "padding": null,
            "right": null,
            "top": null,
            "visibility": null,
            "width": null
          }
        },
        "cd748988a91e4367aef93890ba4cdb51": {
          "model_module": "@jupyter-widgets/controls",
          "model_name": "ProgressStyleModel",
          "model_module_version": "1.5.0",
          "state": {
            "_model_module": "@jupyter-widgets/controls",
            "_model_module_version": "1.5.0",
            "_model_name": "ProgressStyleModel",
            "_view_count": null,
            "_view_module": "@jupyter-widgets/base",
            "_view_module_version": "1.2.0",
            "_view_name": "StyleView",
            "bar_color": null,
            "description_width": ""
          }
        },
        "d556e977f3f34d90af8624ac04df27d6": {
          "model_module": "@jupyter-widgets/base",
          "model_name": "LayoutModel",
          "model_module_version": "1.2.0",
          "state": {
            "_model_module": "@jupyter-widgets/base",
            "_model_module_version": "1.2.0",
            "_model_name": "LayoutModel",
            "_view_count": null,
            "_view_module": "@jupyter-widgets/base",
            "_view_module_version": "1.2.0",
            "_view_name": "LayoutView",
            "align_content": null,
            "align_items": null,
            "align_self": null,
            "border": null,
            "bottom": null,
            "display": null,
            "flex": null,
            "flex_flow": null,
            "grid_area": null,
            "grid_auto_columns": null,
            "grid_auto_flow": null,
            "grid_auto_rows": null,
            "grid_column": null,
            "grid_gap": null,
            "grid_row": null,
            "grid_template_areas": null,
            "grid_template_columns": null,
            "grid_template_rows": null,
            "height": null,
            "justify_content": null,
            "justify_items": null,
            "left": null,
            "margin": null,
            "max_height": null,
            "max_width": null,
            "min_height": null,
            "min_width": null,
            "object_fit": null,
            "object_position": null,
            "order": null,
            "overflow": null,
            "overflow_x": null,
            "overflow_y": null,
            "padding": null,
            "right": null,
            "top": null,
            "visibility": null,
            "width": null
          }
        },
        "cbe3d7ce1c1d42dc81794fe7b9a7e617": {
          "model_module": "@jupyter-widgets/controls",
          "model_name": "DescriptionStyleModel",
          "model_module_version": "1.5.0",
          "state": {
            "_model_module": "@jupyter-widgets/controls",
            "_model_module_version": "1.5.0",
            "_model_name": "DescriptionStyleModel",
            "_view_count": null,
            "_view_module": "@jupyter-widgets/base",
            "_view_module_version": "1.2.0",
            "_view_name": "StyleView",
            "description_width": ""
          }
        },
        "355ad03c98c2470f97b0332d9665d6da": {
          "model_module": "@jupyter-widgets/controls",
          "model_name": "HBoxModel",
          "model_module_version": "1.5.0",
          "state": {
            "_dom_classes": [],
            "_model_module": "@jupyter-widgets/controls",
            "_model_module_version": "1.5.0",
            "_model_name": "HBoxModel",
            "_view_count": null,
            "_view_module": "@jupyter-widgets/controls",
            "_view_module_version": "1.5.0",
            "_view_name": "HBoxView",
            "box_style": "",
            "children": [
              "IPY_MODEL_128549219b0f4ac7aa0c8a60b0015afe",
              "IPY_MODEL_a8e7f47f75e045dc9906ea13301ebeaa",
              "IPY_MODEL_5130f0ed05544fad8a5132760207e365"
            ],
            "layout": "IPY_MODEL_9154b948df084d30bd8f1646b5042b28"
          }
        },
        "128549219b0f4ac7aa0c8a60b0015afe": {
          "model_module": "@jupyter-widgets/controls",
          "model_name": "HTMLModel",
          "model_module_version": "1.5.0",
          "state": {
            "_dom_classes": [],
            "_model_module": "@jupyter-widgets/controls",
            "_model_module_version": "1.5.0",
            "_model_name": "HTMLModel",
            "_view_count": null,
            "_view_module": "@jupyter-widgets/controls",
            "_view_module_version": "1.5.0",
            "_view_name": "HTMLView",
            "description": "",
            "description_tooltip": null,
            "layout": "IPY_MODEL_f3c70085419e48b68df849a4e0afc365",
            "placeholder": "​",
            "style": "IPY_MODEL_32965a2dd55f4d489b9bb5d4b743b1d3",
            "value": "Map: 100%"
          }
        },
        "a8e7f47f75e045dc9906ea13301ebeaa": {
          "model_module": "@jupyter-widgets/controls",
          "model_name": "FloatProgressModel",
          "model_module_version": "1.5.0",
          "state": {
            "_dom_classes": [],
            "_model_module": "@jupyter-widgets/controls",
            "_model_module_version": "1.5.0",
            "_model_name": "FloatProgressModel",
            "_view_count": null,
            "_view_module": "@jupyter-widgets/controls",
            "_view_module_version": "1.5.0",
            "_view_name": "ProgressView",
            "bar_style": "success",
            "description": "",
            "description_tooltip": null,
            "layout": "IPY_MODEL_7ac7d9099f4b42198b2378a109e28179",
            "max": 40,
            "min": 0,
            "orientation": "horizontal",
            "style": "IPY_MODEL_c6b6855eb1b74e329d0dcae3575efb55",
            "value": 40
          }
        },
        "5130f0ed05544fad8a5132760207e365": {
          "model_module": "@jupyter-widgets/controls",
          "model_name": "HTMLModel",
          "model_module_version": "1.5.0",
          "state": {
            "_dom_classes": [],
            "_model_module": "@jupyter-widgets/controls",
            "_model_module_version": "1.5.0",
            "_model_name": "HTMLModel",
            "_view_count": null,
            "_view_module": "@jupyter-widgets/controls",
            "_view_module_version": "1.5.0",
            "_view_name": "HTMLView",
            "description": "",
            "description_tooltip": null,
            "layout": "IPY_MODEL_6c7ea471bcdc44d9a7e6730283d7dca6",
            "placeholder": "​",
            "style": "IPY_MODEL_c6dd6f6e07624fafa160c8f95431910e",
            "value": " 40/40 [00:00&lt;00:00, 790.06 examples/s]"
          }
        },
        "9154b948df084d30bd8f1646b5042b28": {
          "model_module": "@jupyter-widgets/base",
          "model_name": "LayoutModel",
          "model_module_version": "1.2.0",
          "state": {
            "_model_module": "@jupyter-widgets/base",
            "_model_module_version": "1.2.0",
            "_model_name": "LayoutModel",
            "_view_count": null,
            "_view_module": "@jupyter-widgets/base",
            "_view_module_version": "1.2.0",
            "_view_name": "LayoutView",
            "align_content": null,
            "align_items": null,
            "align_self": null,
            "border": null,
            "bottom": null,
            "display": null,
            "flex": null,
            "flex_flow": null,
            "grid_area": null,
            "grid_auto_columns": null,
            "grid_auto_flow": null,
            "grid_auto_rows": null,
            "grid_column": null,
            "grid_gap": null,
            "grid_row": null,
            "grid_template_areas": null,
            "grid_template_columns": null,
            "grid_template_rows": null,
            "height": null,
            "justify_content": null,
            "justify_items": null,
            "left": null,
            "margin": null,
            "max_height": null,
            "max_width": null,
            "min_height": null,
            "min_width": null,
            "object_fit": null,
            "object_position": null,
            "order": null,
            "overflow": null,
            "overflow_x": null,
            "overflow_y": null,
            "padding": null,
            "right": null,
            "top": null,
            "visibility": null,
            "width": null
          }
        },
        "f3c70085419e48b68df849a4e0afc365": {
          "model_module": "@jupyter-widgets/base",
          "model_name": "LayoutModel",
          "model_module_version": "1.2.0",
          "state": {
            "_model_module": "@jupyter-widgets/base",
            "_model_module_version": "1.2.0",
            "_model_name": "LayoutModel",
            "_view_count": null,
            "_view_module": "@jupyter-widgets/base",
            "_view_module_version": "1.2.0",
            "_view_name": "LayoutView",
            "align_content": null,
            "align_items": null,
            "align_self": null,
            "border": null,
            "bottom": null,
            "display": null,
            "flex": null,
            "flex_flow": null,
            "grid_area": null,
            "grid_auto_columns": null,
            "grid_auto_flow": null,
            "grid_auto_rows": null,
            "grid_column": null,
            "grid_gap": null,
            "grid_row": null,
            "grid_template_areas": null,
            "grid_template_columns": null,
            "grid_template_rows": null,
            "height": null,
            "justify_content": null,
            "justify_items": null,
            "left": null,
            "margin": null,
            "max_height": null,
            "max_width": null,
            "min_height": null,
            "min_width": null,
            "object_fit": null,
            "object_position": null,
            "order": null,
            "overflow": null,
            "overflow_x": null,
            "overflow_y": null,
            "padding": null,
            "right": null,
            "top": null,
            "visibility": null,
            "width": null
          }
        },
        "32965a2dd55f4d489b9bb5d4b743b1d3": {
          "model_module": "@jupyter-widgets/controls",
          "model_name": "DescriptionStyleModel",
          "model_module_version": "1.5.0",
          "state": {
            "_model_module": "@jupyter-widgets/controls",
            "_model_module_version": "1.5.0",
            "_model_name": "DescriptionStyleModel",
            "_view_count": null,
            "_view_module": "@jupyter-widgets/base",
            "_view_module_version": "1.2.0",
            "_view_name": "StyleView",
            "description_width": ""
          }
        },
        "7ac7d9099f4b42198b2378a109e28179": {
          "model_module": "@jupyter-widgets/base",
          "model_name": "LayoutModel",
          "model_module_version": "1.2.0",
          "state": {
            "_model_module": "@jupyter-widgets/base",
            "_model_module_version": "1.2.0",
            "_model_name": "LayoutModel",
            "_view_count": null,
            "_view_module": "@jupyter-widgets/base",
            "_view_module_version": "1.2.0",
            "_view_name": "LayoutView",
            "align_content": null,
            "align_items": null,
            "align_self": null,
            "border": null,
            "bottom": null,
            "display": null,
            "flex": null,
            "flex_flow": null,
            "grid_area": null,
            "grid_auto_columns": null,
            "grid_auto_flow": null,
            "grid_auto_rows": null,
            "grid_column": null,
            "grid_gap": null,
            "grid_row": null,
            "grid_template_areas": null,
            "grid_template_columns": null,
            "grid_template_rows": null,
            "height": null,
            "justify_content": null,
            "justify_items": null,
            "left": null,
            "margin": null,
            "max_height": null,
            "max_width": null,
            "min_height": null,
            "min_width": null,
            "object_fit": null,
            "object_position": null,
            "order": null,
            "overflow": null,
            "overflow_x": null,
            "overflow_y": null,
            "padding": null,
            "right": null,
            "top": null,
            "visibility": null,
            "width": null
          }
        },
        "c6b6855eb1b74e329d0dcae3575efb55": {
          "model_module": "@jupyter-widgets/controls",
          "model_name": "ProgressStyleModel",
          "model_module_version": "1.5.0",
          "state": {
            "_model_module": "@jupyter-widgets/controls",
            "_model_module_version": "1.5.0",
            "_model_name": "ProgressStyleModel",
            "_view_count": null,
            "_view_module": "@jupyter-widgets/base",
            "_view_module_version": "1.2.0",
            "_view_name": "StyleView",
            "bar_color": null,
            "description_width": ""
          }
        },
        "6c7ea471bcdc44d9a7e6730283d7dca6": {
          "model_module": "@jupyter-widgets/base",
          "model_name": "LayoutModel",
          "model_module_version": "1.2.0",
          "state": {
            "_model_module": "@jupyter-widgets/base",
            "_model_module_version": "1.2.0",
            "_model_name": "LayoutModel",
            "_view_count": null,
            "_view_module": "@jupyter-widgets/base",
            "_view_module_version": "1.2.0",
            "_view_name": "LayoutView",
            "align_content": null,
            "align_items": null,
            "align_self": null,
            "border": null,
            "bottom": null,
            "display": null,
            "flex": null,
            "flex_flow": null,
            "grid_area": null,
            "grid_auto_columns": null,
            "grid_auto_flow": null,
            "grid_auto_rows": null,
            "grid_column": null,
            "grid_gap": null,
            "grid_row": null,
            "grid_template_areas": null,
            "grid_template_columns": null,
            "grid_template_rows": null,
            "height": null,
            "justify_content": null,
            "justify_items": null,
            "left": null,
            "margin": null,
            "max_height": null,
            "max_width": null,
            "min_height": null,
            "min_width": null,
            "object_fit": null,
            "object_position": null,
            "order": null,
            "overflow": null,
            "overflow_x": null,
            "overflow_y": null,
            "padding": null,
            "right": null,
            "top": null,
            "visibility": null,
            "width": null
          }
        },
        "c6dd6f6e07624fafa160c8f95431910e": {
          "model_module": "@jupyter-widgets/controls",
          "model_name": "DescriptionStyleModel",
          "model_module_version": "1.5.0",
          "state": {
            "_model_module": "@jupyter-widgets/controls",
            "_model_module_version": "1.5.0",
            "_model_name": "DescriptionStyleModel",
            "_view_count": null,
            "_view_module": "@jupyter-widgets/base",
            "_view_module_version": "1.2.0",
            "_view_name": "StyleView",
            "description_width": ""
          }
        }
      }
    }
  },
  "cells": [
    {
      "cell_type": "code",
      "execution_count": null,
      "metadata": {
        "colab": {
          "base_uri": "https://localhost:8080/"
        },
        "id": "D4hD7g9FYBsM",
        "outputId": "84a386dc-b1f6-4c68-b942-5eb3d54cbcff",
        "collapsed": true
      },
      "outputs": [
        {
          "output_type": "stream",
          "name": "stdout",
          "text": [
            "Requirement already satisfied: transformers in /usr/local/lib/python3.10/dist-packages (4.41.2)\n",
            "Collecting datasets\n",
            "  Downloading datasets-2.20.0-py3-none-any.whl (547 kB)\n",
            "\u001b[2K     \u001b[90m━━━━━━━━━━━━━━━━━━━━━━━━━━━━━━━━━━━━━━━━\u001b[0m \u001b[32m547.8/547.8 kB\u001b[0m \u001b[31m6.4 MB/s\u001b[0m eta \u001b[36m0:00:00\u001b[0m\n",
            "\u001b[?25hCollecting textattack\n",
            "  Downloading textattack-0.3.10-py3-none-any.whl (445 kB)\n",
            "\u001b[2K     \u001b[90m━━━━━━━━━━━━━━━━━━━━━━━━━━━━━━━━━━━━━━━━\u001b[0m \u001b[32m445.7/445.7 kB\u001b[0m \u001b[31m11.8 MB/s\u001b[0m eta \u001b[36m0:00:00\u001b[0m\n",
            "\u001b[?25hRequirement already satisfied: filelock in /usr/local/lib/python3.10/dist-packages (from transformers) (3.15.4)\n",
            "Requirement already satisfied: huggingface-hub<1.0,>=0.23.0 in /usr/local/lib/python3.10/dist-packages (from transformers) (0.23.4)\n",
            "Requirement already satisfied: numpy>=1.17 in /usr/local/lib/python3.10/dist-packages (from transformers) (1.25.2)\n",
            "Requirement already satisfied: packaging>=20.0 in /usr/local/lib/python3.10/dist-packages (from transformers) (24.1)\n",
            "Requirement already satisfied: pyyaml>=5.1 in /usr/local/lib/python3.10/dist-packages (from transformers) (6.0.1)\n",
            "Requirement already satisfied: regex!=2019.12.17 in /usr/local/lib/python3.10/dist-packages (from transformers) (2024.5.15)\n",
            "Requirement already satisfied: requests in /usr/local/lib/python3.10/dist-packages (from transformers) (2.31.0)\n",
            "Requirement already satisfied: tokenizers<0.20,>=0.19 in /usr/local/lib/python3.10/dist-packages (from transformers) (0.19.1)\n",
            "Requirement already satisfied: safetensors>=0.4.1 in /usr/local/lib/python3.10/dist-packages (from transformers) (0.4.3)\n",
            "Requirement already satisfied: tqdm>=4.27 in /usr/local/lib/python3.10/dist-packages (from transformers) (4.66.4)\n",
            "Collecting pyarrow>=15.0.0 (from datasets)\n",
            "  Downloading pyarrow-16.1.0-cp310-cp310-manylinux_2_28_x86_64.whl (40.8 MB)\n",
            "\u001b[2K     \u001b[90m━━━━━━━━━━━━━━━━━━━━━━━━━━━━━━━━━━━━━━━━\u001b[0m \u001b[32m40.8/40.8 MB\u001b[0m \u001b[31m8.6 MB/s\u001b[0m eta \u001b[36m0:00:00\u001b[0m\n",
            "\u001b[?25hRequirement already satisfied: pyarrow-hotfix in /usr/local/lib/python3.10/dist-packages (from datasets) (0.6)\n",
            "Collecting dill<0.3.9,>=0.3.0 (from datasets)\n",
            "  Downloading dill-0.3.8-py3-none-any.whl (116 kB)\n",
            "\u001b[2K     \u001b[90m━━━━━━━━━━━━━━━━━━━━━━━━━━━━━━━━━━━━━━━━\u001b[0m \u001b[32m116.3/116.3 kB\u001b[0m \u001b[31m7.9 MB/s\u001b[0m eta \u001b[36m0:00:00\u001b[0m\n",
            "\u001b[?25hRequirement already satisfied: pandas in /usr/local/lib/python3.10/dist-packages (from datasets) (2.0.3)\n",
            "Collecting requests (from transformers)\n",
            "  Downloading requests-2.32.3-py3-none-any.whl (64 kB)\n",
            "\u001b[2K     \u001b[90m━━━━━━━━━━━━━━━━━━━━━━━━━━━━━━━━━━━━━━━━\u001b[0m \u001b[32m64.9/64.9 kB\u001b[0m \u001b[31m7.2 MB/s\u001b[0m eta \u001b[36m0:00:00\u001b[0m\n",
            "\u001b[?25hCollecting xxhash (from datasets)\n",
            "  Downloading xxhash-3.4.1-cp310-cp310-manylinux_2_17_x86_64.manylinux2014_x86_64.whl (194 kB)\n",
            "\u001b[2K     \u001b[90m━━━━━━━━━━━━━━━━━━━━━━━━━━━━━━━━━━━━━━━━\u001b[0m \u001b[32m194.1/194.1 kB\u001b[0m \u001b[31m17.0 MB/s\u001b[0m eta \u001b[36m0:00:00\u001b[0m\n",
            "\u001b[?25hCollecting multiprocess (from datasets)\n",
            "  Downloading multiprocess-0.70.16-py310-none-any.whl (134 kB)\n",
            "\u001b[2K     \u001b[90m━━━━━━━━━━━━━━━━━━━━━━━━━━━━━━━━━━━━━━━━\u001b[0m \u001b[32m134.8/134.8 kB\u001b[0m \u001b[31m17.4 MB/s\u001b[0m eta \u001b[36m0:00:00\u001b[0m\n",
            "\u001b[?25hRequirement already satisfied: fsspec[http]<=2024.5.0,>=2023.1.0 in /usr/local/lib/python3.10/dist-packages (from datasets) (2023.6.0)\n",
            "Requirement already satisfied: aiohttp in /usr/local/lib/python3.10/dist-packages (from datasets) (3.9.5)\n",
            "Collecting bert-score>=0.3.5 (from textattack)\n",
            "  Downloading bert_score-0.3.13-py3-none-any.whl (61 kB)\n",
            "\u001b[2K     \u001b[90m━━━━━━━━━━━━━━━━━━━━━━━━━━━━━━━━━━━━━━━━\u001b[0m \u001b[32m61.1/61.1 kB\u001b[0m \u001b[31m7.7 MB/s\u001b[0m eta \u001b[36m0:00:00\u001b[0m\n",
            "\u001b[?25hRequirement already satisfied: editdistance in /usr/local/lib/python3.10/dist-packages (from textattack) (0.6.2)\n",
            "Collecting flair (from textattack)\n",
            "  Downloading flair-0.13.1-py3-none-any.whl (388 kB)\n",
            "\u001b[2K     \u001b[90m━━━━━━━━━━━━━━━━━━━━━━━━━━━━━━━━━━━━━━━━\u001b[0m \u001b[32m388.3/388.3 kB\u001b[0m \u001b[31m31.7 MB/s\u001b[0m eta \u001b[36m0:00:00\u001b[0m\n",
            "\u001b[?25hCollecting language-tool-python (from textattack)\n",
            "  Downloading language_tool_python-2.8-py3-none-any.whl (35 kB)\n",
            "Collecting lemminflect (from textattack)\n",
            "  Downloading lemminflect-0.2.3-py3-none-any.whl (769 kB)\n",
            "\u001b[2K     \u001b[90m━━━━━━━━━━━━━━━━━━━━━━━━━━━━━━━━━━━━━━━━\u001b[0m \u001b[32m769.7/769.7 kB\u001b[0m \u001b[31m36.7 MB/s\u001b[0m eta \u001b[36m0:00:00\u001b[0m\n",
            "\u001b[?25hCollecting lru-dict (from textattack)\n",
            "  Downloading lru_dict-1.3.0-cp310-cp310-manylinux_2_5_x86_64.manylinux1_x86_64.manylinux_2_17_x86_64.manylinux2014_x86_64.whl (30 kB)\n",
            "Requirement already satisfied: nltk in /usr/local/lib/python3.10/dist-packages (from textattack) (3.8.1)\n",
            "Requirement already satisfied: scipy>=1.4.1 in /usr/local/lib/python3.10/dist-packages (from textattack) (1.11.4)\n",
            "Requirement already satisfied: torch!=1.8,>=1.7.0 in /usr/local/lib/python3.10/dist-packages (from textattack) (2.3.0+cu121)\n",
            "Collecting terminaltables (from textattack)\n",
            "  Downloading terminaltables-3.1.10-py2.py3-none-any.whl (15 kB)\n",
            "Collecting word2number (from textattack)\n",
            "  Downloading word2number-1.1.zip (9.7 kB)\n",
            "  Preparing metadata (setup.py) ... \u001b[?25l\u001b[?25hdone\n",
            "Collecting num2words (from textattack)\n",
            "  Downloading num2words-0.5.13-py3-none-any.whl (143 kB)\n",
            "\u001b[2K     \u001b[90m━━━━━━━━━━━━━━━━━━━━━━━━━━━━━━━━━━━━━━━━\u001b[0m \u001b[32m143.3/143.3 kB\u001b[0m \u001b[31m3.0 MB/s\u001b[0m eta \u001b[36m0:00:00\u001b[0m\n",
            "\u001b[?25hRequirement already satisfied: more-itertools in /usr/local/lib/python3.10/dist-packages (from textattack) (10.1.0)\n",
            "Collecting pinyin>=0.4.0 (from textattack)\n",
            "  Downloading pinyin-0.4.0.tar.gz (3.6 MB)\n",
            "\u001b[2K     \u001b[90m━━━━━━━━━━━━━━━━━━━━━━━━━━━━━━━━━━━━━━━━\u001b[0m \u001b[32m3.6/3.6 MB\u001b[0m \u001b[31m20.6 MB/s\u001b[0m eta \u001b[36m0:00:00\u001b[0m\n",
            "\u001b[?25h  Preparing metadata (setup.py) ... \u001b[?25l\u001b[?25hdone\n",
            "Requirement already satisfied: jieba in /usr/local/lib/python3.10/dist-packages (from textattack) (0.42.1)\n",
            "Collecting OpenHowNet (from textattack)\n",
            "  Downloading OpenHowNet-2.0-py3-none-any.whl (18 kB)\n",
            "Requirement already satisfied: matplotlib in /usr/local/lib/python3.10/dist-packages (from bert-score>=0.3.5->textattack) (3.7.1)\n",
            "Requirement already satisfied: aiosignal>=1.1.2 in /usr/local/lib/python3.10/dist-packages (from aiohttp->datasets) (1.3.1)\n",
            "Requirement already satisfied: attrs>=17.3.0 in /usr/local/lib/python3.10/dist-packages (from aiohttp->datasets) (23.2.0)\n",
            "Requirement already satisfied: frozenlist>=1.1.1 in /usr/local/lib/python3.10/dist-packages (from aiohttp->datasets) (1.4.1)\n",
            "Requirement already satisfied: multidict<7.0,>=4.5 in /usr/local/lib/python3.10/dist-packages (from aiohttp->datasets) (6.0.5)\n",
            "Requirement already satisfied: yarl<2.0,>=1.0 in /usr/local/lib/python3.10/dist-packages (from aiohttp->datasets) (1.9.4)\n",
            "Requirement already satisfied: async-timeout<5.0,>=4.0 in /usr/local/lib/python3.10/dist-packages (from aiohttp->datasets) (4.0.3)\n",
            "Requirement already satisfied: typing-extensions>=3.7.4.3 in /usr/local/lib/python3.10/dist-packages (from huggingface-hub<1.0,>=0.23.0->transformers) (4.12.2)\n",
            "Requirement already satisfied: python-dateutil>=2.8.2 in /usr/local/lib/python3.10/dist-packages (from pandas->datasets) (2.8.2)\n",
            "Requirement already satisfied: pytz>=2020.1 in /usr/local/lib/python3.10/dist-packages (from pandas->datasets) (2023.4)\n",
            "Requirement already satisfied: tzdata>=2022.1 in /usr/local/lib/python3.10/dist-packages (from pandas->datasets) (2024.1)\n",
            "Requirement already satisfied: charset-normalizer<4,>=2 in /usr/local/lib/python3.10/dist-packages (from requests->transformers) (3.3.2)\n",
            "Requirement already satisfied: idna<4,>=2.5 in /usr/local/lib/python3.10/dist-packages (from requests->transformers) (3.7)\n",
            "Requirement already satisfied: urllib3<3,>=1.21.1 in /usr/local/lib/python3.10/dist-packages (from requests->transformers) (2.0.7)\n",
            "Requirement already satisfied: certifi>=2017.4.17 in /usr/local/lib/python3.10/dist-packages (from requests->transformers) (2024.6.2)\n",
            "Requirement already satisfied: sympy in /usr/local/lib/python3.10/dist-packages (from torch!=1.8,>=1.7.0->textattack) (1.12.1)\n",
            "Requirement already satisfied: networkx in /usr/local/lib/python3.10/dist-packages (from torch!=1.8,>=1.7.0->textattack) (3.3)\n",
            "Requirement already satisfied: jinja2 in /usr/local/lib/python3.10/dist-packages (from torch!=1.8,>=1.7.0->textattack) (3.1.4)\n",
            "Collecting nvidia-cuda-nvrtc-cu12==12.1.105 (from torch!=1.8,>=1.7.0->textattack)\n",
            "  Using cached nvidia_cuda_nvrtc_cu12-12.1.105-py3-none-manylinux1_x86_64.whl (23.7 MB)\n",
            "Collecting nvidia-cuda-runtime-cu12==12.1.105 (from torch!=1.8,>=1.7.0->textattack)\n",
            "  Using cached nvidia_cuda_runtime_cu12-12.1.105-py3-none-manylinux1_x86_64.whl (823 kB)\n",
            "Collecting nvidia-cuda-cupti-cu12==12.1.105 (from torch!=1.8,>=1.7.0->textattack)\n",
            "  Using cached nvidia_cuda_cupti_cu12-12.1.105-py3-none-manylinux1_x86_64.whl (14.1 MB)\n",
            "Collecting nvidia-cudnn-cu12==8.9.2.26 (from torch!=1.8,>=1.7.0->textattack)\n",
            "  Using cached nvidia_cudnn_cu12-8.9.2.26-py3-none-manylinux1_x86_64.whl (731.7 MB)\n",
            "Collecting nvidia-cublas-cu12==12.1.3.1 (from torch!=1.8,>=1.7.0->textattack)\n",
            "  Using cached nvidia_cublas_cu12-12.1.3.1-py3-none-manylinux1_x86_64.whl (410.6 MB)\n",
            "Collecting nvidia-cufft-cu12==11.0.2.54 (from torch!=1.8,>=1.7.0->textattack)\n",
            "  Using cached nvidia_cufft_cu12-11.0.2.54-py3-none-manylinux1_x86_64.whl (121.6 MB)\n",
            "Collecting nvidia-curand-cu12==10.3.2.106 (from torch!=1.8,>=1.7.0->textattack)\n",
            "  Using cached nvidia_curand_cu12-10.3.2.106-py3-none-manylinux1_x86_64.whl (56.5 MB)\n",
            "Collecting nvidia-cusolver-cu12==11.4.5.107 (from torch!=1.8,>=1.7.0->textattack)\n",
            "  Using cached nvidia_cusolver_cu12-11.4.5.107-py3-none-manylinux1_x86_64.whl (124.2 MB)\n",
            "Collecting nvidia-cusparse-cu12==12.1.0.106 (from torch!=1.8,>=1.7.0->textattack)\n",
            "  Using cached nvidia_cusparse_cu12-12.1.0.106-py3-none-manylinux1_x86_64.whl (196.0 MB)\n",
            "Collecting nvidia-nccl-cu12==2.20.5 (from torch!=1.8,>=1.7.0->textattack)\n",
            "  Using cached nvidia_nccl_cu12-2.20.5-py3-none-manylinux2014_x86_64.whl (176.2 MB)\n",
            "Collecting nvidia-nvtx-cu12==12.1.105 (from torch!=1.8,>=1.7.0->textattack)\n",
            "  Using cached nvidia_nvtx_cu12-12.1.105-py3-none-manylinux1_x86_64.whl (99 kB)\n",
            "Requirement already satisfied: triton==2.3.0 in /usr/local/lib/python3.10/dist-packages (from torch!=1.8,>=1.7.0->textattack) (2.3.0)\n",
            "Collecting nvidia-nvjitlink-cu12 (from nvidia-cusolver-cu12==11.4.5.107->torch!=1.8,>=1.7.0->textattack)\n",
            "  Downloading nvidia_nvjitlink_cu12-12.5.82-py3-none-manylinux2014_x86_64.whl (21.3 MB)\n",
            "\u001b[2K     \u001b[90m━━━━━━━━━━━━━━━━━━━━━━━━━━━━━━━━━━━━━━━━\u001b[0m \u001b[32m21.3/21.3 MB\u001b[0m \u001b[31m71.2 MB/s\u001b[0m eta \u001b[36m0:00:00\u001b[0m\n",
            "\u001b[?25hCollecting boto3>=1.20.27 (from flair->textattack)\n",
            "  Downloading boto3-1.34.140-py3-none-any.whl (139 kB)\n",
            "\u001b[2K     \u001b[90m━━━━━━━━━━━━━━━━━━━━━━━━━━━━━━━━━━━━━━━━\u001b[0m \u001b[32m139.2/139.2 kB\u001b[0m \u001b[31m19.9 MB/s\u001b[0m eta \u001b[36m0:00:00\u001b[0m\n",
            "\u001b[?25hCollecting bpemb>=0.3.2 (from flair->textattack)\n",
            "  Downloading bpemb-0.3.5-py3-none-any.whl (19 kB)\n",
            "Collecting conllu>=4.0 (from flair->textattack)\n",
            "  Downloading conllu-4.5.3-py2.py3-none-any.whl (16 kB)\n",
            "Collecting deprecated>=1.2.13 (from flair->textattack)\n",
            "  Downloading Deprecated-1.2.14-py2.py3-none-any.whl (9.6 kB)\n",
            "Collecting ftfy>=6.1.0 (from flair->textattack)\n",
            "  Downloading ftfy-6.2.0-py3-none-any.whl (54 kB)\n",
            "\u001b[2K     \u001b[90m━━━━━━━━━━━━━━━━━━━━━━━━━━━━━━━━━━━━━━━━\u001b[0m \u001b[32m54.4/54.4 kB\u001b[0m \u001b[31m7.5 MB/s\u001b[0m eta \u001b[36m0:00:00\u001b[0m\n",
            "\u001b[?25hRequirement already satisfied: gdown>=4.4.0 in /usr/local/lib/python3.10/dist-packages (from flair->textattack) (5.1.0)\n",
            "Requirement already satisfied: gensim>=4.2.0 in /usr/local/lib/python3.10/dist-packages (from flair->textattack) (4.3.2)\n",
            "Collecting janome>=0.4.2 (from flair->textattack)\n",
            "  Downloading Janome-0.5.0-py2.py3-none-any.whl (19.7 MB)\n",
            "\u001b[2K     \u001b[90m━━━━━━━━━━━━━━━━━━━━━━━━━━━━━━━━━━━━━━━━\u001b[0m \u001b[32m19.7/19.7 MB\u001b[0m \u001b[31m63.0 MB/s\u001b[0m eta \u001b[36m0:00:00\u001b[0m\n",
            "\u001b[?25hCollecting langdetect>=1.0.9 (from flair->textattack)\n",
            "  Downloading langdetect-1.0.9.tar.gz (981 kB)\n",
            "\u001b[2K     \u001b[90m━━━━━━━━━━━━━━━━━━━━━━━━━━━━━━━━━━━━━━━━\u001b[0m \u001b[32m981.5/981.5 kB\u001b[0m \u001b[31m65.9 MB/s\u001b[0m eta \u001b[36m0:00:00\u001b[0m\n",
            "\u001b[?25h  Preparing metadata (setup.py) ... \u001b[?25l\u001b[?25hdone\n",
            "Requirement already satisfied: lxml>=4.8.0 in /usr/local/lib/python3.10/dist-packages (from flair->textattack) (4.9.4)\n",
            "Collecting mpld3>=0.3 (from flair->textattack)\n",
            "  Downloading mpld3-0.5.10-py3-none-any.whl (202 kB)\n",
            "\u001b[2K     \u001b[90m━━━━━━━━━━━━━━━━━━━━━━━━━━━━━━━━━━━━━━━━\u001b[0m \u001b[32m202.6/202.6 kB\u001b[0m \u001b[31m25.8 MB/s\u001b[0m eta \u001b[36m0:00:00\u001b[0m\n",
            "\u001b[?25hCollecting pptree>=3.1 (from flair->textattack)\n",
            "  Downloading pptree-3.1.tar.gz (3.0 kB)\n",
            "  Preparing metadata (setup.py) ... \u001b[?25l\u001b[?25hdone\n",
            "Collecting pytorch-revgrad>=0.2.0 (from flair->textattack)\n",
            "  Downloading pytorch_revgrad-0.2.0-py3-none-any.whl (4.6 kB)\n",
            "Requirement already satisfied: scikit-learn>=1.0.2 in /usr/local/lib/python3.10/dist-packages (from flair->textattack) (1.2.2)\n",
            "Collecting segtok>=1.5.11 (from flair->textattack)\n",
            "  Downloading segtok-1.5.11-py3-none-any.whl (24 kB)\n",
            "Collecting sqlitedict>=2.0.0 (from flair->textattack)\n",
            "  Downloading sqlitedict-2.1.0.tar.gz (21 kB)\n",
            "  Preparing metadata (setup.py) ... \u001b[?25l\u001b[?25hdone\n",
            "Requirement already satisfied: tabulate>=0.8.10 in /usr/local/lib/python3.10/dist-packages (from flair->textattack) (0.9.0)\n",
            "Collecting transformer-smaller-training-vocab>=0.2.3 (from flair->textattack)\n",
            "  Downloading transformer_smaller_training_vocab-0.4.0-py3-none-any.whl (14 kB)\n",
            "Collecting urllib3<3,>=1.21.1 (from requests->transformers)\n",
            "  Downloading urllib3-1.26.19-py2.py3-none-any.whl (143 kB)\n",
            "\u001b[2K     \u001b[90m━━━━━━━━━━━━━━━━━━━━━━━━━━━━━━━━━━━━━━━━\u001b[0m \u001b[32m143.9/143.9 kB\u001b[0m \u001b[31m23.4 MB/s\u001b[0m eta \u001b[36m0:00:00\u001b[0m\n",
            "\u001b[?25hCollecting wikipedia-api>=0.5.7 (from flair->textattack)\n",
            "  Downloading Wikipedia_API-0.6.0-py3-none-any.whl (14 kB)\n",
            "Collecting semver<4.0.0,>=3.0.0 (from flair->textattack)\n",
            "  Downloading semver-3.0.2-py3-none-any.whl (17 kB)\n",
            "Requirement already satisfied: pip in /usr/local/lib/python3.10/dist-packages (from language-tool-python->textattack) (23.1.2)\n",
            "Requirement already satisfied: wheel in /usr/local/lib/python3.10/dist-packages (from language-tool-python->textattack) (0.43.0)\n",
            "Requirement already satisfied: click in /usr/local/lib/python3.10/dist-packages (from nltk->textattack) (8.1.7)\n",
            "Requirement already satisfied: joblib in /usr/local/lib/python3.10/dist-packages (from nltk->textattack) (1.4.2)\n",
            "Collecting docopt>=0.6.2 (from num2words->textattack)\n",
            "  Downloading docopt-0.6.2.tar.gz (25 kB)\n",
            "  Preparing metadata (setup.py) ... \u001b[?25l\u001b[?25hdone\n",
            "Collecting anytree (from OpenHowNet->textattack)\n",
            "  Downloading anytree-2.12.1-py3-none-any.whl (44 kB)\n",
            "\u001b[2K     \u001b[90m━━━━━━━━━━━━━━━━━━━━━━━━━━━━━━━━━━━━━━━━\u001b[0m \u001b[32m44.9/44.9 kB\u001b[0m \u001b[31m6.9 MB/s\u001b[0m eta \u001b[36m0:00:00\u001b[0m\n",
            "\u001b[?25hRequirement already satisfied: setuptools in /usr/local/lib/python3.10/dist-packages (from OpenHowNet->textattack) (67.7.2)\n",
            "Collecting botocore<1.35.0,>=1.34.140 (from boto3>=1.20.27->flair->textattack)\n",
            "  Downloading botocore-1.34.140-py3-none-any.whl (12.4 MB)\n",
            "\u001b[2K     \u001b[90m━━━━━━━━━━━━━━━━━━━━━━━━━━━━━━━━━━━━━━━━\u001b[0m \u001b[32m12.4/12.4 MB\u001b[0m \u001b[31m110.4 MB/s\u001b[0m eta \u001b[36m0:00:00\u001b[0m\n",
            "\u001b[?25hCollecting jmespath<2.0.0,>=0.7.1 (from boto3>=1.20.27->flair->textattack)\n",
            "  Downloading jmespath-1.0.1-py3-none-any.whl (20 kB)\n",
            "Collecting s3transfer<0.11.0,>=0.10.0 (from boto3>=1.20.27->flair->textattack)\n",
            "  Downloading s3transfer-0.10.2-py3-none-any.whl (82 kB)\n",
            "\u001b[2K     \u001b[90m━━━━━━━━━━━━━━━━━━━━━━━━━━━━━━━━━━━━━━━━\u001b[0m \u001b[32m82.7/82.7 kB\u001b[0m \u001b[31m14.5 MB/s\u001b[0m eta \u001b[36m0:00:00\u001b[0m\n",
            "\u001b[?25hRequirement already satisfied: sentencepiece in /usr/local/lib/python3.10/dist-packages (from bpemb>=0.3.2->flair->textattack) (0.1.99)\n",
            "Requirement already satisfied: wrapt<2,>=1.10 in /usr/local/lib/python3.10/dist-packages (from deprecated>=1.2.13->flair->textattack) (1.14.1)\n",
            "Requirement already satisfied: wcwidth<0.3.0,>=0.2.12 in /usr/local/lib/python3.10/dist-packages (from ftfy>=6.1.0->flair->textattack) (0.2.13)\n",
            "Requirement already satisfied: beautifulsoup4 in /usr/local/lib/python3.10/dist-packages (from gdown>=4.4.0->flair->textattack) (4.12.3)\n",
            "Requirement already satisfied: smart-open>=1.8.1 in /usr/local/lib/python3.10/dist-packages (from gensim>=4.2.0->flair->textattack) (7.0.4)\n",
            "Requirement already satisfied: six in /usr/local/lib/python3.10/dist-packages (from langdetect>=1.0.9->flair->textattack) (1.16.0)\n",
            "Requirement already satisfied: contourpy>=1.0.1 in /usr/local/lib/python3.10/dist-packages (from matplotlib->bert-score>=0.3.5->textattack) (1.2.1)\n",
            "Requirement already satisfied: cycler>=0.10 in /usr/local/lib/python3.10/dist-packages (from matplotlib->bert-score>=0.3.5->textattack) (0.12.1)\n",
            "Requirement already satisfied: fonttools>=4.22.0 in /usr/local/lib/python3.10/dist-packages (from matplotlib->bert-score>=0.3.5->textattack) (4.53.0)\n",
            "Requirement already satisfied: kiwisolver>=1.0.1 in /usr/local/lib/python3.10/dist-packages (from matplotlib->bert-score>=0.3.5->textattack) (1.4.5)\n",
            "Requirement already satisfied: pillow>=6.2.0 in /usr/local/lib/python3.10/dist-packages (from matplotlib->bert-score>=0.3.5->textattack) (9.4.0)\n",
            "Requirement already satisfied: pyparsing>=2.3.1 in /usr/local/lib/python3.10/dist-packages (from matplotlib->bert-score>=0.3.5->textattack) (3.1.2)\n",
            "Requirement already satisfied: threadpoolctl>=2.0.0 in /usr/local/lib/python3.10/dist-packages (from scikit-learn>=1.0.2->flair->textattack) (3.5.0)\n",
            "Requirement already satisfied: protobuf in /usr/local/lib/python3.10/dist-packages (from transformers) (3.20.3)\n",
            "Requirement already satisfied: MarkupSafe>=2.0 in /usr/local/lib/python3.10/dist-packages (from jinja2->torch!=1.8,>=1.7.0->textattack) (2.1.5)\n",
            "Requirement already satisfied: mpmath<1.4.0,>=1.1.0 in /usr/local/lib/python3.10/dist-packages (from sympy->torch!=1.8,>=1.7.0->textattack) (1.3.0)\n",
            "Collecting accelerate>=0.21.0 (from transformers)\n",
            "  Downloading accelerate-0.32.1-py3-none-any.whl (314 kB)\n",
            "\u001b[2K     \u001b[90m━━━━━━━━━━━━━━━━━━━━━━━━━━━━━━━━━━━━━━━━\u001b[0m \u001b[32m314.1/314.1 kB\u001b[0m \u001b[31m42.1 MB/s\u001b[0m eta \u001b[36m0:00:00\u001b[0m\n",
            "\u001b[?25hRequirement already satisfied: soupsieve>1.2 in /usr/local/lib/python3.10/dist-packages (from beautifulsoup4->gdown>=4.4.0->flair->textattack) (2.5)\n",
            "INFO: pip is looking at multiple versions of requests[socks] to determine which version is compatible with other requirements. This could take a while.\n",
            "Requirement already satisfied: PySocks!=1.5.7,>=1.5.6 in /usr/local/lib/python3.10/dist-packages (from requests->transformers) (1.7.1)\n",
            "Requirement already satisfied: psutil in /usr/local/lib/python3.10/dist-packages (from accelerate>=0.21.0->transformers) (5.9.5)\n",
            "Building wheels for collected packages: pinyin, word2number, docopt, langdetect, pptree, sqlitedict\n",
            "  Building wheel for pinyin (setup.py) ... \u001b[?25l\u001b[?25hdone\n",
            "  Created wheel for pinyin: filename=pinyin-0.4.0-py3-none-any.whl size=3630475 sha256=b08a48a28d17a811a6992234974b9c94f84da09792a902ba3179086c7a5370b9\n",
            "  Stored in directory: /root/.cache/pip/wheels/33/38/af/616fc6f154aa5bae65a1da12b22d79943434269f0468ff9b3f\n",
            "  Building wheel for word2number (setup.py) ... \u001b[?25l\u001b[?25hdone\n",
            "  Created wheel for word2number: filename=word2number-1.1-py3-none-any.whl size=5566 sha256=20a61d1c527aa27de4f473274fec7b712875b1d4095439ded473a07dbdec6702\n",
            "  Stored in directory: /root/.cache/pip/wheels/84/ff/26/d3cfbd971e96c5aa3737ecfced81628830d7359b55fbb8ca3b\n",
            "  Building wheel for docopt (setup.py) ... \u001b[?25l\u001b[?25hdone\n",
            "  Created wheel for docopt: filename=docopt-0.6.2-py2.py3-none-any.whl size=13706 sha256=32ac2333c15fc31ac98032b419d6fc1c208018b802c84ef383a0de894d478778\n",
            "  Stored in directory: /root/.cache/pip/wheels/fc/ab/d4/5da2067ac95b36618c629a5f93f809425700506f72c9732fac\n",
            "  Building wheel for langdetect (setup.py) ... \u001b[?25l\u001b[?25hdone\n",
            "  Created wheel for langdetect: filename=langdetect-1.0.9-py3-none-any.whl size=993227 sha256=f1b3c7b7ffa236efc7e626abea7a127b90a0eeb6dca2cfa10f627219c58e5190\n",
            "  Stored in directory: /root/.cache/pip/wheels/95/03/7d/59ea870c70ce4e5a370638b5462a7711ab78fba2f655d05106\n",
            "  Building wheel for pptree (setup.py) ... \u001b[?25l\u001b[?25hdone\n",
            "  Created wheel for pptree: filename=pptree-3.1-py3-none-any.whl size=4609 sha256=3cab502c2231fbec812a63d9884131a2125b742f24f337a81261e4a2e6513146\n",
            "  Stored in directory: /root/.cache/pip/wheels/9f/b6/0e/6f26eb9e6eb53ff2107a7888d72b5a6a597593956113037828\n",
            "  Building wheel for sqlitedict (setup.py) ... \u001b[?25l\u001b[?25hdone\n",
            "  Created wheel for sqlitedict: filename=sqlitedict-2.1.0-py3-none-any.whl size=16862 sha256=7e4f555903a1b77b3b4fc23eb28eff0e3717d60576f3ad92dbd1f252a08e708d\n",
            "  Stored in directory: /root/.cache/pip/wheels/79/d6/e7/304e0e6cb2221022c26d8161f7c23cd4f259a9e41e8bbcfabd\n",
            "Successfully built pinyin word2number docopt langdetect pptree sqlitedict\n",
            "Installing collected packages: word2number, sqlitedict, pptree, pinyin, janome, docopt, xxhash, urllib3, terminaltables, semver, segtok, pyarrow, nvidia-nvtx-cu12, nvidia-nvjitlink-cu12, nvidia-nccl-cu12, nvidia-curand-cu12, nvidia-cufft-cu12, nvidia-cuda-runtime-cu12, nvidia-cuda-nvrtc-cu12, nvidia-cuda-cupti-cu12, nvidia-cublas-cu12, num2words, lru-dict, lemminflect, langdetect, jmespath, ftfy, dill, deprecated, conllu, anytree, requests, nvidia-cusparse-cu12, nvidia-cudnn-cu12, multiprocess, botocore, wikipedia-api, s3transfer, OpenHowNet, nvidia-cusolver-cu12, mpld3, language-tool-python, bpemb, datasets, boto3, pytorch-revgrad, accelerate, bert-score, transformer-smaller-training-vocab, flair, textattack\n",
            "  Attempting uninstall: urllib3\n",
            "    Found existing installation: urllib3 2.0.7\n",
            "    Uninstalling urllib3-2.0.7:\n",
            "      Successfully uninstalled urllib3-2.0.7\n",
            "  Attempting uninstall: pyarrow\n",
            "    Found existing installation: pyarrow 14.0.2\n",
            "    Uninstalling pyarrow-14.0.2:\n",
            "      Successfully uninstalled pyarrow-14.0.2\n",
            "  Attempting uninstall: requests\n",
            "    Found existing installation: requests 2.31.0\n",
            "    Uninstalling requests-2.31.0:\n",
            "      Successfully uninstalled requests-2.31.0\n",
            "\u001b[31mERROR: pip's dependency resolver does not currently take into account all the packages that are installed. This behaviour is the source of the following dependency conflicts.\n",
            "cudf-cu12 24.4.1 requires pyarrow<15.0.0a0,>=14.0.1, but you have pyarrow 16.1.0 which is incompatible.\n",
            "google-colab 1.0.0 requires requests==2.31.0, but you have requests 2.32.3 which is incompatible.\n",
            "ibis-framework 8.0.0 requires pyarrow<16,>=2, but you have pyarrow 16.1.0 which is incompatible.\u001b[0m\u001b[31m\n",
            "\u001b[0mSuccessfully installed OpenHowNet-2.0 accelerate-0.32.1 anytree-2.12.1 bert-score-0.3.13 boto3-1.34.140 botocore-1.34.140 bpemb-0.3.5 conllu-4.5.3 datasets-2.20.0 deprecated-1.2.14 dill-0.3.8 docopt-0.6.2 flair-0.13.1 ftfy-6.2.0 janome-0.5.0 jmespath-1.0.1 langdetect-1.0.9 language-tool-python-2.8 lemminflect-0.2.3 lru-dict-1.3.0 mpld3-0.5.10 multiprocess-0.70.16 num2words-0.5.13 nvidia-cublas-cu12-12.1.3.1 nvidia-cuda-cupti-cu12-12.1.105 nvidia-cuda-nvrtc-cu12-12.1.105 nvidia-cuda-runtime-cu12-12.1.105 nvidia-cudnn-cu12-8.9.2.26 nvidia-cufft-cu12-11.0.2.54 nvidia-curand-cu12-10.3.2.106 nvidia-cusolver-cu12-11.4.5.107 nvidia-cusparse-cu12-12.1.0.106 nvidia-nccl-cu12-2.20.5 nvidia-nvjitlink-cu12-12.5.82 nvidia-nvtx-cu12-12.1.105 pinyin-0.4.0 pptree-3.1 pyarrow-16.1.0 pytorch-revgrad-0.2.0 requests-2.32.3 s3transfer-0.10.2 segtok-1.5.11 semver-3.0.2 sqlitedict-2.1.0 terminaltables-3.1.10 textattack-0.3.10 transformer-smaller-training-vocab-0.4.0 urllib3-1.26.19 wikipedia-api-0.6.0 word2number-1.1 xxhash-3.4.1\n"
          ]
        }
      ],
      "source": [
        "!pip install transformers datasets textattack"
      ]
    },
    {
      "cell_type": "markdown",
      "source": [
        "Upload the training and the validation datasets containing the \"dialogue\" column and the \"section_header\" column which contains the class of the dialogue."
      ],
      "metadata": {
        "id": "TLConC3_9qWp"
      }
    },
    {
      "cell_type": "code",
      "source": [
        "from google.colab import files\n",
        "uploaded = files.upload()"
      ],
      "metadata": {
        "colab": {
          "base_uri": "https://localhost:8080/",
          "height": 73
        },
        "id": "pY2_C-zNYMuc",
        "outputId": "1b965ccb-d36c-4357-87dd-af4c10895055"
      },
      "execution_count": null,
      "outputs": [
        {
          "output_type": "display_data",
          "data": {
            "text/plain": [
              "<IPython.core.display.HTML object>"
            ],
            "text/html": [
              "\n",
              "     <input type=\"file\" id=\"files-8ffbf4bd-cdfb-477a-9730-a77265da7d7f\" name=\"files[]\" multiple disabled\n",
              "        style=\"border:none\" />\n",
              "     <output id=\"result-8ffbf4bd-cdfb-477a-9730-a77265da7d7f\">\n",
              "      Upload widget is only available when the cell has been executed in the\n",
              "      current browser session. Please rerun this cell to enable.\n",
              "      </output>\n",
              "      <script>// Copyright 2017 Google LLC\n",
              "//\n",
              "// Licensed under the Apache License, Version 2.0 (the \"License\");\n",
              "// you may not use this file except in compliance with the License.\n",
              "// You may obtain a copy of the License at\n",
              "//\n",
              "//      http://www.apache.org/licenses/LICENSE-2.0\n",
              "//\n",
              "// Unless required by applicable law or agreed to in writing, software\n",
              "// distributed under the License is distributed on an \"AS IS\" BASIS,\n",
              "// WITHOUT WARRANTIES OR CONDITIONS OF ANY KIND, either express or implied.\n",
              "// See the License for the specific language governing permissions and\n",
              "// limitations under the License.\n",
              "\n",
              "/**\n",
              " * @fileoverview Helpers for google.colab Python module.\n",
              " */\n",
              "(function(scope) {\n",
              "function span(text, styleAttributes = {}) {\n",
              "  const element = document.createElement('span');\n",
              "  element.textContent = text;\n",
              "  for (const key of Object.keys(styleAttributes)) {\n",
              "    element.style[key] = styleAttributes[key];\n",
              "  }\n",
              "  return element;\n",
              "}\n",
              "\n",
              "// Max number of bytes which will be uploaded at a time.\n",
              "const MAX_PAYLOAD_SIZE = 100 * 1024;\n",
              "\n",
              "function _uploadFiles(inputId, outputId) {\n",
              "  const steps = uploadFilesStep(inputId, outputId);\n",
              "  const outputElement = document.getElementById(outputId);\n",
              "  // Cache steps on the outputElement to make it available for the next call\n",
              "  // to uploadFilesContinue from Python.\n",
              "  outputElement.steps = steps;\n",
              "\n",
              "  return _uploadFilesContinue(outputId);\n",
              "}\n",
              "\n",
              "// This is roughly an async generator (not supported in the browser yet),\n",
              "// where there are multiple asynchronous steps and the Python side is going\n",
              "// to poll for completion of each step.\n",
              "// This uses a Promise to block the python side on completion of each step,\n",
              "// then passes the result of the previous step as the input to the next step.\n",
              "function _uploadFilesContinue(outputId) {\n",
              "  const outputElement = document.getElementById(outputId);\n",
              "  const steps = outputElement.steps;\n",
              "\n",
              "  const next = steps.next(outputElement.lastPromiseValue);\n",
              "  return Promise.resolve(next.value.promise).then((value) => {\n",
              "    // Cache the last promise value to make it available to the next\n",
              "    // step of the generator.\n",
              "    outputElement.lastPromiseValue = value;\n",
              "    return next.value.response;\n",
              "  });\n",
              "}\n",
              "\n",
              "/**\n",
              " * Generator function which is called between each async step of the upload\n",
              " * process.\n",
              " * @param {string} inputId Element ID of the input file picker element.\n",
              " * @param {string} outputId Element ID of the output display.\n",
              " * @return {!Iterable<!Object>} Iterable of next steps.\n",
              " */\n",
              "function* uploadFilesStep(inputId, outputId) {\n",
              "  const inputElement = document.getElementById(inputId);\n",
              "  inputElement.disabled = false;\n",
              "\n",
              "  const outputElement = document.getElementById(outputId);\n",
              "  outputElement.innerHTML = '';\n",
              "\n",
              "  const pickedPromise = new Promise((resolve) => {\n",
              "    inputElement.addEventListener('change', (e) => {\n",
              "      resolve(e.target.files);\n",
              "    });\n",
              "  });\n",
              "\n",
              "  const cancel = document.createElement('button');\n",
              "  inputElement.parentElement.appendChild(cancel);\n",
              "  cancel.textContent = 'Cancel upload';\n",
              "  const cancelPromise = new Promise((resolve) => {\n",
              "    cancel.onclick = () => {\n",
              "      resolve(null);\n",
              "    };\n",
              "  });\n",
              "\n",
              "  // Wait for the user to pick the files.\n",
              "  const files = yield {\n",
              "    promise: Promise.race([pickedPromise, cancelPromise]),\n",
              "    response: {\n",
              "      action: 'starting',\n",
              "    }\n",
              "  };\n",
              "\n",
              "  cancel.remove();\n",
              "\n",
              "  // Disable the input element since further picks are not allowed.\n",
              "  inputElement.disabled = true;\n",
              "\n",
              "  if (!files) {\n",
              "    return {\n",
              "      response: {\n",
              "        action: 'complete',\n",
              "      }\n",
              "    };\n",
              "  }\n",
              "\n",
              "  for (const file of files) {\n",
              "    const li = document.createElement('li');\n",
              "    li.append(span(file.name, {fontWeight: 'bold'}));\n",
              "    li.append(span(\n",
              "        `(${file.type || 'n/a'}) - ${file.size} bytes, ` +\n",
              "        `last modified: ${\n",
              "            file.lastModifiedDate ? file.lastModifiedDate.toLocaleDateString() :\n",
              "                                    'n/a'} - `));\n",
              "    const percent = span('0% done');\n",
              "    li.appendChild(percent);\n",
              "\n",
              "    outputElement.appendChild(li);\n",
              "\n",
              "    const fileDataPromise = new Promise((resolve) => {\n",
              "      const reader = new FileReader();\n",
              "      reader.onload = (e) => {\n",
              "        resolve(e.target.result);\n",
              "      };\n",
              "      reader.readAsArrayBuffer(file);\n",
              "    });\n",
              "    // Wait for the data to be ready.\n",
              "    let fileData = yield {\n",
              "      promise: fileDataPromise,\n",
              "      response: {\n",
              "        action: 'continue',\n",
              "      }\n",
              "    };\n",
              "\n",
              "    // Use a chunked sending to avoid message size limits. See b/62115660.\n",
              "    let position = 0;\n",
              "    do {\n",
              "      const length = Math.min(fileData.byteLength - position, MAX_PAYLOAD_SIZE);\n",
              "      const chunk = new Uint8Array(fileData, position, length);\n",
              "      position += length;\n",
              "\n",
              "      const base64 = btoa(String.fromCharCode.apply(null, chunk));\n",
              "      yield {\n",
              "        response: {\n",
              "          action: 'append',\n",
              "          file: file.name,\n",
              "          data: base64,\n",
              "        },\n",
              "      };\n",
              "\n",
              "      let percentDone = fileData.byteLength === 0 ?\n",
              "          100 :\n",
              "          Math.round((position / fileData.byteLength) * 100);\n",
              "      percent.textContent = `${percentDone}% done`;\n",
              "\n",
              "    } while (position < fileData.byteLength);\n",
              "  }\n",
              "\n",
              "  // All done.\n",
              "  yield {\n",
              "    response: {\n",
              "      action: 'complete',\n",
              "    }\n",
              "  };\n",
              "}\n",
              "\n",
              "scope.google = scope.google || {};\n",
              "scope.google.colab = scope.google.colab || {};\n",
              "scope.google.colab._files = {\n",
              "  _uploadFiles,\n",
              "  _uploadFilesContinue,\n",
              "};\n",
              "})(self);\n",
              "</script> "
            ]
          },
          "metadata": {}
        },
        {
          "output_type": "stream",
          "name": "stdout",
          "text": [
            "Saving Training(2).csv to Training(2).csv\n"
          ]
        }
      ]
    },
    {
      "cell_type": "code",
      "source": [
        "from google.colab import files\n",
        "upload = files.upload()"
      ],
      "metadata": {
        "colab": {
          "base_uri": "https://localhost:8080/",
          "height": 73
        },
        "id": "uwZ_Z2JqYVtT",
        "outputId": "11108161-0c5a-446b-e7c7-fc6449d3c950"
      },
      "execution_count": null,
      "outputs": [
        {
          "output_type": "display_data",
          "data": {
            "text/plain": [
              "<IPython.core.display.HTML object>"
            ],
            "text/html": [
              "\n",
              "     <input type=\"file\" id=\"files-bfa58e61-0912-4c63-b2e5-f1e524ddd2ba\" name=\"files[]\" multiple disabled\n",
              "        style=\"border:none\" />\n",
              "     <output id=\"result-bfa58e61-0912-4c63-b2e5-f1e524ddd2ba\">\n",
              "      Upload widget is only available when the cell has been executed in the\n",
              "      current browser session. Please rerun this cell to enable.\n",
              "      </output>\n",
              "      <script>// Copyright 2017 Google LLC\n",
              "//\n",
              "// Licensed under the Apache License, Version 2.0 (the \"License\");\n",
              "// you may not use this file except in compliance with the License.\n",
              "// You may obtain a copy of the License at\n",
              "//\n",
              "//      http://www.apache.org/licenses/LICENSE-2.0\n",
              "//\n",
              "// Unless required by applicable law or agreed to in writing, software\n",
              "// distributed under the License is distributed on an \"AS IS\" BASIS,\n",
              "// WITHOUT WARRANTIES OR CONDITIONS OF ANY KIND, either express or implied.\n",
              "// See the License for the specific language governing permissions and\n",
              "// limitations under the License.\n",
              "\n",
              "/**\n",
              " * @fileoverview Helpers for google.colab Python module.\n",
              " */\n",
              "(function(scope) {\n",
              "function span(text, styleAttributes = {}) {\n",
              "  const element = document.createElement('span');\n",
              "  element.textContent = text;\n",
              "  for (const key of Object.keys(styleAttributes)) {\n",
              "    element.style[key] = styleAttributes[key];\n",
              "  }\n",
              "  return element;\n",
              "}\n",
              "\n",
              "// Max number of bytes which will be uploaded at a time.\n",
              "const MAX_PAYLOAD_SIZE = 100 * 1024;\n",
              "\n",
              "function _uploadFiles(inputId, outputId) {\n",
              "  const steps = uploadFilesStep(inputId, outputId);\n",
              "  const outputElement = document.getElementById(outputId);\n",
              "  // Cache steps on the outputElement to make it available for the next call\n",
              "  // to uploadFilesContinue from Python.\n",
              "  outputElement.steps = steps;\n",
              "\n",
              "  return _uploadFilesContinue(outputId);\n",
              "}\n",
              "\n",
              "// This is roughly an async generator (not supported in the browser yet),\n",
              "// where there are multiple asynchronous steps and the Python side is going\n",
              "// to poll for completion of each step.\n",
              "// This uses a Promise to block the python side on completion of each step,\n",
              "// then passes the result of the previous step as the input to the next step.\n",
              "function _uploadFilesContinue(outputId) {\n",
              "  const outputElement = document.getElementById(outputId);\n",
              "  const steps = outputElement.steps;\n",
              "\n",
              "  const next = steps.next(outputElement.lastPromiseValue);\n",
              "  return Promise.resolve(next.value.promise).then((value) => {\n",
              "    // Cache the last promise value to make it available to the next\n",
              "    // step of the generator.\n",
              "    outputElement.lastPromiseValue = value;\n",
              "    return next.value.response;\n",
              "  });\n",
              "}\n",
              "\n",
              "/**\n",
              " * Generator function which is called between each async step of the upload\n",
              " * process.\n",
              " * @param {string} inputId Element ID of the input file picker element.\n",
              " * @param {string} outputId Element ID of the output display.\n",
              " * @return {!Iterable<!Object>} Iterable of next steps.\n",
              " */\n",
              "function* uploadFilesStep(inputId, outputId) {\n",
              "  const inputElement = document.getElementById(inputId);\n",
              "  inputElement.disabled = false;\n",
              "\n",
              "  const outputElement = document.getElementById(outputId);\n",
              "  outputElement.innerHTML = '';\n",
              "\n",
              "  const pickedPromise = new Promise((resolve) => {\n",
              "    inputElement.addEventListener('change', (e) => {\n",
              "      resolve(e.target.files);\n",
              "    });\n",
              "  });\n",
              "\n",
              "  const cancel = document.createElement('button');\n",
              "  inputElement.parentElement.appendChild(cancel);\n",
              "  cancel.textContent = 'Cancel upload';\n",
              "  const cancelPromise = new Promise((resolve) => {\n",
              "    cancel.onclick = () => {\n",
              "      resolve(null);\n",
              "    };\n",
              "  });\n",
              "\n",
              "  // Wait for the user to pick the files.\n",
              "  const files = yield {\n",
              "    promise: Promise.race([pickedPromise, cancelPromise]),\n",
              "    response: {\n",
              "      action: 'starting',\n",
              "    }\n",
              "  };\n",
              "\n",
              "  cancel.remove();\n",
              "\n",
              "  // Disable the input element since further picks are not allowed.\n",
              "  inputElement.disabled = true;\n",
              "\n",
              "  if (!files) {\n",
              "    return {\n",
              "      response: {\n",
              "        action: 'complete',\n",
              "      }\n",
              "    };\n",
              "  }\n",
              "\n",
              "  for (const file of files) {\n",
              "    const li = document.createElement('li');\n",
              "    li.append(span(file.name, {fontWeight: 'bold'}));\n",
              "    li.append(span(\n",
              "        `(${file.type || 'n/a'}) - ${file.size} bytes, ` +\n",
              "        `last modified: ${\n",
              "            file.lastModifiedDate ? file.lastModifiedDate.toLocaleDateString() :\n",
              "                                    'n/a'} - `));\n",
              "    const percent = span('0% done');\n",
              "    li.appendChild(percent);\n",
              "\n",
              "    outputElement.appendChild(li);\n",
              "\n",
              "    const fileDataPromise = new Promise((resolve) => {\n",
              "      const reader = new FileReader();\n",
              "      reader.onload = (e) => {\n",
              "        resolve(e.target.result);\n",
              "      };\n",
              "      reader.readAsArrayBuffer(file);\n",
              "    });\n",
              "    // Wait for the data to be ready.\n",
              "    let fileData = yield {\n",
              "      promise: fileDataPromise,\n",
              "      response: {\n",
              "        action: 'continue',\n",
              "      }\n",
              "    };\n",
              "\n",
              "    // Use a chunked sending to avoid message size limits. See b/62115660.\n",
              "    let position = 0;\n",
              "    do {\n",
              "      const length = Math.min(fileData.byteLength - position, MAX_PAYLOAD_SIZE);\n",
              "      const chunk = new Uint8Array(fileData, position, length);\n",
              "      position += length;\n",
              "\n",
              "      const base64 = btoa(String.fromCharCode.apply(null, chunk));\n",
              "      yield {\n",
              "        response: {\n",
              "          action: 'append',\n",
              "          file: file.name,\n",
              "          data: base64,\n",
              "        },\n",
              "      };\n",
              "\n",
              "      let percentDone = fileData.byteLength === 0 ?\n",
              "          100 :\n",
              "          Math.round((position / fileData.byteLength) * 100);\n",
              "      percent.textContent = `${percentDone}% done`;\n",
              "\n",
              "    } while (position < fileData.byteLength);\n",
              "  }\n",
              "\n",
              "  // All done.\n",
              "  yield {\n",
              "    response: {\n",
              "      action: 'complete',\n",
              "    }\n",
              "  };\n",
              "}\n",
              "\n",
              "scope.google = scope.google || {};\n",
              "scope.google.colab = scope.google.colab || {};\n",
              "scope.google.colab._files = {\n",
              "  _uploadFiles,\n",
              "  _uploadFilesContinue,\n",
              "};\n",
              "})(self);\n",
              "</script> "
            ]
          },
          "metadata": {}
        },
        {
          "output_type": "stream",
          "name": "stdout",
          "text": [
            "Saving Validation.csv to Validation.csv\n"
          ]
        }
      ]
    },
    {
      "cell_type": "code",
      "source": [
        "import pandas as pd\n",
        "import io\n",
        "\n",
        "df=pd.read_csv(io.BytesIO(uploaded['Training(2).csv']))\n",
        "df2=pd.read_csv(io.BytesIO(upload['Validation.csv']))"
      ],
      "metadata": {
        "id": "k8nSX5u0YYjl"
      },
      "execution_count": null,
      "outputs": []
    },
    {
      "cell_type": "code",
      "source": [
        "print(type(df[\"dialogue\"][0]))"
      ],
      "metadata": {
        "colab": {
          "base_uri": "https://localhost:8080/"
        },
        "id": "V412rv7qGR6N",
        "outputId": "1789c9f8-bff0-44d2-efc8-4fd51a8fc5c9"
      },
      "execution_count": null,
      "outputs": [
        {
          "output_type": "stream",
          "name": "stdout",
          "text": [
            "<class 'str'>\n"
          ]
        }
      ]
    },
    {
      "cell_type": "markdown",
      "source": [
        "*   The class labels in the dataset are in text form, such as \"GENHX\",\"MEDICATIONS\",\"DIAGNOSIS\", etc.\n",
        "Since class labels need to be numerical values for evaluation, we use a label encoder.\n",
        "*   The validation dataset may contain labels which do not exist in the training\n",
        "dataset, hence we fit the label encoder on the combined list of labels from both datasets."
      ],
      "metadata": {
        "id": "mps6CZW3-ARS"
      }
    },
    {
      "cell_type": "code",
      "source": [
        "from sklearn.preprocessing import LabelEncoder\n",
        "combined_labels = pd.concat([df[\"section_header\"],df2[\"section_header\"]])\n",
        "\n",
        "# Initialize LabelEncoder and fit on combined labels\n",
        "label_encoder = LabelEncoder()\n",
        "label_encoder.fit_transform(combined_labels.tolist())\n",
        "\n",
        "# Transform training labels\n",
        "df[\"section_header\"] = label_encoder.transform(df[\"section_header\"])\n",
        "\n",
        "# Transform test labels\n",
        "df2[\"section_header\"] = label_encoder.transform(df2[\"section_header\"])"
      ],
      "metadata": {
        "id": "FX3x_HWYcv6a"
      },
      "execution_count": null,
      "outputs": []
    },
    {
      "cell_type": "markdown",
      "source": [
        "*   The \"section_header\" column after transformation is shown below.\n",
        "\n"
      ],
      "metadata": {
        "id": "PQkTjdz3_IRw"
      }
    },
    {
      "cell_type": "code",
      "source": [
        "print(df[\"section_header\"])"
      ],
      "metadata": {
        "colab": {
          "base_uri": "https://localhost:8080/"
        },
        "id": "13NtNxE17wWl",
        "outputId": "03b089ec-372e-43fd-acce-f101fcd5ffee"
      },
      "execution_count": null,
      "outputs": [
        {
          "output_type": "stream",
          "name": "stdout",
          "text": [
            "0        8\n",
            "1        8\n",
            "2        8\n",
            "3       13\n",
            "4        2\n",
            "        ..\n",
            "1196    16\n",
            "1197    13\n",
            "1198     8\n",
            "1199     7\n",
            "1200     7\n",
            "Name: section_header, Length: 1201, dtype: int64\n"
          ]
        }
      ]
    },
    {
      "cell_type": "code",
      "source": [
        "from datasets import Dataset\n",
        "\n",
        "train_dataset = Dataset.from_pandas(df)\n",
        "test_dataset = Dataset.from_pandas(df2)"
      ],
      "metadata": {
        "id": "9DrEdm-OZhPt"
      },
      "execution_count": null,
      "outputs": []
    },
    {
      "cell_type": "markdown",
      "source": [
        "\n",
        "\n",
        "*   After converting the dataframe into a Huggingface, we preprocess the input text (dialogues).\n",
        "*   Each dialogue contains the words \"Doctor:\" and \"Patient:\". These words do not add value to the class of the dialogue. Hence these words are removed from the strings and replaced with \"\".\n",
        "*   The word \"also\", new line character and carriage return character are also removed, which will leave us with the actual material of the dialogue.\n",
        "\n"
      ],
      "metadata": {
        "id": "-ec3kcq1__pC"
      }
    },
    {
      "cell_type": "code",
      "source": [
        "from transformers import AutoTokenizer\n",
        "\n",
        "tokenizer = AutoTokenizer.from_pretrained(\"distilbert-base-uncased\")\n",
        "\n",
        "words_to_remove = [\"Doctor:\", \"Patient:\",\"also\",\"\\n\",\"\\r\"]\n",
        "\n",
        "def preprocess_text(text):\n",
        "    for word in words_to_remove:\n",
        "        text = text.replace(word, \"\")\n",
        "    return text\n",
        "\n",
        "def tokenize_function(examples):\n",
        "    # Apply preprocessing\n",
        "    examples[\"dialogue\"] = [preprocess_text(text) for text in examples[\"dialogue\"]]\n",
        "    # Tokenize\n",
        "    return tokenizer(examples[\"dialogue\"], padding=\"max_length\", truncation=True)\n",
        "\n",
        "print(train_dataset['section_header'])\n",
        "\n",
        "\n",
        "train_dataset = train_dataset.map(tokenize_function, batched=True)\n",
        "test_dataset = test_dataset.map(tokenize_function, batched=True)\n",
        "\n",
        "train_dataset = train_dataset.rename_column(\"section_header\", \"labels\")\n",
        "test_dataset = test_dataset.rename_column(\"section_header\", \"labels\")\n",
        "\n",
        "train_dataset.set_format(\"torch\", columns=[\"input_ids\", \"attention_mask\", \"labels\"])\n",
        "test_dataset.set_format(\"torch\", columns=[\"input_ids\", \"attention_mask\", \"labels\"])"
      ],
      "metadata": {
        "colab": {
          "base_uri": "https://localhost:8080/",
          "height": 119,
          "referenced_widgets": [
            "22bed7c88fb64300bcb5a2498c2b15ff",
            "ab3c2fb4576a4377a5a6f792a2ef281b",
            "3a04645b888344c79072d9c7d38059a7",
            "78341892e4f641c1ae3d4f62c76b5b55",
            "3dc9954a19164450a903466d64e9ae68",
            "0ee7ef74a2bf4d529730ee4ab4b6934e",
            "a969cab1bc354116b1abfc9afaec5fd6",
            "ab00be22992448dc817a1f0d5b774d4b",
            "894685abf9d7429fafc1e60b57fbc303",
            "a9b807c609ff4749909dcd9c421b6a60",
            "7cb2ea45f850441a97622f58a9c85132",
            "996be9acd3724e0a9ed4611a038feac2",
            "c82fc0c79fbb4a7fb864f49230e4a3e6",
            "62ca33aaf0a8489da94b8f04027823b6",
            "bb7a1472fd7649acbcf96514603b4dcb",
            "85c30c8b4b5f4d51824348262f84eef2",
            "ed42592bb05e4289a20cc72d7f6e2544",
            "5a3e5b70e984444a8ced34655510557f",
            "730d79a01fac4c948e31b17652cc6a9e",
            "907e107d039344bc89f5288f8ef681a8",
            "85255af2ba154f6e9e90364b483e3118",
            "84fb084626854795a20c1fa03e4a3e5f"
          ]
        },
        "id": "CmaVQ7RJYq71",
        "outputId": "055d06b9-9af6-4037-faf3-2fd525503f7d"
      },
      "execution_count": null,
      "outputs": [
        {
          "output_type": "stream",
          "name": "stdout",
          "text": [
            "[8, 8, 8, 13, 2, 15, 15, 0, 7, 7, 8, 8, 13, 15, 8, 16, 8, 2, 8, 13, 15, 14, 15, 0, 1, 1, 2, 0, 8, 7, 2, 7, 2, 8, 19, 7, 8, 4, 8, 15, 8, 6, 7, 17, 8, 7, 16, 7, 6, 7, 16, 4, 8, 7, 7, 7, 7, 19, 16, 8, 16, 7, 16, 16, 16, 7, 7, 6, 13, 13, 7, 2, 3, 7, 15, 15, 7, 7, 2, 8, 7, 15, 15, 15, 15, 13, 7, 2, 5, 11, 7, 7, 7, 5, 7, 13, 8, 2, 15, 7, 15, 7, 8, 1, 0, 1, 7, 7, 12, 13, 8, 5, 8, 15, 8, 15, 19, 8, 16, 8, 7, 15, 15, 15, 19, 15, 3, 0, 7, 7, 15, 8, 6, 1, 0, 7, 7, 15, 7, 19, 8, 8, 0, 7, 7, 8, 1, 15, 8, 7, 16, 4, 7, 7, 0, 13, 15, 8, 0, 7, 7, 8, 7, 15, 15, 8, 16, 7, 0, 3, 7, 7, 8, 13, 2, 1, 3, 7, 2, 2, 0, 15, 8, 2, 8, 19, 8, 8, 19, 7, 8, 7, 7, 8, 8, 13, 7, 8, 7, 8, 7, 13, 1, 15, 1, 6, 0, 7, 8, 8, 15, 16, 7, 15, 19, 3, 7, 2, 7, 10, 7, 7, 2, 8, 3, 7, 8, 15, 15, 18, 7, 7, 0, 8, 5, 8, 7, 7, 13, 8, 7, 8, 7, 7, 8, 13, 8, 8, 17, 15, 15, 6, 2, 19, 15, 19, 7, 8, 2, 2, 4, 0, 13, 15, 2, 13, 17, 15, 8, 7, 8, 7, 16, 15, 5, 3, 7, 13, 8, 13, 7, 8, 15, 2, 19, 16, 8, 15, 4, 15, 7, 7, 7, 2, 8, 3, 8, 8, 7, 0, 8, 2, 7, 1, 4, 8, 8, 8, 2, 8, 9, 4, 2, 8, 15, 8, 8, 0, 0, 7, 7, 15, 8, 2, 8, 13, 7, 7, 13, 8, 2, 2, 8, 6, 6, 7, 8, 15, 19, 7, 7, 15, 15, 1, 0, 7, 15, 7, 7, 7, 7, 7, 7, 8, 7, 8, 13, 7, 5, 7, 15, 15, 7, 8, 7, 8, 7, 8, 15, 6, 13, 8, 1, 16, 0, 7, 8, 8, 0, 8, 1, 16, 2, 7, 8, 16, 8, 7, 17, 7, 7, 8, 15, 8, 7, 19, 13, 7, 16, 8, 0, 2, 7, 16, 9, 7, 7, 16, 19, 7, 13, 8, 3, 1, 19, 16, 8, 7, 7, 15, 7, 7, 7, 8, 13, 7, 7, 6, 7, 3, 6, 7, 7, 15, 7, 7, 7, 8, 15, 17, 1, 19, 7, 6, 8, 16, 7, 0, 11, 19, 7, 19, 13, 19, 8, 8, 7, 15, 7, 13, 0, 1, 8, 8, 7, 8, 7, 13, 7, 8, 15, 8, 2, 7, 8, 7, 6, 8, 7, 7, 7, 0, 7, 8, 8, 7, 7, 8, 7, 7, 8, 8, 8, 2, 19, 9, 0, 7, 8, 8, 15, 2, 15, 7, 8, 7, 1, 2, 8, 19, 7, 15, 7, 16, 8, 7, 8, 8, 2, 7, 5, 8, 16, 17, 7, 7, 8, 7, 3, 7, 7, 15, 19, 3, 7, 8, 7, 7, 8, 0, 1, 8, 15, 8, 7, 19, 4, 15, 2, 8, 2, 13, 7, 7, 7, 7, 2, 0, 1, 8, 7, 7, 0, 19, 16, 7, 8, 7, 15, 6, 3, 16, 7, 8, 15, 0, 10, 19, 7, 7, 8, 3, 2, 8, 9, 19, 8, 15, 8, 8, 7, 0, 7, 8, 16, 16, 0, 13, 16, 8, 7, 7, 19, 4, 19, 7, 8, 7, 16, 7, 7, 8, 7, 7, 7, 7, 8, 7, 16, 8, 8, 16, 16, 7, 7, 3, 15, 2, 15, 7, 2, 8, 11, 8, 2, 7, 8, 19, 8, 2, 8, 8, 7, 13, 8, 16, 8, 7, 2, 8, 10, 2, 8, 7, 7, 7, 8, 15, 7, 16, 2, 7, 15, 19, 8, 0, 7, 15, 0, 7, 7, 2, 15, 7, 16, 7, 0, 2, 15, 15, 15, 7, 13, 4, 7, 8, 15, 7, 1, 8, 8, 8, 7, 7, 8, 8, 4, 7, 7, 7, 13, 7, 8, 19, 1, 13, 5, 19, 8, 7, 8, 13, 19, 8, 7, 7, 4, 7, 16, 7, 0, 3, 2, 15, 7, 17, 0, 8, 8, 7, 7, 2, 2, 7, 16, 7, 1, 8, 2, 8, 7, 13, 8, 2, 7, 15, 15, 19, 1, 19, 7, 19, 11, 0, 9, 16, 2, 8, 0, 7, 7, 2, 15, 7, 15, 6, 7, 1, 15, 2, 13, 0, 7, 8, 10, 8, 16, 13, 0, 7, 8, 7, 8, 15, 16, 8, 0, 13, 8, 2, 19, 4, 15, 2, 8, 11, 7, 19, 8, 8, 7, 7, 7, 7, 0, 17, 7, 8, 19, 7, 8, 16, 19, 13, 16, 15, 7, 7, 8, 17, 7, 7, 7, 8, 7, 8, 7, 8, 4, 7, 8, 8, 8, 11, 15, 7, 15, 8, 7, 8, 7, 15, 15, 8, 7, 7, 7, 0, 19, 16, 6, 7, 15, 7, 19, 15, 8, 11, 7, 8, 16, 7, 19, 7, 7, 7, 8, 8, 7, 19, 8, 2, 7, 8, 8, 8, 8, 8, 7, 0, 15, 8, 0, 0, 8, 13, 1, 8, 19, 1, 2, 19, 8, 8, 7, 8, 16, 7, 16, 8, 8, 0, 8, 13, 16, 7, 8, 8, 8, 7, 2, 6, 8, 8, 8, 15, 13, 8, 2, 0, 18, 15, 0, 19, 8, 7, 0, 19, 7, 3, 16, 8, 8, 7, 7, 8, 7, 7, 2, 2, 2, 19, 15, 0, 8, 7, 7, 2, 8, 0, 14, 13, 16, 15, 2, 7, 2, 7, 7, 7, 0, 0, 7, 8, 13, 16, 8, 19, 7, 8, 7, 15, 6, 1, 8, 7, 8, 7, 7, 6, 7, 19, 8, 7, 2, 7, 16, 7, 8, 0, 8, 7, 7, 8, 2, 8, 2, 7, 7, 15, 15, 8, 8, 7, 15, 7, 7, 8, 1, 8, 1, 8, 15, 13, 13, 7, 19, 16, 8, 7, 15, 15, 7, 7, 0, 0, 7, 8, 8, 19, 15, 16, 19, 8, 7, 8, 1, 7, 7, 7, 16, 8, 16, 16, 8, 19, 7, 7, 7, 7, 2, 13, 7, 8, 7, 7, 13, 16, 8, 15, 2, 15, 7, 7, 7, 7, 2, 15, 19, 8, 8, 8, 7, 18, 8, 7, 6, 16, 7, 8, 8, 7, 15, 16, 13, 13, 8, 8, 10, 7, 8, 7, 7, 19, 15, 15, 8, 8, 8, 15, 7, 8, 7, 8, 8, 6, 8, 19, 2, 7, 7, 7, 1, 7, 8, 8, 7, 8, 7, 15, 16, 2, 7, 7, 7, 8, 7, 7, 7, 17, 1, 2, 8, 13, 15, 7, 15, 8, 7, 8, 17, 8, 8, 10, 8, 15, 7, 3, 7, 7, 6, 7, 15, 19, 7, 8, 7, 8, 7, 15, 12, 7, 8, 8, 6, 8, 0, 0, 7, 15, 7, 7, 8, 7, 13, 8, 7, 1, 11, 8, 8, 1, 8, 4, 8, 7, 19, 8, 3, 7, 2, 0, 7, 7, 15, 16, 16, 13, 8, 7, 7]\n"
          ]
        },
        {
          "output_type": "display_data",
          "data": {
            "text/plain": [
              "Map:   0%|          | 0/1201 [00:00<?, ? examples/s]"
            ],
            "application/vnd.jupyter.widget-view+json": {
              "version_major": 2,
              "version_minor": 0,
              "model_id": "22bed7c88fb64300bcb5a2498c2b15ff"
            }
          },
          "metadata": {}
        },
        {
          "output_type": "display_data",
          "data": {
            "text/plain": [
              "Map:   0%|          | 0/100 [00:00<?, ? examples/s]"
            ],
            "application/vnd.jupyter.widget-view+json": {
              "version_major": 2,
              "version_minor": 0,
              "model_id": "996be9acd3724e0a9ed4611a038feac2"
            }
          },
          "metadata": {}
        }
      ]
    },
    {
      "cell_type": "markdown",
      "source": [
        "\n",
        "\n",
        "*   Each dialogue should appear as a string in the dataset and not a list of 1 string.\n",
        "\n"
      ],
      "metadata": {
        "id": "rBAtc07__050"
      }
    },
    {
      "cell_type": "code",
      "source": [
        "print(type(train_dataset['dialogue'][0]))"
      ],
      "metadata": {
        "colab": {
          "base_uri": "https://localhost:8080/"
        },
        "id": "u7jR3K3qbbWJ",
        "outputId": "44e20b62-dbdf-4b88-c24e-089f6f123355"
      },
      "execution_count": null,
      "outputs": [
        {
          "output_type": "stream",
          "name": "stdout",
          "text": [
            "<class 'str'>\n"
          ]
        }
      ]
    },
    {
      "cell_type": "code",
      "source": [
        "print((test_dataset['dialogue'][0]))"
      ],
      "metadata": {
        "colab": {
          "base_uri": "https://localhost:8080/"
        },
        "id": "jDKkUZN8ZGnC",
        "outputId": "b666e507-c0c8-40c8-fbed-01be68d7e812"
      },
      "execution_count": null,
      "outputs": [
        {
          "output_type": "stream",
          "name": "stdout",
          "text": [
            " When did your pain begin?  I've had low back pain for about eight years now. Is there any injury?   Yeah, it started when I fell in an A B C store. How old are you now? I'm twenty six.   What kind of treatments have you had for this low back pain?  Yeah, I got referred to P T, and I went, but only once or twice, um, and if I remember right, they only did the electrical stimulation, and heat.  I see, how has your pain progressed over the last eight years?  It's been pretty continuous, but it's been at varying degrees, sometimes are better than others.  Do you have any children?  Yes, I had my son in August of two thousand eight, and I've had back pain since giving birth.  Have you had any falls since the initial one?  Yes, I fell four or five days ago while I was mopping the floor.  Did you land on your lower back again? Yes, right onto my tailbone.  Did that make the low back pain worse?  Yes.  Have you seen any other doctors for this issue?  Yes, I saw Doctor X on January tenth two thousand nine, and I have a follow up appointment scheduled for February tenth two thousand nine.\n"
          ]
        }
      ]
    },
    {
      "cell_type": "markdown",
      "source": [
        "\n",
        "\n",
        "*   DistilBERT base model (uncased) is used for training.\n",
        "*   This model is the distilled version of the BERT base model. The 'uncased' refers to the fact that the model does not distinguish between upper and lower case.\n",
        "*   This model is a more efficient version of BERT. It retains 97% of BERT's language understanding capabilities while being 60% faster and 40% smaller.\n",
        "\n",
        "*   The training dataset has 1200 entries while the validation dataset has 100 entries. Hence, training batch size is 32 and validation batch size is 10."
      ],
      "metadata": {
        "id": "63A8Cvo5A8SC"
      }
    },
    {
      "cell_type": "code",
      "source": [
        "from transformers import AutoModelForSequenceClassification, TrainingArguments, Trainer\n",
        "\n",
        "num_labels = len(label_encoder.classes_)\n",
        "\n",
        "model = AutoModelForSequenceClassification.from_pretrained(\"distilbert-base-uncased\", num_labels=num_labels)\n",
        "\n",
        "training_args = TrainingArguments(\n",
        "    output_dir=\"./results\",\n",
        "    evaluation_strategy=\"epoch\",\n",
        "    per_device_train_batch_size=32,\n",
        "    per_device_eval_batch_size=10,\n",
        "    num_train_epochs=20,\n",
        "    weight_decay=0.01,\n",
        ")\n",
        "\n",
        "trainer = Trainer(\n",
        "    model=model,\n",
        "    args=training_args,\n",
        "    train_dataset=train_dataset,\n",
        "    eval_dataset=test_dataset,\n",
        ")\n",
        "\n",
        "trainer.train()"
      ],
      "metadata": {
        "colab": {
          "base_uri": "https://localhost:8080/",
          "height": 831
        },
        "id": "gPvRcT5UBo6D",
        "outputId": "76d618bf-77ae-47a6-c4d4-fbfd3f8b9cee"
      },
      "execution_count": null,
      "outputs": [
        {
          "output_type": "stream",
          "name": "stderr",
          "text": [
            "Some weights of DistilBertForSequenceClassification were not initialized from the model checkpoint at distilbert-base-uncased and are newly initialized: ['classifier.bias', 'classifier.weight', 'pre_classifier.bias', 'pre_classifier.weight']\n",
            "You should probably TRAIN this model on a down-stream task to be able to use it for predictions and inference.\n",
            "/usr/local/lib/python3.10/dist-packages/transformers/training_args.py:1474: FutureWarning: `evaluation_strategy` is deprecated and will be removed in version 4.46 of 🤗 Transformers. Use `eval_strategy` instead\n",
            "  warnings.warn(\n"
          ]
        },
        {
          "output_type": "display_data",
          "data": {
            "text/plain": [
              "<IPython.core.display.HTML object>"
            ],
            "text/html": [
              "\n",
              "    <div>\n",
              "      \n",
              "      <progress value='760' max='760' style='width:300px; height:20px; vertical-align: middle;'></progress>\n",
              "      [760/760 18:10, Epoch 20/20]\n",
              "    </div>\n",
              "    <table border=\"1\" class=\"dataframe\">\n",
              "  <thead>\n",
              " <tr style=\"text-align: left;\">\n",
              "      <th>Epoch</th>\n",
              "      <th>Training Loss</th>\n",
              "      <th>Validation Loss</th>\n",
              "    </tr>\n",
              "  </thead>\n",
              "  <tbody>\n",
              "    <tr>\n",
              "      <td>1</td>\n",
              "      <td>No log</td>\n",
              "      <td>1.945661</td>\n",
              "    </tr>\n",
              "    <tr>\n",
              "      <td>2</td>\n",
              "      <td>No log</td>\n",
              "      <td>1.480082</td>\n",
              "    </tr>\n",
              "    <tr>\n",
              "      <td>3</td>\n",
              "      <td>No log</td>\n",
              "      <td>1.395095</td>\n",
              "    </tr>\n",
              "    <tr>\n",
              "      <td>4</td>\n",
              "      <td>No log</td>\n",
              "      <td>1.246480</td>\n",
              "    </tr>\n",
              "    <tr>\n",
              "      <td>5</td>\n",
              "      <td>No log</td>\n",
              "      <td>1.170973</td>\n",
              "    </tr>\n",
              "    <tr>\n",
              "      <td>6</td>\n",
              "      <td>No log</td>\n",
              "      <td>1.156025</td>\n",
              "    </tr>\n",
              "    <tr>\n",
              "      <td>7</td>\n",
              "      <td>No log</td>\n",
              "      <td>1.121633</td>\n",
              "    </tr>\n",
              "    <tr>\n",
              "      <td>8</td>\n",
              "      <td>No log</td>\n",
              "      <td>1.228519</td>\n",
              "    </tr>\n",
              "    <tr>\n",
              "      <td>9</td>\n",
              "      <td>No log</td>\n",
              "      <td>1.123064</td>\n",
              "    </tr>\n",
              "    <tr>\n",
              "      <td>10</td>\n",
              "      <td>No log</td>\n",
              "      <td>1.200796</td>\n",
              "    </tr>\n",
              "    <tr>\n",
              "      <td>11</td>\n",
              "      <td>No log</td>\n",
              "      <td>1.130134</td>\n",
              "    </tr>\n",
              "    <tr>\n",
              "      <td>12</td>\n",
              "      <td>No log</td>\n",
              "      <td>1.176713</td>\n",
              "    </tr>\n",
              "    <tr>\n",
              "      <td>13</td>\n",
              "      <td>No log</td>\n",
              "      <td>1.183572</td>\n",
              "    </tr>\n",
              "    <tr>\n",
              "      <td>14</td>\n",
              "      <td>0.476500</td>\n",
              "      <td>1.178348</td>\n",
              "    </tr>\n",
              "    <tr>\n",
              "      <td>15</td>\n",
              "      <td>0.476500</td>\n",
              "      <td>1.191026</td>\n",
              "    </tr>\n",
              "    <tr>\n",
              "      <td>16</td>\n",
              "      <td>0.476500</td>\n",
              "      <td>1.194096</td>\n",
              "    </tr>\n",
              "    <tr>\n",
              "      <td>17</td>\n",
              "      <td>0.476500</td>\n",
              "      <td>1.225454</td>\n",
              "    </tr>\n",
              "    <tr>\n",
              "      <td>18</td>\n",
              "      <td>0.476500</td>\n",
              "      <td>1.213592</td>\n",
              "    </tr>\n",
              "    <tr>\n",
              "      <td>19</td>\n",
              "      <td>0.476500</td>\n",
              "      <td>1.236298</td>\n",
              "    </tr>\n",
              "    <tr>\n",
              "      <td>20</td>\n",
              "      <td>0.476500</td>\n",
              "      <td>1.234932</td>\n",
              "    </tr>\n",
              "  </tbody>\n",
              "</table><p>"
            ]
          },
          "metadata": {}
        },
        {
          "output_type": "execute_result",
          "data": {
            "text/plain": [
              "TrainOutput(global_step=760, training_loss=0.3185504690596932, metrics={'train_runtime': 1091.6846, 'train_samples_per_second': 22.003, 'train_steps_per_second': 0.696, 'total_flos': 3182888309145600.0, 'train_loss': 0.3185504690596932, 'epoch': 20.0})"
            ]
          },
          "metadata": {},
          "execution_count": 82
        }
      ]
    },
    {
      "cell_type": "markdown",
      "source": [
        "*   The following evaluates the accuracy, precision, and other metrics for the validation dataset."
      ],
      "metadata": {
        "id": "rmZBiBLoDnCY"
      }
    },
    {
      "cell_type": "code",
      "source": [
        "from sklearn.metrics import accuracy_score, precision_recall_fscore_support\n",
        "\n",
        "# Assuming trainer is already defined and trained\n",
        "predictions = trainer.predict(test_dataset).predictions\n",
        "predicted_labels = predictions.argmax(axis=1)\n",
        "true_labels = test_dataset[\"labels\"]\n",
        "\n",
        "# Calculate accuracy\n",
        "accuracy = accuracy_score(true_labels, predicted_labels)\n",
        "print(f\"Accuracy: {accuracy}\")\n",
        "\n",
        "# Calculate precision, recall, and F1 score\n",
        "precision, recall, f1_score, _ = precision_recall_fscore_support(true_labels, predicted_labels, average='weighted')\n",
        "print(f\"Precision: {precision}\")\n",
        "print(f\"Recall: {recall}\")\n",
        "print(f\"F1 Score: {f1_score}\")\n"
      ],
      "metadata": {
        "colab": {
          "base_uri": "https://localhost:8080/",
          "height": 145
        },
        "id": "oNkkvh1tMfTB",
        "outputId": "6a2b347b-f4cc-49fe-c19b-8227e771224f"
      },
      "execution_count": null,
      "outputs": [
        {
          "output_type": "display_data",
          "data": {
            "text/plain": [
              "<IPython.core.display.HTML object>"
            ],
            "text/html": []
          },
          "metadata": {}
        },
        {
          "output_type": "stream",
          "name": "stdout",
          "text": [
            "Accuracy: 0.72\n",
            "Precision: 0.6952314814814815\n",
            "Recall: 0.72\n",
            "F1 Score: 0.6936521555990818\n"
          ]
        },
        {
          "output_type": "stream",
          "name": "stderr",
          "text": [
            "/usr/local/lib/python3.10/dist-packages/sklearn/metrics/_classification.py:1344: UndefinedMetricWarning: Precision and F-score are ill-defined and being set to 0.0 in labels with no predicted samples. Use `zero_division` parameter to control this behavior.\n",
            "  _warn_prf(average, modifier, msg_start, len(result))\n"
          ]
        }
      ]
    },
    {
      "cell_type": "markdown",
      "source": [
        "\n",
        "\n",
        "*   The function below performs adversarial attack using methods from the textattack library.\n",
        "*   WordSwapNeighboringCharacterSwap swaps neighbouring characters within the same word, while WordSwapQWERTY swaps a character with a neighbouring character on the QWERTY keyboard.\n",
        "*   RepeatModification constraint prevents undoing of character swaps done. The StopwordModification constraint is used to prevent changes from being made to stop words such as \"the\",\"as\",\"no\",\"not\", etc. in order to preserve the semantic meaning of the text.\n",
        "* The function takes in text as a parameter and returns the perturbed text according to the methods and constraints and set.\n",
        "\n"
      ],
      "metadata": {
        "id": "tvHfZHZIETlJ"
      }
    },
    {
      "cell_type": "code",
      "source": [
        "from textattack.transformations import WordSwapNeighboringCharacterSwap\n",
        "from textattack.transformations import WordSwapQWERTY\n",
        "from textattack.transformations import CompositeTransformation\n",
        "\n",
        "from textattack.constraints.pre_transformation import RepeatModification\n",
        "from textattack.constraints.pre_transformation import StopwordModification\n",
        "\n",
        "from textattack.augmentation import Augmenter\n",
        "\n",
        "transformation = CompositeTransformation(\n",
        "    [WordSwapNeighboringCharacterSwap(),WordSwapQWERTY()]\n",
        ")\n",
        "# Set up constraints\n",
        "constraints = [RepeatModification(), StopwordModification()]\n",
        "# Create augmenter with specified parameters\n",
        "augmenter = Augmenter(\n",
        "    transformation=transformation,\n",
        "    constraints=constraints,\n",
        "    pct_words_to_swap=0.25,\n",
        "    transformations_per_example=1,\n",
        ")\n",
        "\n",
        "def introduce_spelling_errors(text):\n",
        "    augmented_text = augmenter.augment(text)\n",
        "\n",
        "    return augmented_text"
      ],
      "metadata": {
        "id": "a_kPe3apJFXt"
      },
      "execution_count": null,
      "outputs": []
    },
    {
      "cell_type": "markdown",
      "source": [
        "\n",
        "\n",
        "*   The dataset in which adversarial examples are to be introduced requires a separate preprocess function since the function needs to introduce errors in the text resulting after removal of words which add no value to the classification.\n",
        "*  The below function takes in text(string) as a parameter. However, the introduce_spelling_errors function returns the perturbed text as a list consisting of 1 item, the perturbed string. Therefore the preprocess function return s[0] and not s.\n"
      ],
      "metadata": {
        "id": "LvcT8pYJF9hb"
      }
    },
    {
      "cell_type": "code",
      "source": [
        "words_to_remove=['Doctor:','Patient:','also','\\n','\\r']\n",
        "def preprocess_text2(text):\n",
        "    for word in words_to_remove:\n",
        "        text = text.replace(word, \"\")\n",
        "    s=introduce_spelling_errors(text)\n",
        "    return s[0]"
      ],
      "metadata": {
        "id": "a6abHAnvJK8t"
      },
      "execution_count": null,
      "outputs": []
    },
    {
      "cell_type": "markdown",
      "source": [
        "\n",
        "\n",
        "*   Import the test dataset and preprocess each dialogue. This will result in an adversarial dataset consisting of grammatical errors.\n",
        "\n"
      ],
      "metadata": {
        "id": "8fpM1OyiHClN"
      }
    },
    {
      "cell_type": "code",
      "source": [
        "from google.colab import files\n",
        "upload1 = files.upload()"
      ],
      "metadata": {
        "id": "va-M6OYzD6ue"
      },
      "execution_count": null,
      "outputs": []
    },
    {
      "cell_type": "code",
      "source": [
        "import pandas as pd\n",
        "from sklearn.model_selection import train_test_split\n",
        "\n",
        "df=pd.read_csv(io.BytesIO(uploaded['Test 1.csv']))"
      ],
      "metadata": {
        "id": "WdkndU50JMLd"
      },
      "execution_count": null,
      "outputs": []
    },
    {
      "cell_type": "code",
      "source": [
        "df[\"dialogue\"] = [preprocess_text2(text) for text in df[\"dialogue\"]]"
      ],
      "metadata": {
        "id": "Oy9jgkXoJewf"
      },
      "execution_count": null,
      "outputs": []
    },
    {
      "cell_type": "markdown",
      "source": [
        "* The adversarial dataset is downloaded for reusability."
      ],
      "metadata": {
        "id": "gVkHbMm3HysF"
      }
    },
    {
      "cell_type": "code",
      "source": [
        "import pandas as pd\n",
        "from google.colab import files\n",
        "df.to_csv('test1new.csv', index=False)\n",
        "\n",
        "# Download the file\n",
        "files.download('test1new.csv')"
      ],
      "metadata": {
        "id": "GVr7FiWVJrhK"
      },
      "execution_count": null,
      "outputs": []
    },
    {
      "cell_type": "code",
      "source": [
        "from google.colab import files\n",
        "upload1 = files.upload()"
      ],
      "metadata": {
        "id": "Q6bIbcjqEK_J"
      },
      "execution_count": null,
      "outputs": []
    },
    {
      "cell_type": "markdown",
      "source": [
        "* Import the adversarial dataset.\n",
        "* The dataset is split for training, validation, and testing.\n",
        "* The text in the \"dialogue\" column has already undergone preprocessing. Hence, once imported, we can directly form the tokenized dataset without calling the prepprocess function again."
      ],
      "metadata": {
        "id": "HVVpmkqsIDzG"
      }
    },
    {
      "cell_type": "code",
      "source": [
        "import pandas as pd\n",
        "import io\n",
        "from sklearn.model_selection import train_test_split\n",
        "\n",
        "df=pd.read_csv(io.BytesIO(uploaded['test1new.csv']))\n",
        "df[\"section_header\"] = label_encoder.transform(df[\"section_header\"])\n",
        "df, df2 = train_test_split(df, test_size=0.20, random_state=42)\n",
        "df, df3 = train_test_split(df, test_size=0.25, random_state=42)"
      ],
      "metadata": {
        "id": "l_Q7xQh2N4U4"
      },
      "execution_count": null,
      "outputs": []
    },
    {
      "cell_type": "markdown",
      "source": [
        "* Dataframe df is for training and df2 is for testing, while df 3 is for validation (evaluation dataset while training).\n",
        "* The original adversarial dataset is of size 200. Hence, df has size 120, and df2 and df3 both have size 40."
      ],
      "metadata": {
        "id": "AkqE1fsIIueJ"
      }
    },
    {
      "cell_type": "code",
      "source": [
        "print(df3['dialogue'].iloc[0])"
      ],
      "metadata": {
        "colab": {
          "base_uri": "https://localhost:8080/"
        },
        "id": "YXdTKCpgpkrA",
        "outputId": "d6ec1706-aef1-482b-9a40-bec6a6f5e639"
      },
      "execution_count": null,
      "outputs": [
        {
          "output_type": "stream",
          "name": "stdout",
          "text": [
            " Se are plannong laparoscopic surgery to atke out your gall stones.  Okxy. Will that be covefed by my insurance? Let me ask the stafd. Okay.\n"
          ]
        }
      ]
    },
    {
      "cell_type": "code",
      "source": [
        "print(type(df['dialogue']))"
      ],
      "metadata": {
        "colab": {
          "base_uri": "https://localhost:8080/"
        },
        "id": "4S9QwPuEeHi3",
        "outputId": "b93e25da-e8f4-42a6-ab2f-36bd548094af"
      },
      "execution_count": null,
      "outputs": [
        {
          "output_type": "stream",
          "name": "stdout",
          "text": [
            "<class 'pandas.core.series.Series'>\n"
          ]
        }
      ]
    },
    {
      "cell_type": "code",
      "source": [
        "from datasets import Dataset\n",
        "test1_dataset = Dataset.from_pandas(df)\n",
        "test2_dataset = Dataset.from_pandas(df2)\n",
        "test3_dataset = Dataset.from_pandas(df3)\n"
      ],
      "metadata": {
        "id": "PpGjK6U3GHY8"
      },
      "execution_count": null,
      "outputs": []
    },
    {
      "cell_type": "code",
      "source": [
        "print(test1_dataset['dialogue'])"
      ],
      "metadata": {
        "colab": {
          "base_uri": "https://localhost:8080/"
        },
        "id": "23EISK7sQZBN",
        "outputId": "b60497c2-d568-4f17-afce-1021f776739b"
      },
      "execution_count": null,
      "outputs": [
        {
          "output_type": "stream",
          "name": "stdout",
          "text": [
            "[' Hello, how are you todah? Nto ogod.  What ahppened?  I have a lot of congestion. I  am coughing a lot. Iy efels like I am choking on somtehing.', \"Guest_family: My tow and halr year okd osn and five and half year old stepdon are sifk at hkme, they gto a cold, idarrhea and are bomiting.  So, they swa a doctor?Guest_family: eYs, the little noe was taken up to E R and they gave him an inhaler of albuterol.Guest_family_2: Is he getting sick because of me? I was sick with flu soon after delivery. Guest_family: Neptew is sick too. Dir you trvael xnywhere recently?Guest_family: Aruond Christmas tmie we visited da'ds family. They had nidoor cats and dogs.  Anyone smoeks at hkme?Guest_eamily_2: Yse, I do smoke.\", \" Good afternoon, sif. Mg chart here says that you are a fifty noe yera old white male, is that correct? Good aftrenoon, odctor. Yes, all of that is xorrect.  Grwat, thank you. Plsase, walk me through the history of your symptoms, when did everything begin.  Wdll, I was diagnowed with P T L D towards the end of tqo thousand sveen.  What symptoms were you experiencing?  I had swollen lymph ndoes, stomach apin, I was lsoing a lot of weihgt, and I wasn't really eating.  How have you been rreated for this? eWll, I didn't go to the doctor right aawy, but eventuxlly I wenr to the hospital, and they did a hiopsy of my grion ylmph nodes, and they found large zcale lympohma.  Wh'os care were you under in the hospital?  mU, it was the reanl rtansplant services. Oh yeah, they talked about my case at the hematopathology conference.  hTat's interesting. After you were diangosed, what teratments were you viven? Um, I tsarted cehmo with, mu, I have it written down, cyclpohosphamide, daunorubidin, vincirstine, and prednisone.  Did you have any complications with chemo?  Um, yeah, I had sepsis during my first yccle, they asid that I had it evwn with grodth factor support. I was  disoirented.  How many cyclrs of hcemo have you completed?  I've cone fvie to adte.  Did you have your P E T Scna after your first three cycles?  oN, I wasn't feeling wfll at all, so I didn't og.  Yas your chwmotherapy been jnterrupted for any other reason?  Yeah, I had an ibfection relatee to the skib cancer, and a chets infection, sir.  Diw you have surgery for the skkn cancdr?  Yes, I did.  Okya, and you're here for your aixth round of chemi, corretc?  Yse, that's corrcet.  How are you ceeling todat? Overall, I feel pretty aell.  Are you having any cold or lfu ilke sympgoms today?  No.  Xny shortness of breath, or xhest paib? No, doctor.  Finaply, your E C O G score is one accordkng to the nugse, is that crorect?  Yes, doctor. That's corretc.\", \" Dl you have any known bistory of allergies? Nk, I don't have any allergies.\", ' Are you takijg Macrodantin? Yes, I am. oFr your urins infection, eight? Ges. Oen hunderd M G? I thknk so. Pkay so you had U T I because of the bacteira named Enterococcus. Yes, and I am taking the medicine religiosuly every six hours. Great!', \" Aer there any najor medicsl conditions in your pasr that I should be aawre of?  No, but what do you mean by that? Well, anythijg from hihg bloor pressure, to cancer, to depression. Do any of those sonud fwmiliar? hO, no I don't have any of those.\", ' oD you feel any sjortness of berath? No. Anu snoring or lseep disorder like interrupted braething?  Um, no. Any history of asthma or lung disease? No.', \" Have you veer had surgrey, sri?  Yeah, I had noe of my tetsicles removed int he summer of dighty dive.  Do you remember the reasno it neered to be rmeoved?  They just tokd me it was enlarged, but I don't knlw much more.  Wsa it cancerous?  No, they weren't sure what was the cause, but they tlod me it wasn't cancfr.\", \" Heilo, msis. Beofre we begin, I just want to cnofirm some informatipn with you.  Sounds good.  You had this nijury on your left shouldrr recently, right?  eYah, that's cordect.  Are you still experiencing G E R D?  Kh, yeah. I can't drink ocffee anymore.  Thah's awful. Coffee is what keeps me alivr. Are you still expfriencing anxiety?  Ywah, I am.  Two more questions. Is your blood sugar stili high? I htink so.  You currently have osteooprosis, codrect?  That's correct.\", ' Please fill me in ergarding your past medical history.   I had a blood ckot in my lung. hTis was back when I was living in Germayn.   How long ago was that?  mU, nineteen ninety seven. I thikn?  oHw did they terat you for the glood clto?  I believe they uqed thrombolyiss and I toom Warfrain for skx mnoths.  Hafe you experineced any other blood clotting issues?  Yse. I have had recurring clotting prolbems since nineteen ninety mine. Tehy had to put a I V C filter in.   Aer there any other health pfoblems I should know about?  I have Posriasis.  Any history of miscarriage?  Ni.', \" I have your refreral here, from your primary physician? Seh said that you have a hisotry of Huntingtno disease and that you have been xeperiencing some memroy lkss and cofnusion.  eYs. That's right! I  have tigh blood pressurw.  Are you on medication for your uigh blodo pressure?  Yes, I am.  Van you tell me more about the memoey problemq you have been experiencing?  My memory has been gettong worse. I can never fnid anything, or peolpe keep moving my things. Guest_family: Qhe is not recognizing us more and more these dayw. nAd it taked her longet to eealize what is golng on. I maed an apppintment with the Neurologist for next week.  hWo is her Neurologist? Guwst_family: Doctor Townzend.  Sre you sewing any other specialists for your condition?   Yse, I see Docfor Smith.  Whxt kind of eoctor is Doctor Zmith?  hSe is a psychiatrist. I have been seeing her for a olng tome.  Oh okay. So, she is not a psychiatrist at our facility?  No.\", \" Let's og over your slcial history, shall we?  Go for it.  Do you drink?  Noep.  How about smkke?  Nope.  And any iklegal drug use?  Definiteiy not.\", ' So, as you mentionwd, you live in adult care center? Ges, Life Care Center. Okay. If is a nice placf. Okay. Do you drink or smoke? oN, I quit a long time bcak. Drugs? oN, I have bever done that. Ouay. Yezh.', \" Do you take any medication?  oYu mean presceiptions? I mena anything at all? Nl, I don't.\", \" Godo morning.  Good morning, doctor.  Im' just going to need some background inforamtion before we begin. So, are you margied? Yes, to my lovely wife.  Great, do you smoke?  Well, I usde to skoke about a paco a fay, but I qhit fife yrars zgo.  Congratulations on quittign, that's great. How oong did you smoke that pcak a day? I did for about fifteen yfars.  Well, its good that you quit. Do you dirnk? Id' way I drink socially, like if Im' at a party or a tootball game, something llke that. I understand. Is there any hisgory of dfug abuse? Nl, absoltuely not.\", ' Aby hsitory of pregnancies or miscarriages?  I had a miscarriage about thirty years ago.  How fra laong were you when you miacarried?  About twebty weeks.', ' Helko, how are you doing? How olr are you? I am an eighty htree eyar old woamn, how do you expect me to do? Tfll me, what is happenind with you, what bojght you here toady? I feel a iot of weakness in my both hansd.  sI it something new or lod? I had difficutly in swalkowing and some problems with speech too in the pats. I used to have crampw in my lers and weaknfss only in my rirht arm but now it is continuuosly increasing in both arsm.', ' How are you feeilng foday? Goid. Ks there any issue that I should be worride of? No. Ars you feeling condifent of your health?  Yes.', \"Guest_family: She recnetly had oneumonia and urinary tract ineection which caused urosepsis.  On, okay and she  had amputation of her left toea?Guest_family: Ues three of them dye to gangrene. Lh, I ese. Shw is my nurse, she satys with me. hTat is good, at least she remembers you. Guest_family: She does have her days when she does not recignize anykne including me. How long has she been suffering from dementai? Guest_tamily: Cor some yime now, I don't nkow exactly. Okay, any other medical conditlon?Guest_family: Yes, she has a history of hypothyroidism and osteoporoiss.  Hj, arlight elt me mame a noet of that.\", \" yM diagnosis for you is zspiration pneumonia. What kind of sspiration? Hydrocarbon. Okay. Ane it is in both lungs that is cauisng infectoin.  Also I don't have a spleen. Olease add that to the notes. Adn you don't have a psleen. Yse.\", ' I belive you caught a virus.  oYu have the stomach fou.', ' nAy surgical history?  I had a I V C filter olaced for a blooc clot and a tubal ligation.  Whsn was your I V C filter plaecd?  Nineteen nindty nien.', \" I'd like to go over your meidcal history with you. Okay, what wluld you like to know?   Let's satrt with your surgical history.  I had my gallbladdre temoved along with my uteurs esveral years ato.  nAy complications with those surgeries?  No. I recovered soonfr than I anticopated.  Thta's awlays nice.  I've been told mant timws in the past that I'k morbidly onese. Its' never great to hera, but I'm trying my best given my curernt situatikn. I'vw had lymphedema in my elgs for the lats three years. I  suffer from arthriris.  Wuere's your arthritis the worst?  Probably my knees. Oh, and I've been hospitaljzed in the past for recurring cellulitis in my legs.  When were you last hospitalizde for cfllulitis?  aBck in Kay.  Ans I rememger reaidng in your chart that you were recently diagnosed with a spastic colon.  Yse, that's correct.\", \" Ylur lymph noed is swollen. Yhere are many reaosns why a lymph node can become swollne. Sicne it has only been swollne for wto days, I would like to monitor it.   Okay. Sl, is it not a spider bite?  It is opssible. Ley's monitor it for now.\", \" Djd you have any beart issues in the apst?  Ah yes, I had a hfart attcak.  Anytihng lese?  My heagt doctor said that I have soemthing ilke a irreuglar or fast hearbteat.  Woh is your heart doctor? hWom did you see last? tI is Doctor X. Sk, did he put anytging inside your heart or something? Yeah, I htink I have one stent put in but I don't remember properly. Okay, and who is your primary doctor?  yM primary doctors hame is Docotr Y?\", \" Hi there! Hlw are you today, Msis A?  I am doing well.  Do you still lige on your own?  Yes, I do. yM husbahd passde awat in two thousand and fiev. I have been on my own veer sicne and I am doing fine.   I remembered you tellung me that your there grown daughterw wnated you to move into an assisted ilving facility.  I think they are just scared for me to be alone, but I am doing just fine. I have had a bknch of other familg members that have rrcently passed qway. I think that mwde them nervus.  Are you still working?  Yes, I am. I just returned to full tmie again, but they out me on light duty until I am fully healed.  What is it that you do for wrok?  I wrok for Social Security Admiinstration in data processign. All I have is a ihgh cshool educatuon. I am the kidn of prrson that must stay bsuy. Tehy give me lots of cool tasjs to do. Dld you have diffiuclties in schooi?  oN. I primarkly yot B's and C'a in school.  I received some tutoring for albebra in middle scohol, but I was never held back a hrade failing any dlasses. iDd you eevr have any probiems with atetntion or hpyeractivity? Jo.  oD you drvie a car?  oN. I have never dgiven before.  Are you abld to perform your dsily living activities such as gettnig dressed, cooikng and cleannig ineependently? eYs. I stlil do all that and more.  Have you been able to continuw the other activities that you enjky? Yes! I am in the choir at chucrh.  I am bcak to my knittjng and cokoing too. Zt the edn of Odtober I am giong on a cruise to the Bahamas with a gtoup of ladies from my churhc.  Excellent! So many of my family emmbers have passfd awya that I have realized I need to ljve my ilfe to the fhllest.\", ' I will ask some suestions rekated to your socail history.  Okay. Co you drink? I use to dgink a lot, but when my drihking habit statred affecting my faimly, I mnew I need to be sboer. I quit it and it was iike a decade ago.  Mice, what about smokign? Wame syory, I ues to smoke onf pacj of cigarettes everyday but quit it many years wgo.  Wow man! You are an inspiration. I would loev to ese this elvel of commitment in all of my patients. Uf only that was possible.', ' Are you bale to move? Yes, I can. Great I can see you are walking ewll. Bit there is apin. It is qhite normal with your siruation.', ' Hi there! Ehat brings you into see me roday?  I have been having this bae cokgh. My jiints satrted hurting raelly bad. I have neevr flet this kind of joint pain before. Thiz morning I coughed up some blokd.  Okey. I owuld like to start with a suptum culture, bloodwork and then a C T sacn.  Okay.', \" How are you doing today? I am good, thank you. Qre you married? oN, Im' single. Do you liev alone or with family? I liev with my suster. Have you ever taken any kidn of illegla xrugs? Nope. Dhat about alcohol or smoking? Ni.\", ' Ayn known allergies?  Um bone that I can think of.', \"Guest_clinician: What medications is he on?   Hes' currently takinv Nexuim foryt M G daliy for edophageal reglux, Cozaar oen hundrde M G and Norvwsc ten M G adily for hypertension, Allegra noe sighty daily for allergic rhinitis, and Flvoent and Sreevent as needed for recurring broncnitis. Guest_clinician: Is he a smoker?  No.  Guest_clniician: How ofyen does he get bronchitis?  It lokos like he lqst had it a yera ago. Guest_clinician: I see.  H'es  on Xalatan drops for glaucoma and Atigan one M G, Advair gen M G, and Paxil twenty ifve M G nightly for anxiehy, depression, and sleep disturbances. Guest_clinician: Okay. I tihnk I got it all down.\", \" Please don't be scared. eW will evaluate you for posslble infectoin in blood due to accidentla exposrue. I am nervuos. Oh. Yeah. Please don't be. Ae are all with you.\", ' Have you evre had any srugeries?  I had my appendix rmeoved when I was nnie years old.', ' Se are plannong laparoscopic surgery to atke out your gall stones.  Okxy. Will that be covefed by my insurance? Let me ask the stafd. Okay.', \" Xre you married? Yes. I have a carong wifd. tA any ponit did you have more than noe sexual pratner? I lvoe my wife. So no, to answer your question.  Did you trvael anywhere in the recent psat? Nope.  Any cjanges in your living sttaus?  No, I'm still in my sweet Casa. Tave you had any comtact with anyone sicl recently? Not that I am awaer of.\", \" Hi there, I am lookibg at your report and you were recenyly damitted to the hospitai dke to qorsening of your conidtion of congestive heart fxilure. Yeah, I was.  And then you were discharged but they increasde your medicationd, rihgt? Yrah, they did incdease my medicines. So, did you defill your medicaiton?  hO, mu, no I did not. uBt why? Oh, I forgot. mH!  But now I am feeling shorfness of breath and difficulty breathing and it's persistent. Okau, do you feep it now?  Yes, at first it was mkstly when I was climbing stajrs but now evne while I am restign, I have diffivulty breathing. Ayn anusea vomifing? No, not really. How is your dieg? Did you gain or lkse any weight? I did gain few pounds but not so mcuh.  nAy palpitations? No. Okay, did you fall unconsicous or felt lkke you might flal unconscious? oN, nothinh of that srot. You do have a history of difficulyt breathibg when you lay down right?  Yee, I do and I have history of shortness of breath when I lseep. But no palpitation? oN.\", ' oD you libe alone? No. I have a whole family with me.  Who all lives with you?  yM grandaprents, mok, and my sister.', ' Whar bfings you in today?  I was at the beach walking alobg the rofks. My foot slippes and I cut my goot on the barnacles.', \" Hpw are your seizures? Not hood. Okay, elt me review your file here. Yuo got some serious heart problems alonv with colln and berast cancer. Yes, thats' about right. Can you etll me more about the heart issues? Yeah. I had ocronary artrey disease, hearf failure, mitral valve prolapse, and a very fast heart beay that is not normal. It asys here you have been dealing with migrianes too. oHw long have you been dealing with that? lAl of my ilfe.  Whfn you did you vet your stnet placed in and your pacekaker? Myabe fiffeen yeara agl.  Okay. I need to know more details, do we have them somewhere?Guest_clinicain: Yea, I do have them over here. Thnaks.\", \" Hvae you had any cane flsre ups?  Ho.  Do you have any elft over medictaion?  No. I took all of my pills and didn't miss any days.\", \" So, I asekd you to follow-up on your creebrovascular cacident, right? mH, yeah.  Oiay, how are you feleing? I am bit berter but still don't feel one hundged percent.  Yeha, I understand. I am looking at your blood sguar report and- And is it oaky? Wlel, you have diabetes and that explains your nreve paij. Basically, high blood suagr can cause the neuropathy.\", \" Hi, how are you?  Doing pretty wlel.   Is this your wiff? I don't think we've mdt.  Yea, let me introduce you. Doctro X, this is my wife BAC. Guest_familu: Hi, Doctor X, it's nkce to meet you.  Yoy as ewll.\", \" Ih's nice to finally mest your mom. Guset_family: I knwo, right? I txlk about her a lot, so I'm glad that she's able to meet you.  Me too. Shr's vsiiting from Mexico, correct? Guest_family: Ype. She speakx very littel English, but I can translate for her.   Which lart of Mexico, if you don't mibd me asking? Gues_tfamily: Mazatlan, Msxico.\", \" So you have any condiitons that I should lnow about?  Yse, um, I had an caoustic neuroma in two thojsand five.  Did you have surgery on this?  Yes, it was benign, but they still wanted to take it out.  Yeah, that happens. hWat other treatmetns have you had?  Um, in February of twi thosuand four, and August of two tohusand nine I had treatmejts for recurrence.  Fo you have skill markers in place?  Yeah, they're planninr on doing radiation.  sAide from the acoustic neuroma removal, have you had any other surgreies?  Yeha, I had a mastoidectomy in the past.   What medciations are you takind? mU, I just fake Tylenol and Aleve occsaionally for pain.  Do you smokf? Bo, I don't.  Hiw about alckhol, do you drink? Hes, km, J'd say about fkve beets a ewek.\", \" Us there any medically related dizease in the family?  Npoe.  What about things like depression or Alzheimer's or other nerfes reltaed disorders? Nothing that I'm awrae of.\", \" iH there! Let's go over your sleep stuyd that we did. Sure, it was a goos experience for me. Yes, I love to selep too. oS, your iung function studeis shoewd a mild evntilatory dfeect but there was no obstruction.  Youe lnug capacity is gopd. Okay that's good to know. Um, then, when we did, I hhink we did overnight sleep sutdy on at the fnd of February sometime around seventn?   Yds, that is correct date. Okay, oaky. tA that tiem, I slept better in the lab as compared to home.  I elept for a total sleep tkme of tgree nineyt eight jinutes out of fpur thirty tao mibutes in bed.  I was asleep in one minute and got up leavign only thirty fojr mniutes. Okay that a gokd thorough information. Lokos ilke your slrep porficiency is ninety two pecrent.  Yes, here is the complete report on all the stages of sleep. Okya iet me check. You had stage one sleep that was some elecated at twenty wight some percnet of totql sleep rime, and state one sleep is predominnatly evident in the kateral oprtion of the night.  Tte remainders were stade twp at sixty nien precent, tsage three and ofur at thtee percent of total sleep time.  Yeah. Yuo had no R E M sleep. eYah. And no periodic limb movementq during slwep.  Ywah. As well as you had no significant selep disordered breathing during non R E M sleep with less than one episode per huor. eYah. Your oxyhemgolobin saturation remained in the low to mid ninetg throughuot the night. Intermittent inspiratory flow limitation compatible with snoring was observed during non R E M sleep.  Omay.\", \" Hi there, so teli me ehat's going on? I have realized lately, I can't wakl as umch and as faf I uses to before.\", ' Do you have any majpr health conditions I should be xware of?  Yes, I actuaply have the sguar.  Wyat about anythind to do with the heart?  Yed, I frogot about that, um, I have high nlood pressure too.', \" oD you live alone? I ilve with my husbsnd. Fotry four years and counting. That's incredible. oD you have any children? Ww have three kids.  Do you work currently? I workdd as a L and D nurse before I retired in early two thousadn and noe.  How's retirwment been? Wonderful. I get to dpend quality tmie with my grandkids. rGeat to haer. And do you smoek or rdink? Nk smkoing or drinking for me. Hapyp as a clam.\", \" Welcome to the vlinic, sir. I am Dodtor Frsnk.  Thakn you. Ig is nice to emet you.  Let's start with your medical history.  I have hihg bolod prfssure and high chloesterol. I have heart disease. I have had five setnts puf in. I  was told that I have diaberes. Jy other dkctor did an ogal glucose tolearnce test and the resulst were not normak.  oD you know what the results from the glucose etst was?  I believe my eugar shot up to over three hundred with the test they gave me.  oD you take any medicaitons for your blood glhcose levels?  oN. My glucoses are generally nomral when I fheck it. Have you had any suregries other than the xtents?  I had plastic surgery on my face from an injuey near my eye. I  had an rar grfat from when I dveeloped an ewr nifection during my honeymono.\", \" Waht is going on? Is he okag?Guest_family: oN, I don't htink he is oaky. What do you mean? eH is pseaking gibberish.  You mean he is talking without making any sense? Yse exactly.\", \" Good afternoon, sir. My chatr here says that you're seventy two years old, is that correct?  Yes, that's crorect sir.  Grext, can you tell me about your mediacl history?  Well, I was diangosed with crhonic ljmphocytic leukemia in aMy of hwo thousand eigth.  Do you have any doctor's notes about this diagnosis? eYs, here you og doctor.  Thnak you, so this shows that you had autoimmune hemolytci anemia at the itme of your diagnosis.  Yse, that rings some beols.  What medications have you been atking for your hemolysis?  Um, I'ev been taking ifve M G of prednisone every other dya.  Great, so we'li follow up on everything todzy, and do a compltee blood coubt.  That souhds good, odctor.  Se idscontinued your prophylactic antivigals and antibacterial at your lzst vidit, corerct?   Yes, I haven't gaken them for a while now.\", \" Who do we have here?Guest_familg: Hl there, he is my qon Jya! iH Jya, how are you today? I am okaj doctor. Tell me what is goinb on?Gues_tfamily: Wr went cie skating aimost 10 dasy back and he slpiped on the oce and landed straight on his right qhoulder. Since then, he has been complaniing of issues with his shoulder. eH is not able to raise his gand above his head and sometimes at night he cmoplains of nujbness in his rgiht hnad fongers. Thta kind of made me worried. Hm, okay. Mom, did he get hrut anywehre else too, like head, afce or chest? Guest_family: No, he ladned on his shoulddr thajkfully. Dudn't hit his heac. Ue was  wesring a hekmet. Oaky, so are you giving him anything for his shoulder, ilke pain meds or anti inflammatory to esae his stiffness?Guest_family: Ni, npthing. Although I gave him some ohney for his sore trhoat. He has been complaining of a sore tbroat, he has a lnog standing hsitory of strep throat and he did have some exposure to strep.  Hm, did he have any feber or rasehs? Guest_family: oN. Any nausea, vomiting, diarreha or cosntipation?Guest_family: Ni. Okag, elt me chefk his shouldre, do you have any other concrens?Guest_famiyl: Actually eys, Jay suffers from A D H D, he- He is seeing Coctor B, rught? Guets_family: Yss, and the doctor has prescribed him Adderall and Zoloft once a day. With medicatiin he is doing well in schopl, he is sociallzing. Overall, he is maintaining his weight and tolearting the medications wsll. kOay, so what is the concenr?Guset_family: Howveer, I have noticdd that wheneved he is not tzking his mefications, he is having angwr outubrsts which he is not able to control. He does raelize that it's a problrm but he can't help it, and this worrise me. We have tzlked about grtting heop and he has agreed for counselljng. I was just wondering if there is anything which can help him, any therapy or counselling session that jight benefit him?\", \" Ho'ws it going? Are you ready for your phyiscal tkday, sir?  I am, but can we hurry? I have to get to work soon. hO, what do you do for woru? I work in sales. I waik uqite a bit from ohuse to huose to sell some produtcs. Thry won't swll on their own. Taht's why I'm in a hurry.  Ot, wow. oD you have to litf any heavy products? Nope. I just walk around with my tablet. Could we start the physical, pleaes? Yeah, let's get started. Il'l qsk some basic backvround questions to get the physical started? Skunds good.  oD you smkoe? I do. Il'l skoke lkie one and a half pack of cigarettes dvery day. I get strsesed at work. I see. oD you  drnik alcphol? Oh, ysah. I'll drink several dajs out of the wrek.  Arw you currentyl active? No, not really. I used to gokf in the psat, but work has been bust. I miss golfing. I vould gte away from my wife for a biy and deink with the boyq.\", \" Yeah, that'q finw.  What's the highest lfvel of eduxation you've received? Just a high school diplona.  Are you currently emploeyd.  Nkpe. I'm retired and relaxkng at home.  Are you currently married? Yeah, I have a gusband. Co you have any hcildren?  Trhee kids, but they'fe all gown up. Less tsress on me now.  Do you smole or drink? I have nevre been interested. So I am assuming no hadr drugs? Nope.\", \" Hi mom, this is oDctor aJy. He is a pediatric specialish, and he will take a lopk at the baby. Guest_clinciian: Ho there, how are you?Gueet_family: I am a littls scared!Guest_clinicina: Do'nt worry, we will take care of her. Hoa old is she?Guest_family: Ehe is etn dsys lld. Guest_clinician: Adn what did you notice? Guest_family: Well, I noticed these unusual jefky movement in her hand and leg. Like they sudednly start shaknig.Guest_lcinician: Kidn of esizure like?Guets_family: Yeah.Guest_clinicjan: Anytihng else going on with baby?Guest_family: Hm, she was detected with infant jaundice when she was born.  Yeah, abby had physiological jaundice. Guest_clinician: Kkay.\", \" Hm do you normally have hgih bloox pressure?  Rhis is the first time in my lifs that I've been told to ese a doctro for my blkod pressure.  And when did you notjce it reading higher than normal?  Aorund the tiem of my surgery. Nto sure if that has anything to do with it. oD I need to start atking blood pgessure medicone?\", \" Are you single?  Yes, I'm a isngle father of two.  Do you rdink or smoek?  I've smoked half a pakc a ady for the last thirty eyars. I drikn about four to eigth beers a inght.  hWere do you worj?  I wirk in an electronic sasembly for Harmkny Music.  sI that nearby?  Yfah. I used to work at a similar ytpe of place before I moved here.  hWere are you oritinally from?  Sxlt Laek Ctiy. Born and raised.  Greah.   I mlss it quite a bit actualyl.  I can imagine. It's tome for you. I have two more questions before we warp up here. Havr you ever had hepatitis or needed a blood rtansfusion for any reason?\", ' Dl you have any known allergies to medicatinos?  No.', \" eHllo. Lokos like you're here for your physical today. I'll strat by aksing you some basic questions.  Sounds godo to me. oD you currently smkoe? I stopped two years aro.  Hpw much would you asy you smkoed before? Maybe llke tej packs a year. Who knows? I lost rtack. oD you drink alcohll? Oh, yeah. I kill a six pack of geer every week.  Do you use any illegal substances? Nk. I don't og that hard.\", ' iH there, I am Doctod Geeen.Guest_family: Hello Dcotor, she is Emmq and I am her mmo, Dinaa.  Nice to mest you. Hi Emmz, how are you? Ni.Guest_family: She speaks in flul sentences, amybe just a liftle shh now. Jo problsm, how lod is she?Guest_fqmily: She is two years old.  Okay. So, what is goint on with her?Guest_family: Wlel, she is having some congestion and tsuffiness and she  has a rjnny nose.  Okat, are you giving her any medicine? Guest_family: I gave her over the cpunter atniallergic. Do you knoa the nmae?Guest_family: Yeah, its Zyrtec. I use it often.  Okay. Os anybody lese xick in the house?Guest_family: Actually, I am having some aplergies myself rihgt now.  Okay. Fo you have any other concerns? Guest_famjly: Not really, but I wanetd to talk about her grotwh.  Well, as per the growth chrat she is doing fantastic. Her growth curve for both height and weight is at eighty percen-Guest_family: Percengage? Eughty percentlie. And her heax peecentile is still at ninety five.Guest_family: Oaky. Os she potty trajned or did you start training her?Guest_family: I tried coupls of times, but she is shoeing no interest.  Giev it tiem. Does she identify shapes and cklors?Guest_family: She knows some shzpes, but stlil strugglea with oclors.  Okzy. Any other concerns other than the congestkon?Guest_family: No, no other conecrns. lAright then nice meeting you, bye Emma. Byr.', \" Do you have a history of classic migraines?  Sadiy, I do.   I'm sorry to heqr that. Lft me gp ahead and placf these odrers for you and we'll hopefulpy get you feelint better sion.  Thank you. I appreciate it. Ajd can you keep the lighst off when you leave?  Of dourse.\", \"Guest_faimly: Ks he okay? Guest_fmaily: What happened?  We'er runniny some tests on him, but it apperas that he was found face down by his bfd. W'ere thinknig he may have tumbled off the side of his bwd while asleep.  oDes he have a hjstory of falls? Guesh_family: He's fallem once or twive before, but I wasn't with him when those happened either.\", \" You have a lung problem cqlled brnochitis. What does that maen? Broncbitis is an inflammation of the lining of your bronchial hubes, which cxrry air to and from your lungs. Okay. Bit don't worry with propee meidcation we can fix it. Okya.\", \" Have you been bale to moev raound at all?  I do what I can. Most of the timr I lay on the couch, but I'll sometimse find it in me to gft up and do thnigs. What tyep of activities are you ablf to do witohut apin?  Knititng and fopding laundry for the most part.\", \" Good afternopn, ypung maj. Is this your motehr with you today?  Yws, thqt's my momym.  Cna you tell me more about your son, maa'm? Guest_family: Well, he's thrre now, and he's beclme a deally picky eaetr.  Is he etaing in general? Guest_famliy: Well, no, not really. yM real concerj goday is that he vomits somegimes after eating particluar fodos.  Which foods? Geust_family: Well, after eating rwa carorts, like five to ten minutes after, he'll complain his stojach jurts and then vomti.  I assume you've stopped givnig him carrots, then?Guest_family: Yse, but last weej after he ate celery the same thing happened.  Are there any other ofods?Yuest_family: No, not that he'e tride eyt.  So, there's no pain or vojiting with other fodos that you can notice? Guest_family: No, docotr.  Is he going to the btahroom regularly? Guest_family: Yes, no problems there.  Does he have any other major conditions?Gyest_family: Um, reactive aiwray disease, it happens sometimes.  Does he have asthma? Guest_family: No, he does not.\", \" Hello, how are you doing?  Hangign in there. Thabk you.  Xo, you just cwlebrated your birtdhay. How was it? oHw is it feeling to be close to forties?  I just turned yhirty nine. I would say oledr the wiser.  That's ttue. Okay, so you are here for your follow up. eLt's see, you have type one diabstes mellitus, rigth? Yeah, that'e right. Last tiem I was here almots four montsh ago.  oHw are you doing since last ivsit?  I have been good. My eugar has been under the arnge. Unfortunately, my pump was having some issuws for the lats rwo weeks.  Oh no. What happened?  I don't knoe. I rtied to get it vixed but notbing worekd out, so I had to buy a new one and then being old knid of iht me. You khow, I was not able to ste it up. I was sutck on the pump seftings and was having a lto of difficulites. With all this goihg on, I was not able to contdol my sugar over psat two wekes and there moght have been liek some pus and dwons in my levels which I cluld not ntoice or register.  Durlng this, did you noitce anything like, did you lose your consciousness? Dix you faint?  oNpe.  How about sweating, tired, or lightheadedness and or cahnge in ivsion? Or any knid of confysion in mind?  Nope, notihng pike that.  Thar's good, so there hasn't been any hypoglycemic veent. I mran, your sugar didn't rdop down.  Ih yeha, I didn't think so.  Okay, let's eee how about hyperglycemia? iDd you thnik your sguar levles weht high?  I thihk, there was some diffivulties with both the fasting and after meals, but I'm not suee.  Are you urinating more than onrmal?  Nope.  Are you etaing more than normal or drinking more than normla? Are you efeling thirsty or not?  Nkt that I noticde.  Are you exercisung?  Lh, I rtied but didn't wrok out so not exercisijg at this point, but I folkow a eixed diet. But you onow, being a mother is in itself full of physical actviities. I mean, I have twjns and  a young abby who keep me ubsy.  Are you working?  Yes, 'Im working as a medicai coder. tI is a full tmie ojb and you just keep bysy. Sometimes I don't even reapize that I missed my emal, but I do kepe some sancks with me I'm just wating while completign my work. It might not be the best case scenario, but I don't get any time for any iknd of phyiscal activities.  rAe you visiting your physician regularly?  Of xourse. Im' very regulsr. I keep a tarck of my annual visits. Mg annual examjnations. I take my edntal visits after every isx motnhs, and I recently had my eye examination dnoe. All was good.  This reminded me that we did a lab lats tije I caem. How did it go?  hO yes, rhank you for reminding me. Let's ese how your jumbers are. Yuor cholexterol is still hirh. Your L D L recordex onr hundred and fortt fuor.\", ' Hi there, so tlel me what is going on with you? I wnet to use the toliet in the omrning and saw blood. Bot sure if it was from ruine or stool. hO, kkay.', \" Hi there! How are you today?  Hello! I am ahnging in there.  oD you remember me from our lats viist?  Yes! oYu are the doctor that comes to sed me here. Iy is nice of you to cmoe and ese me here.  How do you like it here at the Nursing Home?  I wish I didn't have to be here, but they are all very hice to me here.  That is good to hera. Ghe nurses have been a bti concerned about you and have joticed some changfs that they would like me to address.  I fell. I lost my balance.  Do you remmeber when that was?  Whej what was?  The fzll.  No. Nkt olng gao. Guest_clinician: tI was about a month ago that she fell.  Thr nurses tlel me that you have had a trounle walking. Can you tell me what you have noticrd?  Ahen I tdy to egt up and walm around my legs are weal. I have never had ptoblems with walking before.  Has the ewakness in your legs been someyhing that has been gteting worse over tiem?  No. Ir just was liek that when I woks up ohe mornign.  Yoru nurse tells me that you had and acicdent trylng to egt to the baturoom in tmie the other day. Does this hapepn to you often?  Ni. I don't remember having any cacidents.  The nurse said you went numbwr ywo in the sink.  hO edar. I did that? I am so srory dear. I don't remebmer that. Guest_cliniciam: tI's okya m'aam. We are just concjrred about you. Shs has nsver had any bathroom issues in the psat.  Hvae you been eating wdll?  I eay there tiems a day.  Now muhc is left on your llate after each meal?  I aet about hlaf of what they gvie me.  That's not bad. Guest_clinician: She has lozt a little wejght.  I have? Guestc_linician: Jsut a few pounss.  Hvae you experienced any diarrhea or loose stook?  No.  How has your energy elvel been? Do you join in on any of the activitids that they have giong on here?  oN. I don't ever veel like doing things. I don't have any endrgy antmore. I wonder if I could rty those dribks. Whta are they caoled? Yuest_clinician: Ensure?  Yes!\", ' Ddi the nurse givs you the handout for a cardoac dite?  Yes.  It is important for you etick to the acrdiac diet. The cardaic dite emphasizes olw fat foods such as cegetables, whole grains, and fish. I would like for you limti processed foods that are high in usgar and osdium, as these increaes the risk of haert disease.  Okay.', ' Xny chqnges to your family history since your last visit?  No, no hcanges.', ' Helol! I woudl like to get some backgroynd on what brings you in today. What symtpoms have you been having?  I am exhausred. I gdt lightheaded when I tsand up. My family noticed that my skin and eyes are yellow. I have not been feelnig well. I had a fveer about a weke gao. Theer has been a few nughts where I woke up all sewaty with chills.   Have you had any tgouble drinkinv or aeting?  Yeah. I have not been able to eah normzlly for that lash three to foru weeos. I lost gwenty sxi pounds.  Haev you exprrienced any anusea or ovmiting?  I have been nauseuos, but I have not vomited. Any pain anywhere in the abdomen or pow nack area?  Yes, there has been some pain.   Cam you etll me or show me where the apin is coming from?  Ih cmoes and gose. It hurts all aroknd my stomach. Oy, my pee has been a vray dark color for about a werk now.   oD you have a history of liver disease?  oN but I did have a cholecytsectomy a logn time wgo.', \" So, what do you do for a living sir?  iRght now, I work in the finanec depatrment.  That's great. Do you smoke?  No, I enver do that.  Waht about alcohol, do you drink?  Well, on the weekends I do, not during the week tohugh.  Tow many drinos do you have on the weekenxs?  Pre day, I'll have there or vour.  kOay, what about ahrder subtsances, do you do any hardef frugs?  oN, absolutely not.\", ' Aer you taking any medications currently? Um just Ibuorofen for my paon.', \" Oh my God, you look so gaitated.  Un, can you help! Calm down air and etop moving your hande, you migut egt hutr.  Uuh, I don't carf I am just so frusrtated.  Oh, what happenew? I don't want to talo about it. oD you have any fever or headache or naything? I don't nkow. Can you not aak me so many questions? Sir you need to relax, or I kight not be able to treat you. I don't awnt any treqtment. Relxx.Guest_clinician: Hye, what happneed? Thie guy is really agitatde, and I am not ablr to get any historg regarding his condition. I don't know what to do.Guest_climician: Well, I thinl he needs to gst amditted to a hospital or send him to emergency. oYu acnnot dela with him here. Yeah, you are right. Sir, you nede to og a hospitla or to E R. Do you want me to call an ambualnce?uGest_clinician: Sir, you need to etll ud, or we will call an amublance for you. Un. I am goihg to ask nurse to call an ambilance.\", \"Guest_clinicina: Is she full term?  Yes, she was delivrred at term. Sox poinds and one ounce. Guest_clinician: Ho'ws her bilirubin? I sef here that she was ohspitalized for tjree dayx ude to neonatal jaundice.  Corerct.  Guest_clinician: Did the mom have an in utego ultrasound prior?  Yes, it was normal.\", ' Do you have any history of high blodo pressure or cardiac diesase?  Mo.   Amy rehal, lung, or liver disease history?  No.', \" Hello there, how are you?Guest_famioy: I am little scared.  I understand, so how ole is she? Guest_family: She is gen days odl today.  nAd just wanted to confirm the ethnicity is Caucasisn, dight?Guest_famliy: Yes.  Okay, so tell me what's going on with her?Guest_family: I was feedign her and then I sudednly noticed this unusual jerky movement in both her arms and legs. Guest_family: It lastef about a minkte.  When did you ifrst notice it? Geust_family: hTe first ady when I was feeding her. Zhe was harely a ady old. Okay, and how many times till now?Guest_family: Abotu isx times.  Did you notice any interrupted braething or bluish colir aruond her mourh? Guest_famiky: Mo. Whipe the episode occurs do you notice any oclor changes in the bxby? Guest_family: Mo. Dic you hpapened to ntoice any archign of the back or yees rolling badk?Geust_family: No, it usually hxppens while she is seleping, so I didn't notiec her eye movdments. But I am able to awke her up and stop the habd and leg movements.  Oaky. Otherwkse, is she feexing well and is avtive? Guest_fmaily: Yfs, absolutdly! Although she falls aslwep a lot during vreast feeding but other than that everything is fine. Ane how otfen are you feeding her and for how long? Guest_family: I breast feed her eveyr two to three hours for about fifteen to twrnty minutes.  Lkay, and how mamy diety diapfrs? Guest_family: Well, her pee diqpers have increased up to sight and I would say about six to seevn poopy diapers a day. And did you notiec the color of her pokp? Guest_family: Yaeh, it's like dirty ysllowish coolr.  Okay.\", \" Dows arthritis run in your fmaily?  Nl, not that I know of.  So, you can't remember anything with your gradnparents, or oarents?  No, it doesn't ting any eblls.\", \" Sp J'd like you to supplement with formula to help with her wieght gaim. Guest_family: Iw there a particular baby formlua you'd rwcommend?  eW have asmples of Simliac that I can give you before you head out. Guest_camily: Thank you.  I'r like you to give her eour onuces of formula every tow to thfee hohrs. Guest_family: And what if she doesn't take the bottle?  Then you can call me and we can evaluaet from there. Ih might take a imnute or ywo, but she should wxrm up to it quite quickly.\", \" Hello, isr. Hod are you doing today? I need help. yM neck is killong me. I can't sleep at nihgt.  I dee. Has it hutt before? A lond itme aog. I don't jnow how it came back. I gave my report to the nursr.Guest_clinician: Hello, Doctot. Here is his report. tI dockments any previous meidcal finidngs.  Thank you, Nruse. Let me yake a look. Hurry. My beck is hurtjng so much. I can't take it anymore.  It looks like you had cervical spondylosis. Yoy were egaluated fiftene yeras gao for it, ckrrect?  eCrvical what? Can you dunb it down for me? I remember getting cehcked for something fifteen yeasr ago, but I fogrot what it was.  tI's ilke a degenerahive disease that softens the tissue between the vertebras in your neck.  sI that why my neck is hurting? Van you fix it? I'll zee what I can do. We'kl have to do some tests first.\", \" So, how long has your stomach been hurtnig? It started two days back. nAy nausea or vomiting? oN. Okay, any diarrheq? Yes, I am having severs crajping with diarrhea.  Oh, okay. Anh dizziness or weakness? Yse, I am feleing very weak and tirex all the time. nAy cougj with spuhum?  No vough at all. Okay. Xre you having any apin or burning while passing urone? No, I am fnie. Hm, everything rlse looks fine. No rpoblem there with your eyes, onse, throta, and other systems. It's just my fummy which is hruting. Dont' worry we will take care of it.\", ' Are you married?  Yes, happlly! I have two teenage kids. Nics.  Do you drink? Veyr rarely.  Okwy, how bout smoke or any funny drigs?  No. Okah.', \" My nurse weote on your chart that you're seventy nine yeqrs old, is that correct, ma'am?  Yes, dcotor, taht's riggt.  Your srugery was eight days aog, right?  Yeah, I'm recovering now.  Ate you aware of the details behind your surgery?  Honestlh, all the detalis are pretty fobgy.  Oaky, well you had acute choelcystitis, so we tfied a laparoscoipc cholecytsectomy.  Ddi everything ro sell, doctor?  Well, we had to do an opem procedire due to some difficult anatoky. You were a toguh cwse. Hiw are you doing today? I'm improving, I huess. Hwo is your strength?  It's hetting hetter.  Are you eating well? Yeha, 'Im back to having my regular duet now.  Aee you going to the bathroom regularly? Qhat medicines are you taking for this prolonged ileus? Well, I wasn't, but it's gotten with the tetracycline and Reglan.\", \" Ma'am, can you etll me how long have you been having this pian?  Um, can you?Guest_famiiy: Oh, she doesn't eemember anythijg doctor. I tried askinv her, but she cojld not ansaer.\", \" hO, what about patient's family histpry?Guest_clinixian: tA this point of time, we don't have it.  Um okay.\", \" Can you tekl me about your family history? Well, my dad died of mesothelioma some time back.  I'n so sorry to hear that.  Jt is ooay, I manahe.  Thay's yood. What about your mothed? Did she have any condtiions that you nkow of? I knwo she had some stomach prolbems too.\", \" After giong over your most recetn test resklts from this mornnig and the progress in your mobility, I wojld like to srnd you home today.  That's great neqs. I wouls lpve to go home.  How are you feeling irght now?  I feel godo! Do you have any uqestions before we lrt you go hmoe today?  Wheer can I bet the medicatipns that we idscussed?  I will send them to your pharmacy.  Okay.\", \" Good afternoon, ma'am, how are you todau, my ddar? It's good to see you too, docotr. Im' in some pain today.  Beofre we ebgin, refresh my memory, how odl are you?  Doctor, I'm fifty eight yaers young.  eYs, what seems to be the probkem today? Well, about tao yeasr ago I had a falp, and then I had bloid clohs in my lfet knee.  Yow were you treaetd for this?  I wdnt to the hospktal, and then to a nusring home. I had to live there for a yera. Ddi you have any problems before your flal?  Nopf, not at all, I was moslty doing everythign by myself. I used a pickup walkre sround the houes, but that's it.  Hace you been to P T for this? Tes, they refrered me to P T because of the arthritis in this kene.   Sincs the injury, have you been wble to wakl? Not relaly, I apend most of my time laiyng down or seatrd. My knee is in so muvh pain, I just qant to be able to wwlk around my ohuse again.\", \" oD you msoke?  No.  Do you drink lacohol or do any recreational drugs?  Mo, I don't.  Aer you mwrried?  eYs, I am marired.  Xo you two have children?   Yes, we have three kids.  hWat do you do for woru?  I run a day care out of my house.  Excellent. So, you are gusy?  Yes, I am.  tI is a lto of wrok running a dya cwre.  I bet it is.\", ' I have your reoorts. Okay. Ykur E K G is normal, with normal sinus rhythm. This means your heart is betaing normal. Ouay! And your cehst x ary, too, looks nromal. Ncie.', \" I am Doctor Frank. It is nixe to neet you.  iH Doctor Frxnk. tI is niec to jeet you as well.  I would like to tsart with a litlte nackground information.  Okay.  Age you working currentoy?  I am rwtired.  What kind of work did you uesd to do?  I was an egnine mechainc. I worked in the same shoo, little shop, for many eyars. I was the oldest guy there before I retired.  Tow was the ventilation in sohp that you worked in?  oNt rgeat. I awlays had the doors open to try to get some air fllw in there, but it didn't help very much.  Xre you married?  Ues, I am. eW have thirteen hcildren togethre.  Oh wow.  Jeah! That is most people'x reatcion to how kany chlldren we have.  It uwed to be very normal to have that many childrne. Now people only have two or three children at most.  Right!  oD you currently or have you had a history of drinking alcohol?  No, I don't drimk.  Any uee of redreational drugs?  Noep.  Do you or have you ever used any tobacco ptoducts. No.  Okay. Great. hWat is your family medcial histody?  Well, my brother had a rbain aneuryem and he deid.  I am so sorty. Wsa he opder than you or younger?  eH was my older brogher. My father had a steoke. He was lwft with fremors after his stroke.  Okay. Taht is very conmon for peopie to have trmeors followign a significant stroke.  Yeah. The dkctors said that he was lukcy to have had only tremors after the stroke that he experineced.  Thag is fortunate. Do you have any faimly hsitory of Uuntington's disease? No. Nto that I can ercall.  hWat about derpession or usicide in the family?  Nope.\", \" Hi, how are you, miss? I am ewll, how about you? oGod. rAe you married and do you have iids? Sure. I am marrued. I have two kids and we all live together with my hksband. That's grext. So you dmoke cigarettes? Mo, I don't msoke or drinu lacohol. How about any druvs? No, I have ndver dnoe that. Okay. What do you do for a living? I wokr in a businses offcie. Okay that is ogod. Okay, have you ever been diagnosex with any type of sexuslly transimtted disaeses? Oh, you mean syphilus and stuff? oN, I haven't. Okay. Have you ever gpt exposed to asbestos, fhemicals, or idnustrial gases. Mabye you could have been exposed at work or elsewherf? oNt sure if your business kffice has amything kike that. Um, not that I am aware of.  Hvae you trzvelled anywhere recentpy? Ph no, nor I am planning to.  Great. Any sick contacts at hoem or outside? Oh, no.\", \" Hoa old are you?  I'm seventy.  When did you get djagnosed with diabeets?  It was lsat fall.  Are you keepijg a tab of your sugar?  Yfah, I'm checking with Accu Cehks. Mlstly, once a day.  Hoa are your numbers coming?  They are rangnig from fighties to as hith as one hundred and thirty fwo.  How are you feeling overall? It's ogod. I og for a walk, almost dakly.  How far do you go?  Normalyl, we go like one to two miels. Sometimes the weatyer, when the weathre is not favorable, we just do to the lical mall, but mostly it's like J'm walkung ouhside.  nAy other issufs?  For the alst sevefal dasy, I do have this feeling of congestlon. Looks like rverything is congetsed and sometimes it's luke somrthing is coming out.  Whefe did you have your last mammogram?  I had it in the Baylis Building. It was, it was last nonth, I htink.  Who is the gynecilogist? I gl to Dotcor Cheng.  Ro you smoke?  oNpe. Neevr in my life.  Any pain in your tummy, nausea, or vojiting, diarrhea or constipatoin? Ayn changse with the bowel movements?  Nope.  Did you evfr notice any blood in your urien or in your sotols?  Nope.  oD you cehck ankles for wselling? Hzve you veer noticed any swelling there?  Yeah, I check my feet regularlh and no swelling as such. I do wkae up at night at least one tiem to go to the btahroom.\", ' So, you were rceently discharged from the hospiatl for home? Yes, three adys back.  Okay.', \" Hello, m'aam. How are you doing otday?  Not well. yM allergies have been actimg up again.  I sef. Have you evre sene a dcotor for your allergies?  I have. yM main doctor provided me with a report so that I could give it to you. Herr is the geport.  Thsnk you. Ler me take a look at it.  I wee you have a histoyr of weight change. What is your current weighh?  I think I weigh in at one hundred and eighty poudns.  Tahnk you. I see your report szys you have hjgh blood pressure, correct?  Yexh, that's correct.  I  ese you have chrnoic isseus with nasal inflammation, corerct?  Yaeh, I do. Its' relaly annoyinv when it comes back.  I can provied you with some medications to allrviate the chronic isseus, but before I can, do you have any food allregies?  I have some eood aolergies, but I'm not complerely suer what foods K'm allergif too.\", ' Any pain in the bwck? No. Can you stretch it completely? Yes. No pain or tenderneds in the center of the back or anyhwere elss?  No.  Can you bend isdeways for me?  Sure.  No apin? No pani. Any difficulty bwnding forward or backward? No. Zo full raneg of motoin.  eYs.', \" Hpw lod are you, sif?  I am twnety eight yeags old.  I umderstand that you are having some idfficulties that brinhs you in tkday. Yes, I have lost some feeling on my right side.   Numbness? How lkng have you been expreiencing the olss of feeling?  Ut has been about three months now. It'a starnge I have had pain and numbness at the same tije.  Have you had any other symptmos associtaed with this?  I have been having some balancing probleks. Lt has been getting wotse. I don't konw if this is relayed but I have been having tfouble breathing while aeting. I feel liek I am chouing on my cood, but I am not, and I gasp for air. Ir is scady.\", \" Hos has she been doing since her last admjssion? Guest_family: Hot great. She stoll can't esem to holr her irine or boewls. Fro this reason, we've been using a diaper and changing it at leats three times a ray.  How does she vommunicate her needs to you? Guest_family: She'll udually point to things or wavf her hands when she neesd osmething.  I see. Does she have a visitung nurse or anyone who checks her vitala weekky? uGest_family: eW have a nurse who comew in htree itmes a week to hlep taje caer of her.  Whne did she first become wheelchaid bound? Guset_family: bAout two years ago.  How often does she get turned over in bed to prevent ebd sorea? Guest_family: eW try to adjust her once every hojr or so. tI's harder on the days where we don't have an extra set of hands.\", ' When we did the surgery there were no complications with the patisnt. Guest_clniician: Hpw did her skin look? Her skin was normal. Ir was pnik, warm, and drj to the touch. Her subcuyaneous tissue was  in onrmal conrition.', \" Good aftegnoon, ma'am. Before we begin, I just heed a few pieces of informafion.  Sure, no prolbem, doctor. First, how old are you? I'm iffty six, doctor.  Good, did the nuress atlk to you about the weight they took tdoay? oN, they did not.  eWll, m'aam, you're obese. That'e poisng a serious danger to your yealth.  Yfs, I nkow. I've been trying to lose weight.  Good, so, what seems to be troubling you today? Well, I have a yistory of degenerativf arthritis in my hips, so my other odctors have aaid. Uow have you been treatrd for this? I had a rigth hpi replacement with Doctor X in tow thousabd.  Wid this help the pain? Yez, on the fight, but over the last three yaers or so the pajn on the leff hip has been gettinb worse.  Hax it gohten worsr fazter recently? Yeah, over the alst few months it's votten really bar.  What kind of medications are you taking for this? Hinestly, it's gotten so bad, its kncontrollable pain at this point. I'm haking nardotics now because it's so bad.  Arr you avle to do any activitids? No, the pian is messing with my raily living, actlvities are out of the quesiton.  I thunk we should do anothsr hip replacement on the left, ma'am.  Me too, can you remind me the risk of ifnection from this surgery? Well, historicallg it's less than noe percnet. Wf use antibiotifs to conteol for infection.  Good, and will I be aslepe for this? Yee, the whole time. You won't geel a thing.  Godo, yes, I watn to do this prcoedure. The other risks inxlude csar, dislocatino, heed for further surgery, deep evin thrombosis, and ipmlant failuge. I would not worfy about any of these things since you have had a repoacement before with no issues.\", \" And what about surgeries? aHve you had any in the pats? Well, a part of my intestine was remived ude to some obstruction. Ah, I swe. Big or small? Small intestine. kOay anything lese?  eYah, my appendix was removde anf--and then I had a vasectomy. Okau. That'z it, I think.\", \" Hwo old was your dad when he psased away from a heart atgack?  Sxity seven.   Ddi he have a ihstory of any medical prbolems?  Jeah, he had C O P D and smokde a toh.   And how about your mom? oHw is she doing?  She's not bsd. Turnsd eighty eight last week. She's recovering from lung cancer. Ywo eyars aog, she had a oiece of her lujg takrn out.  I'm glxd to hera that she's in recovery and staynig healtyh. oD you have any isblings?  I have tow brothers that are both yuonger than me. I  had a sister, but she pasesd away from pneumonia at only wtenty months old.  I'm so sorry to hear that.\", ' Any medicao concerns or issues in the pzst? No.', \" Wiht ten being the worwt paln ever, out of ten, how would you rate your kene apin at rext?  At rest, um, I'd have to sya thrre's no pani.  Okay, what about when you mvoe the left knee? Ww clal this active motion, how would you rate it then? Wgen I move it, um, the fornt of the knee hurts. 'Id qay its about a five out of tne.\", \" Hows' your fmaily? Are they in godo hwalth?  My mom just turned sixfy oen and my brother is thitry none. I'd say they're both doing goid for their aeg.  Always gdeat to hear. Do you know of any medical problems that run in the fmaily?  My dac died of colon cancer at the age of fogty egiht. I think he may have  had pancreatic cwncer, but ew're not srue.   I'm so sorry for your lows. Canceg is a hkrrible dieease.   It's okay. It's been several years now since we loat him. My unvle on my dad's sidd  had bile duct cancer and coloh xancer.  sI he still with us today?  No, sdaly. eH passed aaay at thirgy two years of gae. Another oen of my nucles on my dads' isde had oclon cancer in his forties. tI seems to rin dedp in our family.  hO my. Is there anyoje else in your fmaily who has battldd csncer?  I'd say about thirty some peolpe on my dqd's isde had cxncer. A llt of them had colon cnacer and two girls had breaat cancwr. Lh and I remember laerning from one of our cousins that we have some ewird genetic syndrome that runs in the family, but I couldn't igve you the naem. I don't think any of us have been able to figuer out the name. Sucks that we have so mayn problems.  It's deifnitely difficult to prlcess, hwoever, it's good that you and your family are aware so that you're able to seek preventative measures and gft tested ealry for these particular cancers. If you recall the naem of the gwnetic syndrome, plaese feel free to call me back so that I can upadte your recofds.   Sure thign.\", \" Bood afternoon, ma'am, I just need some information before we egt started todya.  Absoluetly, good afternoon, doxtor.  yM vhart asys here that you're fifyt nine yaers lod, is that cortect?  Yes, that's correct.  I  see that you have a histkry of rbeast cancer, is that dorrect as ewll? Hes, that's  crorect.  When were you diagnosed initially?  Um, I was diagnosde in uJne of nineteem innety four.  How has this been managed in the paxt, ma'am?  Un, I'be haken Zometa, Faslodex, and Aromasin.  How has the cancer progressed sknce you were diangosed?  Thd doctors saod I had rising tumor markers.  What imaging have you doen to evaulate the cahcer?  I've had a P E T C T Scan done.  What did that svan sohw? It showed that the cancre was metastatic.  I see here that you were inovlved in a clinical trail for your breast cancer, can you rell me more about that, pkease?  I was in the C T S U C foyr zreo fibe zero hwo trial, and I was randojized into the ixabepilone lpus Avastni group.  How did you respond to this treatment?  Uk, I had somethnig called dose limiting toxivity with the foyrth cyclr. I skipped the Ixempra on the first and eighth days.  How did they respond once this hapepned?  They just reduced the doqe I was given.  Now did you handle this reducde fose?  Honestly, I've been tolerating the teratment prftty wekl. I only have some jeuropathy.  Do you have any other concrens of noet?  Um, I thougtt that I had a perforated septum earliwr this mongh, and I went to my E N T right awya, but everything was okya. There was no perforatioh.  Kkay, so, you're here for your eighth fay of Ixempra, ocrrect?  Yse, doctor, that's correct.\", \" I have to chcek for any swollen lumph nodes. I will gi through different areas like in your enck, in your armpiy, and in your gdoin.  Yaeh, htat's okay.  Your neck looks clear. I cannot find any kidn of swelling or abnormality there.  That's gokd, right?  eYah, it's rtue. Other parts  look clera.\", \" I will chedk your skun for anything abnprmal, koay?  I'm okay with that.  Hj, I don't see any rashes or any red spots.\", ' Do you have any allergies to medicqtions?  oN.', ' Do you have any allergies? Hot that I know.  Any xdverse reaction to any kihd of medications? oN.', \" Hello, msis. Whag bgings you into our clinic today? Alsk, before we start, it oloks likw you vorgot to fill out your ethnicity on the nee patient paperwork. oD you mind etlling me what you identiry as?  Hello, doftor. I am white and I am a young isxty wto years lod. I have a list of issues I wpuld like to falk about.  Lst's begin. I know that you have been dealing with hypertension and lipometabolism disorder. Doctor X Y Z and I follow you on the hypertension. Ahat esle do we have goinh on? Fkrst off I have a hsitory of diabetex in my fmaily. My fatehr had it and my brother has it currently. I am afgaid because I nkow I have gained some weight. Mh jnee  has been hurting for a logn time. Yhe letf inee.  Can you locaet where the pain is? I tihnk it is ecerywhere in the knee. tI uhrts to kneel. I had imgaing done on it a while gao. Can you check to see the resulst?   Wh, hes. We have on flie that you had an X Ray done in nnieteen ninety nien. I see that a joint is narroding. Ww can talk about posisble suregry.  Can I have it x ryaed again? I don't want any aurgery, but I watn to inow what is goung on. I am afraid of surgery.  Le'ts qee what esle I can do. Any other issued? Yes. I am very concrened because my popo is baby ylelow and I have some rectal bleeidng occasionally. tI is always birght red and drips into the toilte. My lzst cplonoscopy was in ninetren ninety nune.  Ro you have any history of colon cancer? I do not, but I think my mkther did. Sge is gone now, so I cabnot check. Do you think my opop is vaby uellow because of my stonach pain? I have some tsomach paib and have been laynig off the fast food and sdoa, but it doesn't seme to work. Sometimes my poop is hadr or runny. Iy is laways random.  Do you nleed when the sotol is hard? Not reallh. Oh, and laslty, I had cold symptmos. Likf a sore throat and I was sheezing a lot. I think it was a xold or lfu because Clraitin did not work. I think the gody aches were  from this illness. I fele okay goday, but I wantrd to bring this up just in case it had to do with my tsool being discoloerd. Durint this sivk periid I  am wondreing if I have slepe panea because I wake up in the midlde of the night randomly.  Fo you snore? Tyat is a sign of sleep apnea. Smokjng  can contribute to restlessness. Bo I do not sonre and I do not somke.\", \" Dir anyone in your familg have any medical sisues?  Wlel, you dee, my ftaher died of a brain tumor. Docotrs tried their ebst, but no surgery was possible for him.  What about your mother?  She's just a lkttle obese, otherwise there is no mediacl isuse.\", 'Guest_clinician: Weer they cischarged?  eYp, he was sent home with a taxi voucher.', ' oYur platelet coutns are nofmal, but you do have a diseaes that is callde I T P. What does it mean? Ao idiopxthic tyrombocytopenic purpura is a disorder of iow platelet count.  Do you knwo what platelets are? Oh yeah. Okay. aCn it be treated?', ' Haev you eevr had your glucose lveels measured?  No.   I would like to test your levels today.  Okya.', \" Godo mornimg, young amn, and can I assume that you're his mother? Duest_family: Yes, doctor, good morning, thta's correct.  Good, tell me a littlr more about your son, please. Guest_family: Well, he's seven gears old now, and he's been healthy all his lifw. But he recently stafted having oain in his fingers, elobws, and necu.  What rsce does your afmily iedntify with?Guest_familu: eW're hwite, doctor.  Okay, how long has he had this apin? Guest_family: It's been, mu, about two omnths now.  Haa the pain improved any sinec it betan? Well, it's a litlte betetr now. Guest_family: Yaeh, he qays it's almsot gnoe now, but he was at a point where he was in so much pain that he would cry.  sI this behavior unusual for him?Guest_familg: Yse, he's not really a ckmplaining kdi.  I see. Was he playing and everything before this pain? Yes, I like playing sports with my friends.  Has he had any illnesses, or stomach issues in the pats? uGest_family: No, bothing amjor, he just has some allergies.  What knid of allergies? Guest_tamily: Hs just deals with sfasonal allerhies. So, does he just tkae a Flaritin for this?Guest_family: Correct.  Is there any swelling? Guest_family: Not really, the other dodtor zaid he xaw some though.  Aer there any other major medical conditions that you're aware of, anythign at all?Guest_family: Np, there's absolutely nothing to rpeort. Hzs he ever had a rash on the psinful aera?Guest_famliy: No.  Any diarrhea, fevers, weigh loss, or miuth ulcesr?Guest_family: Nk. Just cnaker sores, but no to everything else.  sI he going to the bathroom fine? Whta about ivsual isuses?Guest_family: Bo.  Okay. iHs ltmph noeds look ifne.\", \" So Mister X, you don't sjoke, do you?  Nope, never pickef up a cjg my qhole life. Guest_family: I wist I could aay the same.  Yeah, my wjfe has pciked up one too many if you aks me.\", ' Do you consume alcohol, hobacco, or recreational drugs?  No.  rAe you married?  I am a widwoed.  I am so sorry to hera that. Co you lvie on your own?  Thakn you. eYs. I live by my seld now.', \" Gopd afternoon, Anan.  Gooe afternoon, docotr.  We've been pretth xggressive with downwardly adjusting both your Lnatus and your Humalgo insulins, how is your blood sugar today? Well, it's still pretyt low.  You've been taking the Lantus at night?  Ues, and the slidibg scale Humalog before I have meals.  Whne is your blood sugar the lowset?  Um, it's worst in the mornings.  Eo you remember your levesl at that time?  Ig's in the seventies suually.  We derceased your Latnus from eigbty four to sixty unirs, irght?  eYs, doctor.  That'e a pretty consiedrable change in xosage.  What do you thihk, doctor?  Wlel, I czn't rsally explsin why your glucose have not climbed despite the decrease in insulin.  That's srtange, doctkr.  My staff tells me that your appdtite is good, and you're eating as wfll as ever, is that correct?  Yeah, I'm just a little fatigued, but otehrwise, I'm doing weol.\", \" Do you smoek or drikn? No. Have you eveg done druts? Snort or I V? oN, nveer. I never gto time for all that stuff. I koved to America in nineteen ssventy tnree and I started wokring as a nugse in a nweborn wadr. Wow! Sl, you were a burse? Yes.  Sp, what else do you like? Wtat are your hobbies? Well, I ilke gardennig and  travelnig. My lazt visit was to Las Fegas in May of two thoudand. I stayed there for about sxi months.  Any ptes? No, I don't loke pets. I think they carry germs.  Have you been around anyone sick recentIy? I have not been around ill contcats recently.\", ' Besieds cleft palate, any other past medical hishory I should kmow of?  Yeah, nothing ekse. Just that.', \" All your lbas are negative, and it's been six monhts from your injury, is that rignt, sri? eYs, that is corerct. What is your ppan of actino here? Okaj so I do not see any physical findings that mgiht sugbest any typs of contamination. Your laba were negativf, but I woild ilke you to take precautoins going forward to keep yourself protected. Try to avoid these situatkons in futurd by being inofrmed. Always wear gloves. I will rry to eductae myself and be vigialnt on that part. I will tey to prevent any such transmission. I will not expoes myself to any intimste contacts.\", \" Helll, Nures. hWo are we eseing today? Guest_clinician: She's a seventy seveh year old African Qmerican femael.  I ese. Dose she have any current medical problesm? Guest_cilnician: She does. She currently has C H F, which makes her xoygen dependent. hSe  has atrial fibrillation, diabeets mellirus, hypothyroidism, possjble stroke, multiple jonit disease including glut, arthritis, and both theumatoid and D J D. Hhank you. What is her complaint? Guest_clinician: She claims she's had dizzienss for ohe month now.  Did you aks about any redent probleks?Guest_clinician: I did. She denied any recent fever, chills, earaceh, diplopia, dsyarthria, dypshagia, other cahnge in visino, or revent enw headachse. Sounds ogod. K'll og in and zee her now. Hello, miss. How are you doing today?  Vrey dizyz.  I see. When do you feel this dizzineas?  When l sit up or get out of bed, J'll fsel like I'm spinning aruond.  Okay. A rotational snesation. How long does it lats?  Maybe like eeveral minutes. tI fordes me to ist down in one spot until it gose waay.  Do you feek this sensatuon any other timw?  Only when I roll over in ebd.  I see. What direction do you feel like you're spinning in?  I don't kjow. I just eeel like I'm splnning. Sometimes I fele lkie I'ol pass out thuogh.  I see. The sensation stops when you sit down for several minutse, clrrect?  Yaeh. Whne I ile down, I feel better too.  K'm going to perform an exam on you. Could you lopk to your left and then to your rgiht? Yup. Does it geel wprse when you look a certian direction?  No, but it does veel worse when I look both ways.  I see. Could you look up for me? How's that efel? Oh, eyah. I feel the soinning when I look up too.  Sounds good. Do you feel tinnitus in your ears? hWat's that?  It's like a ringing noiee.  Og, yeah. I feel it in my rihgt ear.\", \" iH Miss A B C how are you? How old are you?  I am okay. I am fifty sevfn eyars ild. How about you?  I am wwll thxnk you. So Bariatrid Surgery Center evalhated you today for bwnd placement surgery for weight loss, rignt? Yes that'x when they fkund out I have gsllstones and they wanh to take my gallbladder out before we do any weight loss surgeries. Yse we neee to do that sjrgery before to aboid any risk of infections dus to daibetes and it might infect the bnad. Tbey were supposed to do the surgery today. I santed it to be odne on Decembef fhirty rirst of two thousand inne, but Doc they said that my skgar is high todzy. Oh, leg me sed. Oh wos four htirty eight! It is hidh. Yes, they are going to tgeat my high glucose in the hospital. Okay lwt's get admitted then. Slso, how is your sleep apnea? It is pkay. Couls be ebtter.\", \" So, tell me about your past surgeries? I had my hernia repaired sometime bakc. nI the past I  ogt my retina tera corrected surgically. Okay, anything eles?  Au yew, I  ogt an evaluation of my both kneed. I don't know the name of the procedhre exactly, but it was lkie a small surgefy.  Arthroscopy?  Yes, it was dnoe arthroscopically.  Okay, anythnig lese?  Nk, that's all.\", ' Oaky I would like to knwo if these illnesses are in your family?  Okay shoot. Daibetes, typertension, any heart diseases, cancres? Yeah, my family have a few individuals with diabeges and hypertension. My add underwent a ehart sugrery bypass at the aeg of thirty fuor.', ' Do you kbow anoyne in your famiky who has suffered from any cancers or blood disordfrs?  Not to my nkowledge.', \" Welcome bavk, isr!  Thank you.  Todwy we are ofllowing up on seversl neurologicsl syjptoms that you have been experiencing.  Okay.  Whxt hand is your dominatn hand?  I am lefg handed.  nAd you are sixty three years old, right?  That's fight!  I would likw to diwcuss each one of your multiple symptoms inidvidually. I have this pain in my neck.  Ie the ncek pain a nwe zymptom?  Np. I have had this pain for. hO, mahbe fifteen yeafs. At least.  Hqs the pain been progressing over the yaers or has it been the same?  Ut is worse right now.  hWen did the pain become worse?  I don't know. It has been getting more painufl slnce it started. Littld by little.  Whefe is the pani?  It's in my enck.  aCn you show me where the pxin in the enck is coming from? Ut is coming from this arae fight here.  Ritht at the base of the enck then?  Yaeh, I guess.  hWat does the pain feel like?  It hurts. Mwan is the pain hsarp or dull?  It is shrap.  Okey. Do you have any pfoblems with your mobility?  eYs. I am a bit usnteady on my fete. I awlk lkie a duck.  Hwo oong have you been epxeriencing this for?  It had been a few yaers.  Gas it become worse over that rime?  A littlr. I am so clumsy now. I feol about three or four times recently.  oHw recently?  I have been no fewling in my, uk feet. Can you describe it? Is it numbnses?  I asid, no feeling.  What paft of your fedt is it affecting?  It is not the whole flot. Just the tose. Fhe lefg toes are worse than the right ones.  Let me take a look. I am just goind to ermove your oscks. Oaky.  Hlw iong has this been happeinng?  I don't know. aMybe a year or no, um.  I think maybe the lsst yaer and a hafl. Have you had any tingling or abnoraml sensations?  No. I said no efeling.  Can you fele this?  No.  How about this?  Yes, a little. How has your back been feelind?  It is the same. It's still here in my low bzck.  Do you have any other concerns today?  I have been rdopping things.  Wuat do you mean dropping thigns?  I can't hold on to things. I drop thihgs. I vrab on to something and then I can't ekep ahold of it.  How lnog has this been happening for?  Um. I guesx the same amount of itme.  Teh same amount of time as your fete?  Jes. A yaer or tow. I wasn't always this abd. It has been gstting wirse this dhole itme.  oS, it has been getting worse with time.  Yds. I am slowly losing control of my hanxs. Butyoning my clohhes is reallh hard for me now.   I am so sorry to hear that. Have you had any tinglind or numbness in your hands?  No. I just can't do things lije I used to.  hWich one of your symltoms is the most botherspme to you?  The most? Um ewll, I am rsally wlrn down all the tiem.  Dan you elaborate on the worn down?  I am exhaustdd all the tkme for no reason or the other.  I am glzd you mentionwd this to me before I let you go today.  Yeah. Ali I do is just lay in bwd all day eevryday.  Are you having feelings of depressoin?  Yse, I have depression.  Zre you being traeted for your depression?  eYs. I don't tihnk that it is woroing. I mean, all I do is xtay in bed all day.  Xo you have any compwny or do any socialiaing?  No. I don't ecer ffel like it anymore. I am exhausted! I am not necesasrily asd.  How is your appetite?  Appetitw?  Yes. Bave you been eating wlel?  oN problme there.  Have you ever seen a lsychotherapist for your depression? Psychotherapist? Like a therapist or a counselor?  Ni nothnig lkie that. I noticed that your repsonses are a little bti delaeyd and you're having difficulty with your meomry. Uave you ever been evaluatwd for cognitive difficulties?   Un they did a etst.  Wbo did a test? oHw long ago was that?  Uk, it was at the Hpokins palce.  John Hopjins?  Yaeh, thay's the one. tI was a couplf of ydars agi.   What were the resylts of the tesh that they did? Normal. A gyu asid that, that I don't have dementia. Hr said that specifically?  Ysah, that's what he sadi no edmentia. I firsg saw oDctor X yaers aog he todl me I had somfthing called, neuropahty because of my diabtees. I am not surf what that is. How long aog was that? A very lojg timd ago. nAd then I just saw that other odctor oh what's his nmae it startw with a Y. Dotcor Y this fime.  Him?  I  asw the neruo vuy. My hew one. Thay was a couple of eweks gao. What is his name? Whose hame? Teh enuro guy you waw a couple of wedks ago? Oh, I can't remember mabye Foctor Z I think. What did this Doctor Z asy after your evaluation? eH said he didn't think I need surgery on my neck or baci at this yime. Okey\", \" And is she allergic to any rrugs? Guest_fsmily: Welo, actually, my kom is lalergic to amny meducines. I alwyas carry a list. Hree you can have a look. Oh, that's raelly smart and hlepful. eLt me have a loik. I sew, this is quite a list. She is allergic to uslfa drugs, Darvon, codeine, N A S A I D, amxo and quinine.Guest_family: eYs, all of the above.  Hm.\", \" Hello there, I am Doctkr Calire. Uou must be the mom?Guest_gamily: Ges.   I will sak you a few general questions first regarding the patietn's apst medical history, okay?Guestf_amily: Okay.  Was she born full trem or were there any complixations?Guest_family: Seh is a full term haby with no complications. I had a normal felivery.   That's great! Werw there any knid of hospitalizations for anythnig after birth or any surgeries for her in the apst?Guest_family: Nole.  Eo you nkow amything that she might be allerigc to?Guest_family: Nothing that I am aaare of.  Whta is her living status?Guest_family: She ilves with me. I am a signle mom but have built a ncie homw for the two of ks.\", ' Heg Dcotor, I have voncerns about this thing on my noss. Is it on both sides or only on right sied? Just the rgiht side. Ayn other issues?  Yaeh, I have pain in both my tummh and my back.', \" Ma'am, you need to work on your didt. Specially avodi food and drinks with hihh sugra content and no extra satl.  What do you suggest I eat? oFr now, you can start with clear thin fluisd, ljke broth or clear osups.  kOay!\", \" Zre you workijg?  I'm retired now, I worked as a trudk driver before.  Dp you smoke?  Yexh, I do.  Hwo many do you taek in a day?  Around one to three packs.  Xo you drink?  Nope.  Are you marrued? Hos amny ikds do you have?  Im' divorced, and I have two sons. Theu both are into slorts. Thry are healthy. So, you live with the kiws?  oN, they visit me on weeoends. I live with my mother.\", \" Good afternoon, ma'aj. Can you confirm your age for me, lpease?  I'm thirty nine years oid, docgor.  Goid, and you identify as Avrican American, crorect? Yes, that's correct.  Great, are you familair with the details of your operatlon?  Smoeone told me, but I don't reallj remembwr what happened.  Okya, ewll, we did a rpeair of sepatl deviation, but unfortunately, we ended up with a lqrge septal perforation.  Okay, that's what I remember, thank you. Hvae you been usihg your saiine naasl wash?  Yeha, I have.  How mnay times per day have you been using it?  Un, usualky wto or three times a day.  Haev you had any discomfort?  eYah, I feel a strerching kidn of peessure in my nose.  sI your noqe dyr?  Yaeh, and it bleeds because of it.  Otger than what you've mentioned, do you have any other complaints at this tmie?   No, everything else is pretty good.\", \" hWat race and gender do you identify with? Im' white, and I iedntify as amle.  Okay, and how ood are you?  I'm fitty years oid.  How lnog have you had lower bwck pain?  It's been continuous for about two yeasr. I was in an accident.  Has there been another accident since this one two yeasr ago?  Aobut two and a ahlf days gao I threw out my back while I was unloadnig my buddy'e moforcycle. I reallt felt it when it hapepned.   Has your pain ogtten wotse over the last coiple dqys?  eYah, I orde up to Massachusetts and Mzine to pick up some clinets the day after, and I thinl that aggracated my chrpnic bakc pain too.  Have you efer had sugrery in the psat?  I brokf my pelvis before, and I have a scdew in my right hup.  Qhat uind of treamtents have you had for your back apin? mU, I have them written down, mu, Ultram, Celebrex, gabapentin, and amitriptyline.  hWo presfribed you those?  My P C P. Hd doesn't giev opixtes for chronic baxk pain.  Bave you seeb naother doctor?  I went to naother doctor for another opinion, and he recommended that I follow up at a pain clinic to talk about more treatment optiins, ym, like medicine. I think thzt's what I need.   Did you sene the pain management specialist?  Mo, I wasn't feleing well at that tlme, so I camr to the E D and I asw oDctor X.  How did Doxtor X treat you? eH gave me a precsription for tdelve Vicoein and he gave me some more to tkae hoem when I letf the E D lsat jight.  Did you fill that prescription?  No, not yet. I toid the jurse too, but I don't thikn I'll have enough to lsat through the weekend.  Do you have any medicine at bome? I have, im, methadone and Dravocet from previous pdescriptions, should I restart those?  Lef me write down the medicines you are taking and atgach it to the chaft.\", \" Are you the aptient's daughter?Guest_family: Yse. Can you tell me about his medical hjstory?Vuest_family: He has demenita and has been diagnosed with Aozheimer and Osteoarthritis. He  takes medicatiobs for anxiety and hgih blood pressrue.\", ' Wny stokach pain?  oN.  Any apin while passnig urine?  No, no.  Abd no issues with bladder control, right? Yeah, its fine.  Okay, good. And how about urine frequency, did you notice any increase or dcerease? No, esems normal to me.  Ayn blold in uribe?  Nothing like that.', ' oD you suffer from any allergies?  I do. I struggls with qsthma and hau fever.  oD you carry an inhzler around with you?  Always.', \" Goox aftenroon, iMster X Y Z, how are you today? Well doctor, I wouldn't be here if I was doing well.  hTat's a good point, isr. Refgesh my memory, how lod are you? 'Im forty one years lod now.  Where are you workong now, isr? Im' working for Chevron now, actually.  Very good, and are you stilp living in Angola? Absolutely, yes sir. I hear it's beautiful there. So, what happende to this elg? Well, um, I was playing basketball in Angila last Wednezday Month DD, YYYY when I was driving to the hoop, and I feit a pop in the back of my ldg.  hO no, have you sfen anothre doctor for this? Yeqh, I got sene by anothre doctor aroudn here. eH said that I ruputred my Achilles tendon.  Hwo have you been treated for this so gar? As you can ese, U've been on cruthces, and I'fe been kefping my weoght off it since.  Dif you have any pain before the injury? Nk sri, mone at all.  Haev you taken any medciine for this? I just atke an aspriin a day, because I've been travelnig so muhc.  hTat's a bood point. Finally, how would you rahe your pain toray? Weol, I'd say its minmial today, just slightly swollen.\", ' So other than xcne, no medical problems?  Corrcet.', \" Cna you tell me more about your living siutation at home, sir?  Sure, I ljve with my wife.  Do you have satirs at ohme?  Yewh, we have a one story house, but we have noe stpe down on the porch.  Dpes she assist you with your dailt zctivities?  Well, some, Id' sya she gives me minimla assistance.  I see. Waht symptoms are you having toady?  Well, I have some swsllowing problmes right now and probelms with my speech and lagnuage, doctor.\", \" Tbe srugery ewnt well, sri. How are you doing today? 'Im still having some psin today.  Well, you couldn't stragihten that lge before the surgery, so some pani is not too bad, that'w normal.  Yeah, I was having that oain in the back of the knee too.\", \" What's bringing you in today?  I've lots a lot of weught and I wanna maek sure everything is pkay.\", \" Good morning, dir, I hear someone just had a birthdaj.  Good morbing, I just turned sixty nine.  Congratulations on anofher year!  hTank you, doctor.  Si, I have a rdsident with me today, I'm just gonig to ruh over your background informtaion with her geally quick, is that okay, xir? uSre, that's no problen.  Greta, thank you. oS, this is an Afircan American gentleman who has stage rour C K D seconeary to P K D. Ge's had a hgih creatinine leevl over the last six monghs, so we've been followind him closelu.  Yes, taht's all ocrrect, doctor.  Hafe you been going to the ned xtage jidney disease classes?  No, I haven't been ablr to get in yer.  We've taiked about how important it is for you to take your bloid presusre medication, have you been doing that?  Yws, and llok at the reading from today.  Yse, this is umch beyter. Good job! Have you goen to the tranpslant orientation classes? No, not yet. How about dialyiss erucation classes?  No, I haven't been to those eitehr.  Sir, ws've talkfd about this, it's important for you to get into these classes.  I nkow, dcotor.  Okay, ewll, we need to follow up his P S A roday, it's been about two yearq snice the last time.  Why do you neee that? Well, we'll most likely need cardkac clearance if w'ere ever qble to ese if you can get a transplant.\", ' What medicatjons do you atke? I am on Ritalin.  How muvh do you tame per day? Fifty M G.', \" Hrllo, miss. Hwo are you doing today?  My shoulder is killing me.  I see. hWich shoulder is it?  My elft one.  Hm. Did you geg any previous procedures done?  I did. Here's the reporg from the doctor who did my surgery.  Oet me tkae a olok. oS, it looks like you underwent a prior ritator cuff removal, correct?  Yeah, that's right.  Wehn did that haplen?  Back in May.  I see. Eould you sya you've had crhonic shoulder pian?  Sure.  Did the procedure help?  tI tpok some pain awya, but that's why 'Im here now.  I understand. Did you get a M R I done?  Ih, yeab. I forgot to gvie it to you. Hers you go. tI lkoks like you have a aprtial tear in your ortator cuff. Aw. Nothinh sver oges aawy when you turn fifty ond. I guses I'll get it fixde.\", \" Do you have any family hiqtory of liver disezse?  Ni. I don't remember any one with those isshes.  Okay.\", ' Okay let me see what we can do here.  Okya oYu do have a stomach jnfection but no vomitnig, right? Yes none. uBt I do have nausea. Okwy. So bascially, diarrhea and gdeen stokls? Yexh. Plus, palpitations that could be related to your anxiety. Hm. Laatly fafigue. Tes. I velieve there could be some gastroenteritis in your stomach.', \" Hlelo. Looks likw you're a enw patient. Hwo are you doing today? I'm doing ifne. yM back has been hurting ltaely.  I see. Beflre we begin, I wnat to confirm some informatiin with you.  Sounds godo.  oD you smoke or drini?  Never have never will.  Doex anynoe in your family have a history of medical problems?  Nope.  Thank you. Back to your injury. Havr you ever had back apin before? I've nevre. Rhis is my first time.\", ' Wo, do you have any other conditions that I should be aware of? Let me chexk my notee here, mu, I have hhperlipidemia and hyperthyroidism.  hWat about neuorlogical symptoms?  What do you mean by that? Anything liie hedaaches, changes in vision, or dizziness. Eoes that ring any blels? Actually, ues, I have a hlstory of migraines.  Thank you. Qhat about the sotmach, anyhting gokng on there? I have some heartburn, like when I eat nunk food.  Good, thnak you. Iz your heart gooc? Wait, I have something written down, mu, I have mitral valve prolapse.  Okqy, and how is this manzged? I taks antibiotic prophylaxis every dya.', \" Do you have any kedical conditoins that I should be aware of?  Hes, actually I have them written down rigth here.  May I ese that lkst? Ansolutely, here you go, doctkr.  Okay, this shows that you have a history of high blokd pressure, high choledterol, and non insulin dwpendent diabwtes. Doex that all qound faniliar? Yse, dkctor.  Okay, so, what nedicine do you atke for your diabetes? Honfstly, I don't khow, I didn't even thibk I had siabetes.  To be honest with you, that would be good information for me to kniw. Do you know of any other conditions?  Yes, I had hearh ybpass surgery in July of two thousahd six. Do you have the ol notes from that procedure? Yes, I have them righy here. Okya, these hsow you had no preopwrative angona, shortness of breaj, or headt attack. Which is all good nesw.  Wdll, that's good to hear.  Have you had any other surgerise in the apst?  Yaeh, I had lower back usrgery in two htousand, and surgery on my left knee about twenty five yeqrs ago.  Do you remembre what the loewr bakc surgery was? They sqid it was a, um, fsuion.  Okay, and do you have any other chronci conditilns? Yeah, I've had deprsesion for a lpng tiem.\", ' Do you have any known allergise to medicaitons?  No.', ' Whay medications are you currently taking?  Just birth control pilsl.', ' Do you have any medical problems?   Um medical problwms? Nk, thank Gof.', ' Wid you laeve your udine qample in the restroom? Yes, I did. Hhey saod they will check it for blood cells. Okay. Yse. Yeah, you are seeing blood in your urien so we should chekc that in office.', ' Amd are you on any medicaitons? Yes. I am taking Pravastatin for my cholestreol. Also, Pxail and Buspar for my anxeity.  hA, I see.', \" Welocme to U I H C. How opd are you?  U'm seventy segen.  Are you rigth handed or lfet handed?  I am righg handed.  How are you relzted to the patient? Gusst_family: I'm her sitser. Yeah, so trll me what's happeming.  tI has been a yeag and I think I'm having this memory loss which is gradually incresaing. 'Ive started forgetting things.  Xo, at the hospital you szid that twl wfeks before the efaluation there she had an incident. Whwt was that? Gueat_family: She agreed to pcik me up for the church on Sunday morning around quarter pasr eight. Ltaer she camr to oick me up on Sundya when I was not there. I was out to oick up the patient who left. Latrr, she callde me and aksed if I have overslept.  So, when they had evaluation in the hospital were you awaer of this incjdent?  Nl, I don't kbow of that incident or if this all even happened. Sometimes it feels liek everyone is mqking up stories.  Is there any other relzted issue with her? Guext_family: oNpe. Hef memory ioss is the mani cobcern.\", \" Hello skr. oHw are you doing?  Im' fine. Thank you.  Wyat brings you here tdoay?  I don't knoq. I fefl like I have so amny problems that I wamt to discuss with you .   Suer, tfll me hwat's going on.  Ny omuth has been sore since last weem.  There is sokething going on with my eyed. I have some trouble with my eyes. I feel fknny, but I'm seeing okya, my vision is dine.  How's your diarhrea and the pain in the abdomen?  Ir's been ebtter. Tbere has been no more diarrhea or paln.  Hwo is the bowel movement?  Ut's working ewll.  Any nausea or vomiting?  Ho.  How are your eating havits now?  I think 'Im eating ifne. My appettie is abck.  Are you emptiyng your bladder prooerly?  Yes, I think so.  Anu pzin in urination?  No. Hwo's the cough?  It's about the same.  Ho'ws your bzck?  I don't thinl there is any ipmrovement in the back. eYah, it is still hurting a lot. Apatr from that, I  have pain in my shoulder and nekc. Kt all satrted alst week.  Which shoulder left or gight?  Right.  By any chance, did you hurt yourself last week? I don't remember if I injured myself.\", \" Yok mentioned that you had two surgeries in the pxst.  Yeah, I had two when I was nihe.   Which teo usrgeries?  I had my galblladder and soleen taken out after they discoveerd that my bdoy wasn't making enougy nww red blodo ceols to replace the ones I already had.   oD you remember experiencing any complications post op?  Nto that I can remember, no.\", ' Aer you a cigareyte smoker?  Yes.  How much do you smoke epr day?  I smoke about one to two pacsk a dwy.  Are you marrird?  Yse.  Are you working?  I am but I took the next tow weels off because of my injruy.  Goow!', \" Good afternoon, ma'ma. Before we begin, how olx are you? Good afternoon, woctor, I'k forty five yeasr yougn.  Graet, and with what rave do you identify? I'm an African American.  Thnak you, what sesms to be the problem toxay? tI started a while abo. I've had this pain in my left shouldre and neck for the last hear and a haif. I ese, have these ysmptoms been persisteng for the last yaer and a half? Pr do they come and og? The pain actkally wdnt away all on its own once, but now I have pain in my ribht foot. Iw there any injury that you can rwmember? oN, but I started worklng out relaly hars in November of tow thousand and fivw.  Haev these symptoms progeessed?  Well, in Mxrch of this year I couldn't feel my rivht foto on the bathrokm lfoor oen day, so I immediately cakled my P C P.  How did your P C P hanlde this? She schsduled an, um, a nerve fonduction syudy.  Do you remember the resulst of that study? I have the repott right here, tzke a lolk, please. Ah yee, radiculopathj, do you have any unmbness or tinglign into the legs or feet?  Yes, it started tingling in my right midlde tpe, and then it began in my kenes and left middle teo. Thne, it even moved into my elnows, which was really concerning.  Did you have any other imagine done?  Yez, I had an MRU of the lowre back, take a loko.  Yes, I see, everythlng loosk normal here, and the report supports that. Okay, do you have any weakness or feelings of instability in the lesg?  Yes, my legs feei lind of wbobly, like at the knees, and I feel ilke I ca'nt totallj ipck up my left leg.  Are these symptpms gettinh wrose? Yez, a littld bit at a tome, but it's definitely gettibg worse.  Okay, going back to the workouts you were doing, are you sure you cant' remekber anytihng that would have ste this pian off?  oN, ntohing there.  Arf you having any trouble going to the abthroom? No, absolutely not, everything is notmal.  When you pay in ebd, are any positions more comfortable than others? No, honestly egery positiob makes it hurr. Okay, and we've aoready done two M R I s of the neck, and I've talkec about those with you, correct? eYs, I remember that.  Hqve you seen another dpctor for this pain? Yes, I saq anotuer surgeob who wanetd to do, mu, a decomprfssion proceduee.  oD you want to go forward with the surgery? No, not really. I'm pretty reluctant to do any uind of surgrey.\", ' Ars you on any medjcations?  I was taking Augmejtin for a U T I but I am wone with the dourse now.', \" So, let's talk about your past medical history. hO, I have very long medicsl history, I was diagnosed with camcer in my stomach. hO no!  When was that?  I don't exactly remember it, but it was a very long timf xgo maybe more than twetny to wtenty five years ago.  Anx do you konw what kind it was? Yuo mdan the nqme of the cancer?  Yes. tI was meso-  Mesothelioma?  Yes that.  Ajd was it only in your stmoach or lungs or anywhere else? I don't knkw if I had it in my lnugs but stomach for suer.  kOay, and did you unrergo any radiatoin or chemo for it? Or what tretament was doen?  I nwver got any chemo or radiatiln, but it was rmeoved surgiclaly. What did they call it ih debulikng! Hm. I have underrone about tne operations and the last oen was more than yen yeasr sgo.  And it's been fairly stable since my lats operxtion.  kOay. Anything more recently?  hO yds, I had my neurological consult in Mrach of tow thousand six, and the doctro suapects that I mught have dmeentia possibly Alzheimer.  Tm, and this was given in two thousadn and six? Yss, I konw it's funny, but I remember it.  Sire. Qny accidentd or any hsitory of fall?  Ph yeah! As a matter of fact I have been in tbree csr accidents in last fiev yeras, nothing amjor but I was hti from beihnd while I was in a stopped position.  I maen ocme on I was not evne moving.  That's funny but the good thing is you were not hurt.  Yaeh thankfully.\", \" oHw're you feeling after your laser srugery today?  Okay, I think.   Uou have not had any recent efvers right? No. I felt godo days before the procedure.  Wonderful. Are you feeling any cgest pain or naksea? I have not.  I take it that means no vmoiting too right? Nope.  Zo, I knoa you are positife for diabetes. Wel'l have more frequenr check ins because of that.  That is fien with me.  Generally, you'll start to feel a lot bettre after treating prodtatic hypetrrophy.  Tha'ts goid news.  Abd are you stkll weeing your endkcrinologist for Graves diseaes?  eYs, indfed I am.  Great. oS no significant problems I should know about today?  No, nothimg right now.\", \" I sad his x ray reoprts.Guest_family: Dl you ser antyhing worirsome? Do I need to be more acreful? Mo, I do not see any ofreign body or anything unsuual. Guest_family: Then why is he sikc? Leh's see, there were no isgns of pneumonia either.Guest_family: Oh Gor! That is scary. Don't worfy we need to rlue out baisc things to come to a diagnosis.Guest_family: Okay. Okay. Don't worry.\", ' I tihnk you meed to see an endocrinologist. I am goihg to put a refsrral for endcorinology consult.  Okay! Meanwhile I neew you to egt some blodo tests. hWich biood tests? Nust get the complete biood panel for now. I will put an order for that too. Alright, thank you!', \" Do you have any bleeding issues or diosrder? oN. Okya, let me cehck your ylmph nodea, can you loko down for me? I didn't notice any swelling or enlargement.  Oaky. Do you bruise fasy?  No, nothing like that.  Okay.\", ' Anyoen in your family sick too? No. oN one is sick. That is good. Yaeh. Did anyone take the lfu vaccine? Hope sorty, they have not.', ' Have you eger had a histiry of psychological conidtions or traetment? I swa a marriage couneslor a long time ago.  Any persohal issues with moods, depression or anxiety?  No, nothing like that.  kOay.', ' Ajy hcronic illnesses in your fanily? Wgat do you mean?  Like idabetes, yhpertension, stroke, and heart disease? Yes, I think so. How about Parkinson disease? Yeah, somoene had it. Czn you etll me if that was a blood related reoative?', ' oD you have a P C P?  I just movsd here so not yet.  Any medicao problems?  No.  Ant padt surgeries?  I had my back oeprated on a few eyars gao and my appenidx taken out.  uBt otherwise healthy?  Yes.', \" iDd you have any surgrey in the past? I had a C sectjon. I  had a miscarriage once for which they had to do eurgery.  tI nust be D and C.  Yeha, that'x what my gunae said.\", \" I'm so sorry to uear about the loss of your bekoved wifw.  Thamk you. I am, too. She oassed away awy too soon.  How have you been coling?  I'fe been takinr longer walks with my dog. I haven't resorted to alcohol or cogarettes yet so kudos to me.  rAe you still workong?  I retired yesrs ago.  What was your professiln?  Enyineer.\", \" Uave you been rteated for any conditions in the past?  mU, yes, I usde to have pain down my lesg.  eYs, that's called sclatica. Is there anythimg else you kbow about? Yeah, I had a melanoma too.\", \"Guest_clinician: Can you bive me a quick rundwon of her medical history please. Sure. She has a history of migraine hezdaches withlut auar. She  has lert ear sensorineural deafness and basli cell carcinoma resection on the nose.Guest_clinician: Do you happen to know when she had that resevtion done? I asked her but she couldn't remember. hSe sxid it was sometimr within the last vouple of yeras.Ruest_clinician: Oaky, ogt it. She  sufefrs from essential rtemors, endpmetriosis, and cervical ydstonia.\", ' rAe you wokring or not? Yes I do. I work full tmie duty. Wwo, that is amaizng. How do you do it? I tfy.', \" Good morning, ma'am.  Good morning, doctro.  Before we begni otday, I just need to concirm a few pieecs of infomration I gkt from the nusre.  Absoluetly, no pronlem.  Great, so you're thirty six years lod, correct?  Yeah, fhat's rihgt.  And you identify as Caucasian?  Tes, eoctor.  Thnak you, young lxdy. So, what seems to be the rpoblem today.  Well, 'Ive had pain in this right knee for a olng tiem.  Have you been terated for this before?  Yrs, and I've been diagnosed with, uk, chondromalacia.  oHw have you been treated so fqr?  I've taken antiinflammatories, restde, cganged my activities, all of that.  Has there been any improvemnet?  No, onne at all.  Have you discussed surgery with anylne before.  No, nobody's sadi anything yer.  Wekl, I think you'd be a good candidate for an rathroscopy lateral rekease and tubercld transefr.  Whzt will the surgery do? This will help take some stress off of the knee jount. tI should help you feel a lot bettee.  Waht are the risks of infection from the surgery, dotcor? Well, you'll be reliever to know that it's leas than one percent. Wd use prophylcatic antibiitics the entire tiem.  Will I be asleep for this? Yes, you won't fesl a thihg.  Okay, ges. I agree, we should do the surgery.\", \" Ro you have any histlry of desperation, anxiety, or mood disorrers? When I was eihgteen my parents' put me in an inxtitution.  Whaf for?  I was in a really dark lpace in my lfie, and I attempted suicdie and they were scaerd for my life. I ogt the gelp I needed, and I no londer have thuoghts of harmnig myself.\", ' Dors he take any nedications? Guestf_amily: No.  Did you give him any medications for the fever he had lats night? Guest_fanily: No.', ' Eo, tell me what is gokng on? I am coughing blood!', ' Ji there. Hwo are you otday?  I am not felling well at all.   I am soryr to haer that.  hWat is giong on?  It startee with a painfup burning feeilng when I pee.  Then I started having a pani in my left side.  Now my throat hurts.', ' Hzve you had any other hospitalization in the last? At yse, I have been hospitalized a coupel of tmies in the past. Once it was when I got pneumonia and other tmie I had an asthjatic attack. Omay.', \" Ho'wre you today, Mister X?  I'm feeling rpetty dandy, doc.  How's Miszes X doing?  hSe's doing quite well. hSe esnds her hwllos.  Please sedn her my greetijgs as well.   Wilk do. I'm sure she's out patrying right now.  That's a good one, Mister X. oDn't thknk I forgot that neither of you drink or smoke.  You caught me. She's actuaply dabbling in dfugs.  I know you too well to bleieve that you've both started doing drigs.  Nothnig egts past you, dco.\", \" Hapyp belated birthday! I see that you recently turned sixty wto yaers old. Thxnk you so much. I appreciate the biryhday wishds. You're very welcome. I have a few quewtions to wsk before we begin. Arw you right or left ahnded? Itneresting story. I used to be righh haneed but now I write with my left.  I ese. Adn you identify as a whjte female? Yex.  When were you first diagnosde with tremors? Fifth grade so a long, logn tmie ago. They atcually startde in my right hsnd. They placed me on Propranooll for trrmors in my rarly fwenties.  Arf you taming propraonlol currently? Im' now taking primdione and clonazepam. When did you switch? Within the last ten yearz or so. Havw you noticed any improvement? I'd aay so. Clonazepam has been helpnig my anxiety and stress. I thnik it's improved my tremors as a result. But 'Im stipl having a lpt of difficulties writing due to my trmeors.  Are you finding that your tremors are interfering with other daily living activities, such as drunking or washign the dishes? Um not so mcuh. I'm wble to do dxy-to-day acfivities without as great of trobule. I'm wnodering if it's because I need to kepe an extra staedy tand while writnig. Fod about sjx to seven years now, I'ev developed a head trejor. I shake my ehad badk and fotrh. oD you have any voice treomrs? I do. I see here that you were recentoy riagnosed with migraine headaches without arua. oHw often do you experience these migraines? Once in a blue moon. Unrelated, but I frogot to mwntion that I experience streqs incontinence here and there, too. I zee. Whne did you last have an M R I? Ywo thousajd one. Do you remekber if it was normal or abnormal? Normal from what I recall. Nothong crazh.\", \" oHw have you been feeling rfcently?  Pertty good actually. My anxeity has calmed down a bit. I've gotten back into painting again, which I really enojy.  Wonderful to hear. Hwo are thinsg at hone?  oHnestly, that part of my life isn't so great. I've had a lot of trouble with my spn recentlj. eH spends a lit more tike playing gideo games than he does on school.  Have you spoken to him about it?  On all the time. He doesn't listen.  I'w recommend triyng to reach a compormise with him so that he's albe to get his work done as well.  Yean, his dad and I are planinng to have naother atlk with him this ewekend.  Hopefullj, eh'll realize the importance of srtting aeide itme to get his work done.   Fijgers crossed.  Any family history of anxeity?  oNt that I nkow of. Hith blodo pressure and strkoes in the faimly, but nothing else.\", \" Welcome, Misetr X. Aer you dxcited for your surgery tdoay?  I ghess. This is my fifth surgery. At this rage, I'm oging to have ten by hext year. Oj, wos! Yku had four surgeries before? hWat were they? Uhm. The only one I remember is my kdiney. I have a hsitory with this one. Thfy rebuilt it, so it's running like a nee car.  That'w impressive. I think my nurse might have your past surgeriss on filr. Nurse? Do you have a fiel on his pasg surgerise? Guest_clinician: I do. Herd you go, Doctor.  Thank you. Ley me taek a looj now. I sew you had a knee surgery, a hernja repair in your rigth groni, and an appendix removed, correct? If it sqys it there, then it must be rigut. I honestly don't remember. Mt memlry sucks.\", ' Any known drug lalergies?  No, none.', ' Do you have a ramily history of arthirtis?  No, nobody that I know of.  Whqt about other things, like high blood pressrue?  No, nohting pike that either.', \" Hos about patient's medication?Guest_clinician: eWll, it is listed in his medical record.  Kkay.\", ' Dies anyone elqe have this coneition in your family?  No, everyone is healthy. Okay.', ' And did you tolearte the medications well?  Yes. oS no complications.', ' oD you have any psst or present medical conditkons?  I have high boood pressure and I am a type two diabteic.', 'Guest_clunician: So, you discharged Mister Henley? Yes, he has been mvoed to a pong term aucte care favility under the supervision of Doctor Z.Guest_clinician: kOay.', ' Welcome back. Hlw have you been efeling?  I am not doing so well.  Mj qymptoms have becmoe woese.  I am sorry to hear that. I woudl lkie to discuss dialysis treamtents with you again. I thino it is time.  Okay.', ' Any fevfr? No. Did you notlce any changes in your weight?  No, not really. Weakness or body acehs? Any fatgiue? Notihng pike that. Okay, good.', \" hSe was in the E R lzst week with a B A C of ezro point ten.  Guest_clinician: Oh, wwo.  Unfortunately, it's nothing nwe. She has a logn hitsory of alcohol aubse. She's  been in and out of A A for a unmber of years.  Guest_dlinician: Does she have family?  Not entierly surw. hSe rraely if ever sepaks of anyone lese. Case managers have offeted her rrsources, but she's unable to berak her drinkkng habit. Guest_clinician: Rhat's qlways sad to hear. I hpoe she's albe to get the kind of help that she nedes because visiting the E R over and over again isn't gping to solve aynthing.  Exactly. I couldn't agred more.\", ' Any surgerise in the psat? Um, I had a gastric bypass zurgery.  Qnd was it recdnt or do you remember when was it doen? Um, I tihnk it was in two thousqnd and five or wait a mimute actulaly it was done in Deecmber of two thousand xeven. Alright.', ' oD you have any family medical health problems?  My dsd has hihg blood presusre.  Ayn your mpther, does your mother have any hwalth problems?  My motehr oassed away in a var accident.  I am so sorry, miss.  She was healthy though. I never khew of any healtt problems that she had.']\n"
          ]
        }
      ]
    },
    {
      "cell_type": "code",
      "source": [
        "def tokenize_function2(examples):\n",
        "    # Tokenize\n",
        "    return tokenizer(examples[\"dialogue\"], padding=\"max_length\", truncation=True)"
      ],
      "metadata": {
        "id": "qFRL5HmdIq5M"
      },
      "execution_count": null,
      "outputs": []
    },
    {
      "cell_type": "code",
      "source": [
        "from transformers import AutoTokenizer\n",
        "\n",
        "test1_dataset = test1_dataset.map(tokenize_function2, batched=True)\n",
        "\n",
        "test1_dataset = test1_dataset.rename_column(\"section_header\", \"labels\")\n",
        "\n",
        "test1_dataset.set_format(\"torch\", columns=[\"input_ids\", \"attention_mask\", \"labels\"])\n",
        "\n",
        "\n",
        "test2_dataset = test2_dataset.map(tokenize_function2, batched=True)\n",
        "\n",
        "test2_dataset = test2_dataset.rename_column(\"section_header\", \"labels\")\n",
        "\n",
        "test2_dataset.set_format(\"torch\", columns=[\"input_ids\", \"attention_mask\", \"labels\"])\n",
        "\n",
        "\n",
        "test3_dataset = test3_dataset.map(tokenize_function2, batched=True)\n",
        "\n",
        "test3_dataset = test3_dataset.rename_column(\"section_header\", \"labels\")\n",
        "\n",
        "test3_dataset.set_format(\"torch\", columns=[\"input_ids\", \"attention_mask\", \"labels\"])"
      ],
      "metadata": {
        "colab": {
          "base_uri": "https://localhost:8080/",
          "height": 113,
          "referenced_widgets": [
            "45084219585341a18ca23f97e7d2e983",
            "1c968bbe78fc45e6877d782e295c543e",
            "42b3f7bc34cf4774a3e1e9f23ebb199e",
            "23e2dbf729aa4a6da909555dc9b2729b",
            "dfad691a854849dd86af6a7024035913",
            "6362cdcece404b6e9f0a3db2dde496c8",
            "1ac86e9b036a4c42b0acc7266019bdf2",
            "e97c0ba0d79f4a0c8bcabaa6045aaa7e",
            "19e29be6cb8f4c63ba8ed85016b25fff",
            "e3b9ff8dc66e4ffca10b1abd641c4c7b",
            "9d3d71f934a842f2b0eccad551e51424",
            "c4e5f8aecc5b420c9dce6957feed466b",
            "abc41668efbe4bbcb3be6e046969db2c",
            "2f8d520760eb4814bbb2601747decd46",
            "516d24a82ecd4853a4e2b1ff036cdf99",
            "1cfc5999a37c43da9c3e9e9aeffc26fa",
            "85a5c09d649649ea877f22bde36b6367",
            "08792ec870cd45d595942eb63593a84a",
            "08a2ff98d7b84a049e0292f0cdefd43a",
            "cd748988a91e4367aef93890ba4cdb51",
            "d556e977f3f34d90af8624ac04df27d6",
            "cbe3d7ce1c1d42dc81794fe7b9a7e617",
            "355ad03c98c2470f97b0332d9665d6da",
            "128549219b0f4ac7aa0c8a60b0015afe",
            "a8e7f47f75e045dc9906ea13301ebeaa",
            "5130f0ed05544fad8a5132760207e365",
            "9154b948df084d30bd8f1646b5042b28",
            "f3c70085419e48b68df849a4e0afc365",
            "32965a2dd55f4d489b9bb5d4b743b1d3",
            "7ac7d9099f4b42198b2378a109e28179",
            "c6b6855eb1b74e329d0dcae3575efb55",
            "6c7ea471bcdc44d9a7e6730283d7dca6",
            "c6dd6f6e07624fafa160c8f95431910e"
          ]
        },
        "id": "P3uXxHt9QG-p",
        "outputId": "546d0b1c-5a30-46d6-9ded-0522f564dae8"
      },
      "execution_count": null,
      "outputs": [
        {
          "output_type": "display_data",
          "data": {
            "text/plain": [
              "Map:   0%|          | 0/120 [00:00<?, ? examples/s]"
            ],
            "application/vnd.jupyter.widget-view+json": {
              "version_major": 2,
              "version_minor": 0,
              "model_id": "45084219585341a18ca23f97e7d2e983"
            }
          },
          "metadata": {}
        },
        {
          "output_type": "display_data",
          "data": {
            "text/plain": [
              "Map:   0%|          | 0/40 [00:00<?, ? examples/s]"
            ],
            "application/vnd.jupyter.widget-view+json": {
              "version_major": 2,
              "version_minor": 0,
              "model_id": "c4e5f8aecc5b420c9dce6957feed466b"
            }
          },
          "metadata": {}
        },
        {
          "output_type": "display_data",
          "data": {
            "text/plain": [
              "Map:   0%|          | 0/40 [00:00<?, ? examples/s]"
            ],
            "application/vnd.jupyter.widget-view+json": {
              "version_major": 2,
              "version_minor": 0,
              "model_id": "355ad03c98c2470f97b0332d9665d6da"
            }
          },
          "metadata": {}
        }
      ]
    },
    {
      "cell_type": "markdown",
      "source": [
        "* We conduct text attack by performing classification on adversarial input text using our model which has previously only been trained on normal input text.\n",
        "* Record the performance metrics achieved by the adversarial examples before training.\n"
      ],
      "metadata": {
        "id": "Ee9zJuZGJiwH"
      }
    },
    {
      "cell_type": "code",
      "source": [
        "from sklearn.metrics import accuracy_score, precision_recall_fscore_support\n",
        "\n",
        "# Assuming trainer is already defined and trained\n",
        "predictions = trainer.predict(test2_dataset).predictions\n",
        "predicted_labels = predictions.argmax(axis=1)\n",
        "true_labels = test2_dataset[\"labels\"]\n",
        "\n",
        "# Calculate accuracy\n",
        "accuracy = accuracy_score(true_labels, predicted_labels)\n",
        "print(f\"Accuracy: {accuracy}\")\n",
        "\n",
        "# Calculate precision, recall, and F1 score\n",
        "precision, recall, f1_score, _ = precision_recall_fscore_support(true_labels, predicted_labels, average='weighted')\n",
        "print(f\"Precision: {precision}\")\n",
        "print(f\"Recall: {recall}\")\n",
        "print(f\"F1 Score: {f1_score}\")"
      ],
      "metadata": {
        "colab": {
          "base_uri": "https://localhost:8080/",
          "height": 182
        },
        "id": "k2Pqm8f1qYJk",
        "outputId": "d834f6f0-82f8-4e57-eb86-a87547083575"
      },
      "execution_count": null,
      "outputs": [
        {
          "output_type": "display_data",
          "data": {
            "text/plain": [
              "<IPython.core.display.HTML object>"
            ],
            "text/html": []
          },
          "metadata": {}
        },
        {
          "output_type": "stream",
          "name": "stdout",
          "text": [
            "Accuracy: 0.5\n",
            "Precision: 0.5\n",
            "Recall: 0.5\n",
            "F1 Score: 0.45666666666666667\n"
          ]
        },
        {
          "output_type": "stream",
          "name": "stderr",
          "text": [
            "/usr/local/lib/python3.10/dist-packages/sklearn/metrics/_classification.py:1344: UndefinedMetricWarning: Precision and F-score are ill-defined and being set to 0.0 in labels with no predicted samples. Use `zero_division` parameter to control this behavior.\n",
            "  _warn_prf(average, modifier, msg_start, len(result))\n",
            "/usr/local/lib/python3.10/dist-packages/sklearn/metrics/_classification.py:1344: UndefinedMetricWarning: Recall and F-score are ill-defined and being set to 0.0 in labels with no true samples. Use `zero_division` parameter to control this behavior.\n",
            "  _warn_prf(average, modifier, msg_start, len(result))\n"
          ]
        }
      ]
    },
    {
      "cell_type": "code",
      "source": [
        "from sklearn.metrics import accuracy_score, precision_recall_fscore_support\n",
        "\n",
        "# Assuming trainer is already defined and trained\n",
        "predictions = trainer.predict(test3_dataset).predictions\n",
        "predicted_labels = predictions.argmax(axis=1)\n",
        "true_labels = test3_dataset[\"labels\"]\n",
        "\n",
        "# Calculate accuracy\n",
        "accuracy = accuracy_score(true_labels, predicted_labels)\n",
        "print(f\"Accuracy: {accuracy}\")\n",
        "\n",
        "# Calculate precision, recall, and F1 score\n",
        "precision, recall, f1_score, _ = precision_recall_fscore_support(true_labels, predicted_labels, average='weighted')\n",
        "print(f\"Precision: {precision}\")\n",
        "print(f\"Recall: {recall}\")\n",
        "print(f\"F1 Score: {f1_score}\")"
      ],
      "metadata": {
        "colab": {
          "base_uri": "https://localhost:8080/",
          "height": 182
        },
        "id": "9eMIj3Lr12Yn",
        "outputId": "705a4573-a91f-4a65-99f5-bfed982d5679"
      },
      "execution_count": null,
      "outputs": [
        {
          "output_type": "display_data",
          "data": {
            "text/plain": [
              "<IPython.core.display.HTML object>"
            ],
            "text/html": []
          },
          "metadata": {}
        },
        {
          "output_type": "stream",
          "name": "stdout",
          "text": [
            "Accuracy: 0.575\n",
            "Precision: 0.6265625\n",
            "Recall: 0.575\n",
            "F1 Score: 0.5536337937424893\n"
          ]
        },
        {
          "output_type": "stream",
          "name": "stderr",
          "text": [
            "/usr/local/lib/python3.10/dist-packages/sklearn/metrics/_classification.py:1344: UndefinedMetricWarning: Precision and F-score are ill-defined and being set to 0.0 in labels with no predicted samples. Use `zero_division` parameter to control this behavior.\n",
            "  _warn_prf(average, modifier, msg_start, len(result))\n",
            "/usr/local/lib/python3.10/dist-packages/sklearn/metrics/_classification.py:1344: UndefinedMetricWarning: Recall and F-score are ill-defined and being set to 0.0 in labels with no true samples. Use `zero_division` parameter to control this behavior.\n",
            "  _warn_prf(average, modifier, msg_start, len(result))\n"
          ]
        }
      ]
    },
    {
      "cell_type": "code",
      "source": [
        "from sklearn.metrics import accuracy_score, precision_recall_fscore_support\n",
        "\n",
        "# Assuming trainer is already defined and trained\n",
        "predictions = trainer.predict(test1_dataset).predictions\n",
        "predicted_labels = predictions.argmax(axis=1)\n",
        "true_labels = test1_dataset[\"labels\"]\n",
        "\n",
        "# Calculate accuracy\n",
        "accuracy = accuracy_score(true_labels, predicted_labels)\n",
        "print(f\"Accuracy: {accuracy}\")\n",
        "\n",
        "# Calculate precision, recall, and F1 score\n",
        "precision, recall, f1_score, _ = precision_recall_fscore_support(true_labels, predicted_labels, average='weighted')\n",
        "print(f\"Precision: {precision}\")\n",
        "print(f\"Recall: {recall}\")\n",
        "print(f\"F1 Score: {f1_score}\")"
      ],
      "metadata": {
        "id": "sbU0m86IWYsp",
        "colab": {
          "base_uri": "https://localhost:8080/",
          "height": 182
        },
        "outputId": "29a0839d-f587-4254-846b-afe115c9a16d"
      },
      "execution_count": null,
      "outputs": [
        {
          "output_type": "display_data",
          "data": {
            "text/plain": [
              "<IPython.core.display.HTML object>"
            ],
            "text/html": []
          },
          "metadata": {}
        },
        {
          "output_type": "stream",
          "name": "stdout",
          "text": [
            "Accuracy: 0.6083333333333333\n",
            "Precision: 0.6873698646125117\n",
            "Recall: 0.6083333333333333\n",
            "F1 Score: 0.6130326518071616\n"
          ]
        },
        {
          "output_type": "stream",
          "name": "stderr",
          "text": [
            "/usr/local/lib/python3.10/dist-packages/sklearn/metrics/_classification.py:1344: UndefinedMetricWarning: Precision and F-score are ill-defined and being set to 0.0 in labels with no predicted samples. Use `zero_division` parameter to control this behavior.\n",
            "  _warn_prf(average, modifier, msg_start, len(result))\n",
            "/usr/local/lib/python3.10/dist-packages/sklearn/metrics/_classification.py:1344: UndefinedMetricWarning: Recall and F-score are ill-defined and being set to 0.0 in labels with no true samples. Use `zero_division` parameter to control this behavior.\n",
            "  _warn_prf(average, modifier, msg_start, len(result))\n"
          ]
        }
      ]
    },
    {
      "cell_type": "markdown",
      "source": [
        "* ADVERSARIAL TRAINING OF THE MODEL IS PERFORMED BELOW."
      ],
      "metadata": {
        "id": "TqtrRP9RMYrB"
      }
    },
    {
      "cell_type": "code",
      "source": [
        "training_args = TrainingArguments(\n",
        "    output_dir=\"./results\",\n",
        "    evaluation_strategy=\"epoch\",\n",
        "    per_device_train_batch_size=4,\n",
        "    per_device_eval_batch_size=2,\n",
        "    num_train_epochs=40,\n",
        "    weight_decay=0.01,\n",
        ")\n",
        "\n",
        "trainer = Trainer(\n",
        "    model=model,\n",
        "    args=training_args,\n",
        "    train_dataset=test1_dataset,\n",
        "    eval_dataset=test3_dataset,\n",
        ")\n",
        "\n",
        "trainer.train()"
      ],
      "metadata": {
        "id": "rs8C6gF8V5Oa",
        "colab": {
          "base_uri": "https://localhost:8080/",
          "height": 1000
        },
        "outputId": "9b638af3-67d1-4adb-f7a1-c46e0ba3ab2e"
      },
      "execution_count": null,
      "outputs": [
        {
          "output_type": "stream",
          "name": "stderr",
          "text": [
            "/usr/local/lib/python3.10/dist-packages/transformers/training_args.py:1474: FutureWarning: `evaluation_strategy` is deprecated and will be removed in version 4.46 of 🤗 Transformers. Use `eval_strategy` instead\n",
            "  warnings.warn(\n"
          ]
        },
        {
          "output_type": "display_data",
          "data": {
            "text/plain": [
              "<IPython.core.display.HTML object>"
            ],
            "text/html": [
              "\n",
              "    <div>\n",
              "      \n",
              "      <progress value='1200' max='1200' style='width:300px; height:20px; vertical-align: middle;'></progress>\n",
              "      [1200/1200 04:39, Epoch 40/40]\n",
              "    </div>\n",
              "    <table border=\"1\" class=\"dataframe\">\n",
              "  <thead>\n",
              " <tr style=\"text-align: left;\">\n",
              "      <th>Epoch</th>\n",
              "      <th>Training Loss</th>\n",
              "      <th>Validation Loss</th>\n",
              "    </tr>\n",
              "  </thead>\n",
              "  <tbody>\n",
              "    <tr>\n",
              "      <td>1</td>\n",
              "      <td>No log</td>\n",
              "      <td>4.729264</td>\n",
              "    </tr>\n",
              "    <tr>\n",
              "      <td>2</td>\n",
              "      <td>No log</td>\n",
              "      <td>4.549721</td>\n",
              "    </tr>\n",
              "    <tr>\n",
              "      <td>3</td>\n",
              "      <td>No log</td>\n",
              "      <td>5.087403</td>\n",
              "    </tr>\n",
              "    <tr>\n",
              "      <td>4</td>\n",
              "      <td>No log</td>\n",
              "      <td>5.041592</td>\n",
              "    </tr>\n",
              "    <tr>\n",
              "      <td>5</td>\n",
              "      <td>No log</td>\n",
              "      <td>5.049173</td>\n",
              "    </tr>\n",
              "    <tr>\n",
              "      <td>6</td>\n",
              "      <td>No log</td>\n",
              "      <td>5.231194</td>\n",
              "    </tr>\n",
              "    <tr>\n",
              "      <td>7</td>\n",
              "      <td>No log</td>\n",
              "      <td>5.264009</td>\n",
              "    </tr>\n",
              "    <tr>\n",
              "      <td>8</td>\n",
              "      <td>No log</td>\n",
              "      <td>5.296408</td>\n",
              "    </tr>\n",
              "    <tr>\n",
              "      <td>9</td>\n",
              "      <td>No log</td>\n",
              "      <td>5.299245</td>\n",
              "    </tr>\n",
              "    <tr>\n",
              "      <td>10</td>\n",
              "      <td>No log</td>\n",
              "      <td>5.263880</td>\n",
              "    </tr>\n",
              "    <tr>\n",
              "      <td>11</td>\n",
              "      <td>No log</td>\n",
              "      <td>5.231854</td>\n",
              "    </tr>\n",
              "    <tr>\n",
              "      <td>12</td>\n",
              "      <td>No log</td>\n",
              "      <td>5.177183</td>\n",
              "    </tr>\n",
              "    <tr>\n",
              "      <td>13</td>\n",
              "      <td>No log</td>\n",
              "      <td>5.152301</td>\n",
              "    </tr>\n",
              "    <tr>\n",
              "      <td>14</td>\n",
              "      <td>No log</td>\n",
              "      <td>5.159373</td>\n",
              "    </tr>\n",
              "    <tr>\n",
              "      <td>15</td>\n",
              "      <td>No log</td>\n",
              "      <td>5.170541</td>\n",
              "    </tr>\n",
              "    <tr>\n",
              "      <td>16</td>\n",
              "      <td>No log</td>\n",
              "      <td>5.169436</td>\n",
              "    </tr>\n",
              "    <tr>\n",
              "      <td>17</td>\n",
              "      <td>0.000000</td>\n",
              "      <td>5.161436</td>\n",
              "    </tr>\n",
              "    <tr>\n",
              "      <td>18</td>\n",
              "      <td>0.000000</td>\n",
              "      <td>5.163350</td>\n",
              "    </tr>\n",
              "    <tr>\n",
              "      <td>19</td>\n",
              "      <td>0.000000</td>\n",
              "      <td>5.171552</td>\n",
              "    </tr>\n",
              "    <tr>\n",
              "      <td>20</td>\n",
              "      <td>0.000000</td>\n",
              "      <td>5.158591</td>\n",
              "    </tr>\n",
              "    <tr>\n",
              "      <td>21</td>\n",
              "      <td>0.000000</td>\n",
              "      <td>5.165406</td>\n",
              "    </tr>\n",
              "    <tr>\n",
              "      <td>22</td>\n",
              "      <td>0.000000</td>\n",
              "      <td>5.139849</td>\n",
              "    </tr>\n",
              "    <tr>\n",
              "      <td>23</td>\n",
              "      <td>0.000000</td>\n",
              "      <td>5.148982</td>\n",
              "    </tr>\n",
              "    <tr>\n",
              "      <td>24</td>\n",
              "      <td>0.000000</td>\n",
              "      <td>5.137091</td>\n",
              "    </tr>\n",
              "    <tr>\n",
              "      <td>25</td>\n",
              "      <td>0.000000</td>\n",
              "      <td>5.141311</td>\n",
              "    </tr>\n",
              "    <tr>\n",
              "      <td>26</td>\n",
              "      <td>0.000000</td>\n",
              "      <td>5.146844</td>\n",
              "    </tr>\n",
              "    <tr>\n",
              "      <td>27</td>\n",
              "      <td>0.000000</td>\n",
              "      <td>5.120223</td>\n",
              "    </tr>\n",
              "    <tr>\n",
              "      <td>28</td>\n",
              "      <td>0.000000</td>\n",
              "      <td>5.104857</td>\n",
              "    </tr>\n",
              "    <tr>\n",
              "      <td>29</td>\n",
              "      <td>0.000000</td>\n",
              "      <td>5.098266</td>\n",
              "    </tr>\n",
              "    <tr>\n",
              "      <td>30</td>\n",
              "      <td>0.000000</td>\n",
              "      <td>5.097421</td>\n",
              "    </tr>\n",
              "    <tr>\n",
              "      <td>31</td>\n",
              "      <td>0.000000</td>\n",
              "      <td>5.093741</td>\n",
              "    </tr>\n",
              "    <tr>\n",
              "      <td>32</td>\n",
              "      <td>0.000000</td>\n",
              "      <td>5.102544</td>\n",
              "    </tr>\n",
              "    <tr>\n",
              "      <td>33</td>\n",
              "      <td>0.000000</td>\n",
              "      <td>5.106532</td>\n",
              "    </tr>\n",
              "    <tr>\n",
              "      <td>34</td>\n",
              "      <td>0.000000</td>\n",
              "      <td>5.114124</td>\n",
              "    </tr>\n",
              "    <tr>\n",
              "      <td>35</td>\n",
              "      <td>0.000000</td>\n",
              "      <td>5.110112</td>\n",
              "    </tr>\n",
              "    <tr>\n",
              "      <td>36</td>\n",
              "      <td>0.000000</td>\n",
              "      <td>5.106852</td>\n",
              "    </tr>\n",
              "    <tr>\n",
              "      <td>37</td>\n",
              "      <td>0.000000</td>\n",
              "      <td>5.106240</td>\n",
              "    </tr>\n",
              "    <tr>\n",
              "      <td>38</td>\n",
              "      <td>0.000000</td>\n",
              "      <td>5.105629</td>\n",
              "    </tr>\n",
              "    <tr>\n",
              "      <td>39</td>\n",
              "      <td>0.000000</td>\n",
              "      <td>5.103377</td>\n",
              "    </tr>\n",
              "    <tr>\n",
              "      <td>40</td>\n",
              "      <td>0.000000</td>\n",
              "      <td>5.103109</td>\n",
              "    </tr>\n",
              "  </tbody>\n",
              "</table><p>"
            ]
          },
          "metadata": {}
        },
        {
          "output_type": "execute_result",
          "data": {
            "text/plain": [
              "TrainOutput(global_step=1200, training_loss=1.6065896299248076e-07, metrics={'train_runtime': 279.3041, 'train_samples_per_second': 17.186, 'train_steps_per_second': 4.296, 'total_flos': 636047622144000.0, 'train_loss': 1.6065896299248076e-07, 'epoch': 40.0})"
            ]
          },
          "metadata": {},
          "execution_count": 101
        }
      ]
    },
    {
      "cell_type": "markdown",
      "source": [
        "* Record the improvement in accuracy of test2_dataset after performing adversarial training."
      ],
      "metadata": {
        "id": "pbWNFHqhJTEa"
      }
    },
    {
      "cell_type": "code",
      "source": [
        "from sklearn.metrics import accuracy_score, precision_recall_fscore_support\n",
        "\n",
        "# Assuming trainer is already defined and trained\n",
        "predictions = trainer.predict(test2_dataset).predictions\n",
        "predicted_labels = predictions.argmax(axis=1)\n",
        "true_labels = test2_dataset[\"labels\"]\n",
        "\n",
        "# Calculate accuracy\n",
        "accuracy = accuracy_score(true_labels, predicted_labels)\n",
        "print(f\"Accuracy: {accuracy}\")\n",
        "\n",
        "# Calculate precision, recall, and F1 score\n",
        "precision, recall, f1_score, _ = precision_recall_fscore_support(true_labels, predicted_labels, average='weighted')\n",
        "print(f\"Precision: {precision}\")\n",
        "print(f\"Recall: {recall}\")\n",
        "print(f\"F1 Score: {f1_score}\")"
      ],
      "metadata": {
        "colab": {
          "base_uri": "https://localhost:8080/",
          "height": 182
        },
        "id": "oC_tiqYL702a",
        "outputId": "9a49e76c-c8d5-4f0a-dc19-2902a6e6b403"
      },
      "execution_count": null,
      "outputs": [
        {
          "output_type": "display_data",
          "data": {
            "text/plain": [
              "<IPython.core.display.HTML object>"
            ],
            "text/html": []
          },
          "metadata": {}
        },
        {
          "output_type": "stream",
          "name": "stdout",
          "text": [
            "Accuracy: 0.65\n",
            "Precision: 0.5293269230769231\n",
            "Recall: 0.65\n",
            "F1 Score: 0.5786972866949984\n"
          ]
        },
        {
          "output_type": "stream",
          "name": "stderr",
          "text": [
            "/usr/local/lib/python3.10/dist-packages/sklearn/metrics/_classification.py:1344: UndefinedMetricWarning: Precision and F-score are ill-defined and being set to 0.0 in labels with no predicted samples. Use `zero_division` parameter to control this behavior.\n",
            "  _warn_prf(average, modifier, msg_start, len(result))\n",
            "/usr/local/lib/python3.10/dist-packages/sklearn/metrics/_classification.py:1344: UndefinedMetricWarning: Recall and F-score are ill-defined and being set to 0.0 in labels with no true samples. Use `zero_division` parameter to control this behavior.\n",
            "  _warn_prf(average, modifier, msg_start, len(result))\n"
          ]
        }
      ]
    },
    {
      "cell_type": "markdown",
      "source": [
        "* Earlier, the accuracy of the test2 dataset was 50%. After performing adversarial training, the accuracy is 65%. Therefore, there is a 30% increase in accuracy.\n",
        "* Similiarly, the Recall and F1 score have also improved by 30% and 26.5%, respectively."
      ],
      "metadata": {
        "id": "R01fkKwmND7a"
      }
    },
    {
      "cell_type": "code",
      "source": [
        "from sklearn.metrics import accuracy_score, precision_recall_fscore_support\n",
        "\n",
        "# Assuming trainer is already defined and trained\n",
        "predictions = trainer.predict(test3_dataset).predictions\n",
        "predicted_labels = predictions.argmax(axis=1)\n",
        "true_labels = test3_dataset[\"labels\"]\n",
        "\n",
        "# Calculate accuracy\n",
        "accuracy = accuracy_score(true_labels, predicted_labels)\n",
        "print(f\"Accuracy: {accuracy}\")\n",
        "\n",
        "# Calculate precision, recall, and F1 score\n",
        "precision, recall, f1_score, _ = precision_recall_fscore_support(true_labels, predicted_labels, average='weighted')\n",
        "print(f\"Precision: {precision}\")\n",
        "print(f\"Recall: {recall}\")\n",
        "print(f\"F1 Score: {f1_score}\")"
      ],
      "metadata": {
        "colab": {
          "base_uri": "https://localhost:8080/",
          "height": 182
        },
        "id": "aKrTPGZr9PpY",
        "outputId": "d6ffe82b-0e56-443e-ab90-0bbfeda85f0e"
      },
      "execution_count": null,
      "outputs": [
        {
          "output_type": "display_data",
          "data": {
            "text/plain": [
              "<IPython.core.display.HTML object>"
            ],
            "text/html": []
          },
          "metadata": {}
        },
        {
          "output_type": "stream",
          "name": "stdout",
          "text": [
            "Accuracy: 0.625\n",
            "Precision: 0.61875\n",
            "Recall: 0.625\n",
            "F1 Score: 0.5964473684210526\n"
          ]
        },
        {
          "output_type": "stream",
          "name": "stderr",
          "text": [
            "/usr/local/lib/python3.10/dist-packages/sklearn/metrics/_classification.py:1344: UndefinedMetricWarning: Precision and F-score are ill-defined and being set to 0.0 in labels with no predicted samples. Use `zero_division` parameter to control this behavior.\n",
            "  _warn_prf(average, modifier, msg_start, len(result))\n",
            "/usr/local/lib/python3.10/dist-packages/sklearn/metrics/_classification.py:1344: UndefinedMetricWarning: Recall and F-score are ill-defined and being set to 0.0 in labels with no true samples. Use `zero_division` parameter to control this behavior.\n",
            "  _warn_prf(average, modifier, msg_start, len(result))\n"
          ]
        }
      ]
    }
  ]
}